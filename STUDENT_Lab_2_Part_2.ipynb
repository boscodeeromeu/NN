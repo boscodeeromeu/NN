{
  "nbformat": 4,
  "nbformat_minor": 0,
  "metadata": {
    "kernelspec": {
      "display_name": "Python 3",
      "language": "python",
      "name": "python3"
    },
    "language_info": {
      "codemirror_mode": {
        "name": "ipython",
        "version": 3
      },
      "file_extension": ".py",
      "mimetype": "text/x-python",
      "name": "python",
      "nbconvert_exporter": "python",
      "pygments_lexer": "ipython3",
      "version": "3.7.3"
    },
    "colab": {
      "name": "STUDENT_Lab_2_Part_2.ipynb",
      "provenance": [],
      "collapsed_sections": [],
      "include_colab_link": true
    },
    "widgets": {
      "application/vnd.jupyter.widget-state+json": {
        "313b7cf2c50843d48c7da3738f7e8801": {
          "model_module": "@jupyter-widgets/controls",
          "model_name": "HBoxModel",
          "state": {
            "_view_name": "HBoxView",
            "_dom_classes": [],
            "_model_name": "HBoxModel",
            "_view_module": "@jupyter-widgets/controls",
            "_model_module_version": "1.5.0",
            "_view_count": null,
            "_view_module_version": "1.5.0",
            "box_style": "",
            "layout": "IPY_MODEL_62dff0b2855c4414827b354e3cfb49a2",
            "_model_module": "@jupyter-widgets/controls",
            "children": [
              "IPY_MODEL_61c169c28d454afeae3138b66b6f9397",
              "IPY_MODEL_484d5753a13d413d8ec9e6b6915dd160"
            ]
          }
        },
        "62dff0b2855c4414827b354e3cfb49a2": {
          "model_module": "@jupyter-widgets/base",
          "model_name": "LayoutModel",
          "state": {
            "_view_name": "LayoutView",
            "grid_template_rows": null,
            "right": null,
            "justify_content": null,
            "_view_module": "@jupyter-widgets/base",
            "overflow": null,
            "_model_module_version": "1.2.0",
            "_view_count": null,
            "flex_flow": null,
            "width": null,
            "min_width": null,
            "border": null,
            "align_items": null,
            "bottom": null,
            "_model_module": "@jupyter-widgets/base",
            "top": null,
            "grid_column": null,
            "overflow_y": null,
            "overflow_x": null,
            "grid_auto_flow": null,
            "grid_area": null,
            "grid_template_columns": null,
            "flex": null,
            "_model_name": "LayoutModel",
            "justify_items": null,
            "grid_row": null,
            "max_height": null,
            "align_content": null,
            "visibility": null,
            "align_self": null,
            "height": null,
            "min_height": null,
            "padding": null,
            "grid_auto_rows": null,
            "grid_gap": null,
            "max_width": null,
            "order": null,
            "_view_module_version": "1.2.0",
            "grid_template_areas": null,
            "object_position": null,
            "object_fit": null,
            "grid_auto_columns": null,
            "margin": null,
            "display": null,
            "left": null
          }
        },
        "61c169c28d454afeae3138b66b6f9397": {
          "model_module": "@jupyter-widgets/controls",
          "model_name": "FloatProgressModel",
          "state": {
            "_view_name": "ProgressView",
            "style": "IPY_MODEL_79ccd4c6e4b84d69a589e347d235edf9",
            "_dom_classes": [],
            "description": "",
            "_model_name": "FloatProgressModel",
            "bar_style": "success",
            "max": 26421880,
            "_view_module": "@jupyter-widgets/controls",
            "_model_module_version": "1.5.0",
            "value": 26421880,
            "_view_count": null,
            "_view_module_version": "1.5.0",
            "orientation": "horizontal",
            "min": 0,
            "description_tooltip": null,
            "_model_module": "@jupyter-widgets/controls",
            "layout": "IPY_MODEL_79135a2e2e0d4e2ca1da24be73e79400"
          }
        },
        "484d5753a13d413d8ec9e6b6915dd160": {
          "model_module": "@jupyter-widgets/controls",
          "model_name": "HTMLModel",
          "state": {
            "_view_name": "HTMLView",
            "style": "IPY_MODEL_25ec174a66d948a6b4b90bedf6fd80f1",
            "_dom_classes": [],
            "description": "",
            "_model_name": "HTMLModel",
            "placeholder": "​",
            "_view_module": "@jupyter-widgets/controls",
            "_model_module_version": "1.5.0",
            "value": " 26422272/? [00:02&lt;00:00, 9586283.97it/s]",
            "_view_count": null,
            "_view_module_version": "1.5.0",
            "description_tooltip": null,
            "_model_module": "@jupyter-widgets/controls",
            "layout": "IPY_MODEL_e77c44c782aa4d41ba7e5b8ab284a18f"
          }
        },
        "79ccd4c6e4b84d69a589e347d235edf9": {
          "model_module": "@jupyter-widgets/controls",
          "model_name": "ProgressStyleModel",
          "state": {
            "_view_name": "StyleView",
            "_model_name": "ProgressStyleModel",
            "description_width": "initial",
            "_view_module": "@jupyter-widgets/base",
            "_model_module_version": "1.5.0",
            "_view_count": null,
            "_view_module_version": "1.2.0",
            "bar_color": null,
            "_model_module": "@jupyter-widgets/controls"
          }
        },
        "79135a2e2e0d4e2ca1da24be73e79400": {
          "model_module": "@jupyter-widgets/base",
          "model_name": "LayoutModel",
          "state": {
            "_view_name": "LayoutView",
            "grid_template_rows": null,
            "right": null,
            "justify_content": null,
            "_view_module": "@jupyter-widgets/base",
            "overflow": null,
            "_model_module_version": "1.2.0",
            "_view_count": null,
            "flex_flow": null,
            "width": null,
            "min_width": null,
            "border": null,
            "align_items": null,
            "bottom": null,
            "_model_module": "@jupyter-widgets/base",
            "top": null,
            "grid_column": null,
            "overflow_y": null,
            "overflow_x": null,
            "grid_auto_flow": null,
            "grid_area": null,
            "grid_template_columns": null,
            "flex": null,
            "_model_name": "LayoutModel",
            "justify_items": null,
            "grid_row": null,
            "max_height": null,
            "align_content": null,
            "visibility": null,
            "align_self": null,
            "height": null,
            "min_height": null,
            "padding": null,
            "grid_auto_rows": null,
            "grid_gap": null,
            "max_width": null,
            "order": null,
            "_view_module_version": "1.2.0",
            "grid_template_areas": null,
            "object_position": null,
            "object_fit": null,
            "grid_auto_columns": null,
            "margin": null,
            "display": null,
            "left": null
          }
        },
        "25ec174a66d948a6b4b90bedf6fd80f1": {
          "model_module": "@jupyter-widgets/controls",
          "model_name": "DescriptionStyleModel",
          "state": {
            "_view_name": "StyleView",
            "_model_name": "DescriptionStyleModel",
            "description_width": "",
            "_view_module": "@jupyter-widgets/base",
            "_model_module_version": "1.5.0",
            "_view_count": null,
            "_view_module_version": "1.2.0",
            "_model_module": "@jupyter-widgets/controls"
          }
        },
        "e77c44c782aa4d41ba7e5b8ab284a18f": {
          "model_module": "@jupyter-widgets/base",
          "model_name": "LayoutModel",
          "state": {
            "_view_name": "LayoutView",
            "grid_template_rows": null,
            "right": null,
            "justify_content": null,
            "_view_module": "@jupyter-widgets/base",
            "overflow": null,
            "_model_module_version": "1.2.0",
            "_view_count": null,
            "flex_flow": null,
            "width": null,
            "min_width": null,
            "border": null,
            "align_items": null,
            "bottom": null,
            "_model_module": "@jupyter-widgets/base",
            "top": null,
            "grid_column": null,
            "overflow_y": null,
            "overflow_x": null,
            "grid_auto_flow": null,
            "grid_area": null,
            "grid_template_columns": null,
            "flex": null,
            "_model_name": "LayoutModel",
            "justify_items": null,
            "grid_row": null,
            "max_height": null,
            "align_content": null,
            "visibility": null,
            "align_self": null,
            "height": null,
            "min_height": null,
            "padding": null,
            "grid_auto_rows": null,
            "grid_gap": null,
            "max_width": null,
            "order": null,
            "_view_module_version": "1.2.0",
            "grid_template_areas": null,
            "object_position": null,
            "object_fit": null,
            "grid_auto_columns": null,
            "margin": null,
            "display": null,
            "left": null
          }
        },
        "c18b5928472342a5913c2cbd20b4c611": {
          "model_module": "@jupyter-widgets/controls",
          "model_name": "HBoxModel",
          "state": {
            "_view_name": "HBoxView",
            "_dom_classes": [],
            "_model_name": "HBoxModel",
            "_view_module": "@jupyter-widgets/controls",
            "_model_module_version": "1.5.0",
            "_view_count": null,
            "_view_module_version": "1.5.0",
            "box_style": "",
            "layout": "IPY_MODEL_c35b094ed6af480493d096a96088a6e9",
            "_model_module": "@jupyter-widgets/controls",
            "children": [
              "IPY_MODEL_d3b8c598820a4e7aba7630c35b286cc1",
              "IPY_MODEL_e2198adb78e9484786dd19e7116bef7d"
            ]
          }
        },
        "c35b094ed6af480493d096a96088a6e9": {
          "model_module": "@jupyter-widgets/base",
          "model_name": "LayoutModel",
          "state": {
            "_view_name": "LayoutView",
            "grid_template_rows": null,
            "right": null,
            "justify_content": null,
            "_view_module": "@jupyter-widgets/base",
            "overflow": null,
            "_model_module_version": "1.2.0",
            "_view_count": null,
            "flex_flow": null,
            "width": null,
            "min_width": null,
            "border": null,
            "align_items": null,
            "bottom": null,
            "_model_module": "@jupyter-widgets/base",
            "top": null,
            "grid_column": null,
            "overflow_y": null,
            "overflow_x": null,
            "grid_auto_flow": null,
            "grid_area": null,
            "grid_template_columns": null,
            "flex": null,
            "_model_name": "LayoutModel",
            "justify_items": null,
            "grid_row": null,
            "max_height": null,
            "align_content": null,
            "visibility": null,
            "align_self": null,
            "height": null,
            "min_height": null,
            "padding": null,
            "grid_auto_rows": null,
            "grid_gap": null,
            "max_width": null,
            "order": null,
            "_view_module_version": "1.2.0",
            "grid_template_areas": null,
            "object_position": null,
            "object_fit": null,
            "grid_auto_columns": null,
            "margin": null,
            "display": null,
            "left": null
          }
        },
        "d3b8c598820a4e7aba7630c35b286cc1": {
          "model_module": "@jupyter-widgets/controls",
          "model_name": "FloatProgressModel",
          "state": {
            "_view_name": "ProgressView",
            "style": "IPY_MODEL_1c738d698e464362a4da875a462db451",
            "_dom_classes": [],
            "description": "",
            "_model_name": "FloatProgressModel",
            "bar_style": "success",
            "max": 29515,
            "_view_module": "@jupyter-widgets/controls",
            "_model_module_version": "1.5.0",
            "value": 29515,
            "_view_count": null,
            "_view_module_version": "1.5.0",
            "orientation": "horizontal",
            "min": 0,
            "description_tooltip": null,
            "_model_module": "@jupyter-widgets/controls",
            "layout": "IPY_MODEL_33e34a42bda44a98b830fbaa9c430efd"
          }
        },
        "e2198adb78e9484786dd19e7116bef7d": {
          "model_module": "@jupyter-widgets/controls",
          "model_name": "HTMLModel",
          "state": {
            "_view_name": "HTMLView",
            "style": "IPY_MODEL_212cce6c5d3a41e89a4fcbfee3552dda",
            "_dom_classes": [],
            "description": "",
            "_model_name": "HTMLModel",
            "placeholder": "​",
            "_view_module": "@jupyter-widgets/controls",
            "_model_module_version": "1.5.0",
            "value": " 29696/? [09:27&lt;00:00, 52.34it/s]",
            "_view_count": null,
            "_view_module_version": "1.5.0",
            "description_tooltip": null,
            "_model_module": "@jupyter-widgets/controls",
            "layout": "IPY_MODEL_d67a690a14f54633b89342dee4902386"
          }
        },
        "1c738d698e464362a4da875a462db451": {
          "model_module": "@jupyter-widgets/controls",
          "model_name": "ProgressStyleModel",
          "state": {
            "_view_name": "StyleView",
            "_model_name": "ProgressStyleModel",
            "description_width": "initial",
            "_view_module": "@jupyter-widgets/base",
            "_model_module_version": "1.5.0",
            "_view_count": null,
            "_view_module_version": "1.2.0",
            "bar_color": null,
            "_model_module": "@jupyter-widgets/controls"
          }
        },
        "33e34a42bda44a98b830fbaa9c430efd": {
          "model_module": "@jupyter-widgets/base",
          "model_name": "LayoutModel",
          "state": {
            "_view_name": "LayoutView",
            "grid_template_rows": null,
            "right": null,
            "justify_content": null,
            "_view_module": "@jupyter-widgets/base",
            "overflow": null,
            "_model_module_version": "1.2.0",
            "_view_count": null,
            "flex_flow": null,
            "width": null,
            "min_width": null,
            "border": null,
            "align_items": null,
            "bottom": null,
            "_model_module": "@jupyter-widgets/base",
            "top": null,
            "grid_column": null,
            "overflow_y": null,
            "overflow_x": null,
            "grid_auto_flow": null,
            "grid_area": null,
            "grid_template_columns": null,
            "flex": null,
            "_model_name": "LayoutModel",
            "justify_items": null,
            "grid_row": null,
            "max_height": null,
            "align_content": null,
            "visibility": null,
            "align_self": null,
            "height": null,
            "min_height": null,
            "padding": null,
            "grid_auto_rows": null,
            "grid_gap": null,
            "max_width": null,
            "order": null,
            "_view_module_version": "1.2.0",
            "grid_template_areas": null,
            "object_position": null,
            "object_fit": null,
            "grid_auto_columns": null,
            "margin": null,
            "display": null,
            "left": null
          }
        },
        "212cce6c5d3a41e89a4fcbfee3552dda": {
          "model_module": "@jupyter-widgets/controls",
          "model_name": "DescriptionStyleModel",
          "state": {
            "_view_name": "StyleView",
            "_model_name": "DescriptionStyleModel",
            "description_width": "",
            "_view_module": "@jupyter-widgets/base",
            "_model_module_version": "1.5.0",
            "_view_count": null,
            "_view_module_version": "1.2.0",
            "_model_module": "@jupyter-widgets/controls"
          }
        },
        "d67a690a14f54633b89342dee4902386": {
          "model_module": "@jupyter-widgets/base",
          "model_name": "LayoutModel",
          "state": {
            "_view_name": "LayoutView",
            "grid_template_rows": null,
            "right": null,
            "justify_content": null,
            "_view_module": "@jupyter-widgets/base",
            "overflow": null,
            "_model_module_version": "1.2.0",
            "_view_count": null,
            "flex_flow": null,
            "width": null,
            "min_width": null,
            "border": null,
            "align_items": null,
            "bottom": null,
            "_model_module": "@jupyter-widgets/base",
            "top": null,
            "grid_column": null,
            "overflow_y": null,
            "overflow_x": null,
            "grid_auto_flow": null,
            "grid_area": null,
            "grid_template_columns": null,
            "flex": null,
            "_model_name": "LayoutModel",
            "justify_items": null,
            "grid_row": null,
            "max_height": null,
            "align_content": null,
            "visibility": null,
            "align_self": null,
            "height": null,
            "min_height": null,
            "padding": null,
            "grid_auto_rows": null,
            "grid_gap": null,
            "max_width": null,
            "order": null,
            "_view_module_version": "1.2.0",
            "grid_template_areas": null,
            "object_position": null,
            "object_fit": null,
            "grid_auto_columns": null,
            "margin": null,
            "display": null,
            "left": null
          }
        },
        "e906c6edc7c94b82b95e539fe98325c8": {
          "model_module": "@jupyter-widgets/controls",
          "model_name": "HBoxModel",
          "state": {
            "_view_name": "HBoxView",
            "_dom_classes": [],
            "_model_name": "HBoxModel",
            "_view_module": "@jupyter-widgets/controls",
            "_model_module_version": "1.5.0",
            "_view_count": null,
            "_view_module_version": "1.5.0",
            "box_style": "",
            "layout": "IPY_MODEL_787e59e07eaa46a5b9953fc766b03f31",
            "_model_module": "@jupyter-widgets/controls",
            "children": [
              "IPY_MODEL_252f5aa976474771b92498234b407e2a",
              "IPY_MODEL_edab765c715b46459b0a3062cb0cfaee"
            ]
          }
        },
        "787e59e07eaa46a5b9953fc766b03f31": {
          "model_module": "@jupyter-widgets/base",
          "model_name": "LayoutModel",
          "state": {
            "_view_name": "LayoutView",
            "grid_template_rows": null,
            "right": null,
            "justify_content": null,
            "_view_module": "@jupyter-widgets/base",
            "overflow": null,
            "_model_module_version": "1.2.0",
            "_view_count": null,
            "flex_flow": null,
            "width": null,
            "min_width": null,
            "border": null,
            "align_items": null,
            "bottom": null,
            "_model_module": "@jupyter-widgets/base",
            "top": null,
            "grid_column": null,
            "overflow_y": null,
            "overflow_x": null,
            "grid_auto_flow": null,
            "grid_area": null,
            "grid_template_columns": null,
            "flex": null,
            "_model_name": "LayoutModel",
            "justify_items": null,
            "grid_row": null,
            "max_height": null,
            "align_content": null,
            "visibility": null,
            "align_self": null,
            "height": null,
            "min_height": null,
            "padding": null,
            "grid_auto_rows": null,
            "grid_gap": null,
            "max_width": null,
            "order": null,
            "_view_module_version": "1.2.0",
            "grid_template_areas": null,
            "object_position": null,
            "object_fit": null,
            "grid_auto_columns": null,
            "margin": null,
            "display": null,
            "left": null
          }
        },
        "252f5aa976474771b92498234b407e2a": {
          "model_module": "@jupyter-widgets/controls",
          "model_name": "FloatProgressModel",
          "state": {
            "_view_name": "ProgressView",
            "style": "IPY_MODEL_5c08e022166f40998b8fbc4178103f4a",
            "_dom_classes": [],
            "description": "",
            "_model_name": "FloatProgressModel",
            "bar_style": "success",
            "max": 4422102,
            "_view_module": "@jupyter-widgets/controls",
            "_model_module_version": "1.5.0",
            "value": 4422102,
            "_view_count": null,
            "_view_module_version": "1.5.0",
            "orientation": "horizontal",
            "min": 0,
            "description_tooltip": null,
            "_model_module": "@jupyter-widgets/controls",
            "layout": "IPY_MODEL_62155eb6dcd941ea87109fdeaf4a7fa6"
          }
        },
        "edab765c715b46459b0a3062cb0cfaee": {
          "model_module": "@jupyter-widgets/controls",
          "model_name": "HTMLModel",
          "state": {
            "_view_name": "HTMLView",
            "style": "IPY_MODEL_68191352bcfc4506bf27f37c4d92905b",
            "_dom_classes": [],
            "description": "",
            "_model_name": "HTMLModel",
            "placeholder": "​",
            "_view_module": "@jupyter-widgets/controls",
            "_model_module_version": "1.5.0",
            "value": " 4422656/? [01:07&lt;00:00, 65617.69it/s]",
            "_view_count": null,
            "_view_module_version": "1.5.0",
            "description_tooltip": null,
            "_model_module": "@jupyter-widgets/controls",
            "layout": "IPY_MODEL_74add0f39de04d62957bc66cf9eeb20b"
          }
        },
        "5c08e022166f40998b8fbc4178103f4a": {
          "model_module": "@jupyter-widgets/controls",
          "model_name": "ProgressStyleModel",
          "state": {
            "_view_name": "StyleView",
            "_model_name": "ProgressStyleModel",
            "description_width": "initial",
            "_view_module": "@jupyter-widgets/base",
            "_model_module_version": "1.5.0",
            "_view_count": null,
            "_view_module_version": "1.2.0",
            "bar_color": null,
            "_model_module": "@jupyter-widgets/controls"
          }
        },
        "62155eb6dcd941ea87109fdeaf4a7fa6": {
          "model_module": "@jupyter-widgets/base",
          "model_name": "LayoutModel",
          "state": {
            "_view_name": "LayoutView",
            "grid_template_rows": null,
            "right": null,
            "justify_content": null,
            "_view_module": "@jupyter-widgets/base",
            "overflow": null,
            "_model_module_version": "1.2.0",
            "_view_count": null,
            "flex_flow": null,
            "width": null,
            "min_width": null,
            "border": null,
            "align_items": null,
            "bottom": null,
            "_model_module": "@jupyter-widgets/base",
            "top": null,
            "grid_column": null,
            "overflow_y": null,
            "overflow_x": null,
            "grid_auto_flow": null,
            "grid_area": null,
            "grid_template_columns": null,
            "flex": null,
            "_model_name": "LayoutModel",
            "justify_items": null,
            "grid_row": null,
            "max_height": null,
            "align_content": null,
            "visibility": null,
            "align_self": null,
            "height": null,
            "min_height": null,
            "padding": null,
            "grid_auto_rows": null,
            "grid_gap": null,
            "max_width": null,
            "order": null,
            "_view_module_version": "1.2.0",
            "grid_template_areas": null,
            "object_position": null,
            "object_fit": null,
            "grid_auto_columns": null,
            "margin": null,
            "display": null,
            "left": null
          }
        },
        "68191352bcfc4506bf27f37c4d92905b": {
          "model_module": "@jupyter-widgets/controls",
          "model_name": "DescriptionStyleModel",
          "state": {
            "_view_name": "StyleView",
            "_model_name": "DescriptionStyleModel",
            "description_width": "",
            "_view_module": "@jupyter-widgets/base",
            "_model_module_version": "1.5.0",
            "_view_count": null,
            "_view_module_version": "1.2.0",
            "_model_module": "@jupyter-widgets/controls"
          }
        },
        "74add0f39de04d62957bc66cf9eeb20b": {
          "model_module": "@jupyter-widgets/base",
          "model_name": "LayoutModel",
          "state": {
            "_view_name": "LayoutView",
            "grid_template_rows": null,
            "right": null,
            "justify_content": null,
            "_view_module": "@jupyter-widgets/base",
            "overflow": null,
            "_model_module_version": "1.2.0",
            "_view_count": null,
            "flex_flow": null,
            "width": null,
            "min_width": null,
            "border": null,
            "align_items": null,
            "bottom": null,
            "_model_module": "@jupyter-widgets/base",
            "top": null,
            "grid_column": null,
            "overflow_y": null,
            "overflow_x": null,
            "grid_auto_flow": null,
            "grid_area": null,
            "grid_template_columns": null,
            "flex": null,
            "_model_name": "LayoutModel",
            "justify_items": null,
            "grid_row": null,
            "max_height": null,
            "align_content": null,
            "visibility": null,
            "align_self": null,
            "height": null,
            "min_height": null,
            "padding": null,
            "grid_auto_rows": null,
            "grid_gap": null,
            "max_width": null,
            "order": null,
            "_view_module_version": "1.2.0",
            "grid_template_areas": null,
            "object_position": null,
            "object_fit": null,
            "grid_auto_columns": null,
            "margin": null,
            "display": null,
            "left": null
          }
        },
        "c2c2a2a7972e486198401e7dd5aea514": {
          "model_module": "@jupyter-widgets/controls",
          "model_name": "HBoxModel",
          "state": {
            "_view_name": "HBoxView",
            "_dom_classes": [],
            "_model_name": "HBoxModel",
            "_view_module": "@jupyter-widgets/controls",
            "_model_module_version": "1.5.0",
            "_view_count": null,
            "_view_module_version": "1.5.0",
            "box_style": "",
            "layout": "IPY_MODEL_1c743af604974ca1b4058990b4673442",
            "_model_module": "@jupyter-widgets/controls",
            "children": [
              "IPY_MODEL_352588534a7f43768b0805c8faf43bc7",
              "IPY_MODEL_db263044bdd8453984349e877f160563"
            ]
          }
        },
        "1c743af604974ca1b4058990b4673442": {
          "model_module": "@jupyter-widgets/base",
          "model_name": "LayoutModel",
          "state": {
            "_view_name": "LayoutView",
            "grid_template_rows": null,
            "right": null,
            "justify_content": null,
            "_view_module": "@jupyter-widgets/base",
            "overflow": null,
            "_model_module_version": "1.2.0",
            "_view_count": null,
            "flex_flow": null,
            "width": null,
            "min_width": null,
            "border": null,
            "align_items": null,
            "bottom": null,
            "_model_module": "@jupyter-widgets/base",
            "top": null,
            "grid_column": null,
            "overflow_y": null,
            "overflow_x": null,
            "grid_auto_flow": null,
            "grid_area": null,
            "grid_template_columns": null,
            "flex": null,
            "_model_name": "LayoutModel",
            "justify_items": null,
            "grid_row": null,
            "max_height": null,
            "align_content": null,
            "visibility": null,
            "align_self": null,
            "height": null,
            "min_height": null,
            "padding": null,
            "grid_auto_rows": null,
            "grid_gap": null,
            "max_width": null,
            "order": null,
            "_view_module_version": "1.2.0",
            "grid_template_areas": null,
            "object_position": null,
            "object_fit": null,
            "grid_auto_columns": null,
            "margin": null,
            "display": null,
            "left": null
          }
        },
        "352588534a7f43768b0805c8faf43bc7": {
          "model_module": "@jupyter-widgets/controls",
          "model_name": "FloatProgressModel",
          "state": {
            "_view_name": "ProgressView",
            "style": "IPY_MODEL_c139ef0990ed4d4eb05702b07436a574",
            "_dom_classes": [],
            "description": "",
            "_model_name": "FloatProgressModel",
            "bar_style": "success",
            "max": 5148,
            "_view_module": "@jupyter-widgets/controls",
            "_model_module_version": "1.5.0",
            "value": 5148,
            "_view_count": null,
            "_view_module_version": "1.5.0",
            "orientation": "horizontal",
            "min": 0,
            "description_tooltip": null,
            "_model_module": "@jupyter-widgets/controls",
            "layout": "IPY_MODEL_30e2b7f840a447dcad04a53afcc455a6"
          }
        },
        "db263044bdd8453984349e877f160563": {
          "model_module": "@jupyter-widgets/controls",
          "model_name": "HTMLModel",
          "state": {
            "_view_name": "HTMLView",
            "style": "IPY_MODEL_267adb892497452081fd9ecb777a66f6",
            "_dom_classes": [],
            "description": "",
            "_model_name": "HTMLModel",
            "placeholder": "​",
            "_view_module": "@jupyter-widgets/controls",
            "_model_module_version": "1.5.0",
            "value": " 6144/? [01:05&lt;00:00, 93.13it/s]",
            "_view_count": null,
            "_view_module_version": "1.5.0",
            "description_tooltip": null,
            "_model_module": "@jupyter-widgets/controls",
            "layout": "IPY_MODEL_6bff694dd12b40d5b1b40a27618e0e8a"
          }
        },
        "c139ef0990ed4d4eb05702b07436a574": {
          "model_module": "@jupyter-widgets/controls",
          "model_name": "ProgressStyleModel",
          "state": {
            "_view_name": "StyleView",
            "_model_name": "ProgressStyleModel",
            "description_width": "initial",
            "_view_module": "@jupyter-widgets/base",
            "_model_module_version": "1.5.0",
            "_view_count": null,
            "_view_module_version": "1.2.0",
            "bar_color": null,
            "_model_module": "@jupyter-widgets/controls"
          }
        },
        "30e2b7f840a447dcad04a53afcc455a6": {
          "model_module": "@jupyter-widgets/base",
          "model_name": "LayoutModel",
          "state": {
            "_view_name": "LayoutView",
            "grid_template_rows": null,
            "right": null,
            "justify_content": null,
            "_view_module": "@jupyter-widgets/base",
            "overflow": null,
            "_model_module_version": "1.2.0",
            "_view_count": null,
            "flex_flow": null,
            "width": null,
            "min_width": null,
            "border": null,
            "align_items": null,
            "bottom": null,
            "_model_module": "@jupyter-widgets/base",
            "top": null,
            "grid_column": null,
            "overflow_y": null,
            "overflow_x": null,
            "grid_auto_flow": null,
            "grid_area": null,
            "grid_template_columns": null,
            "flex": null,
            "_model_name": "LayoutModel",
            "justify_items": null,
            "grid_row": null,
            "max_height": null,
            "align_content": null,
            "visibility": null,
            "align_self": null,
            "height": null,
            "min_height": null,
            "padding": null,
            "grid_auto_rows": null,
            "grid_gap": null,
            "max_width": null,
            "order": null,
            "_view_module_version": "1.2.0",
            "grid_template_areas": null,
            "object_position": null,
            "object_fit": null,
            "grid_auto_columns": null,
            "margin": null,
            "display": null,
            "left": null
          }
        },
        "267adb892497452081fd9ecb777a66f6": {
          "model_module": "@jupyter-widgets/controls",
          "model_name": "DescriptionStyleModel",
          "state": {
            "_view_name": "StyleView",
            "_model_name": "DescriptionStyleModel",
            "description_width": "",
            "_view_module": "@jupyter-widgets/base",
            "_model_module_version": "1.5.0",
            "_view_count": null,
            "_view_module_version": "1.2.0",
            "_model_module": "@jupyter-widgets/controls"
          }
        },
        "6bff694dd12b40d5b1b40a27618e0e8a": {
          "model_module": "@jupyter-widgets/base",
          "model_name": "LayoutModel",
          "state": {
            "_view_name": "LayoutView",
            "grid_template_rows": null,
            "right": null,
            "justify_content": null,
            "_view_module": "@jupyter-widgets/base",
            "overflow": null,
            "_model_module_version": "1.2.0",
            "_view_count": null,
            "flex_flow": null,
            "width": null,
            "min_width": null,
            "border": null,
            "align_items": null,
            "bottom": null,
            "_model_module": "@jupyter-widgets/base",
            "top": null,
            "grid_column": null,
            "overflow_y": null,
            "overflow_x": null,
            "grid_auto_flow": null,
            "grid_area": null,
            "grid_template_columns": null,
            "flex": null,
            "_model_name": "LayoutModel",
            "justify_items": null,
            "grid_row": null,
            "max_height": null,
            "align_content": null,
            "visibility": null,
            "align_self": null,
            "height": null,
            "min_height": null,
            "padding": null,
            "grid_auto_rows": null,
            "grid_gap": null,
            "max_width": null,
            "order": null,
            "_view_module_version": "1.2.0",
            "grid_template_areas": null,
            "object_position": null,
            "object_fit": null,
            "grid_auto_columns": null,
            "margin": null,
            "display": null,
            "left": null
          }
        }
      }
    }
  },
  "cells": [
    {
      "cell_type": "markdown",
      "metadata": {
        "id": "view-in-github",
        "colab_type": "text"
      },
      "source": [
        "<a href=\"https://colab.research.google.com/github/boscodeeromeu/NN/blob/main/STUDENT_Lab_2_Part_2.ipynb\" target=\"_parent\"><img src=\"https://colab.research.google.com/assets/colab-badge.svg\" alt=\"Open In Colab\"/></a>"
      ]
    },
    {
      "cell_type": "markdown",
      "metadata": {
        "id": "6aY-Da2gyh2M"
      },
      "source": [
        "# Lab 2 (Part 2): Regularizing MLPs\n",
        "\n",
        "\n",
        "------------------------------------------------------\n",
        "*Neural Networks. Bachelor in Data Science and Engineering*\n",
        "\n",
        "*Pablo M. Olmos pamartin@ing.uc3m.es*\n",
        "\n",
        "*Aurora Cobo Aguilera acobo@tsc.uc3m.es*\n",
        "\n",
        "------------------------------------------------------\n",
        "**Student: Bosco de Enrique (100406718)**\n",
        "\n",
        "In this second part of the lab, you'll be using the [Fashion-MNIST dataset](https://github.com/zalandoresearch/fashion-mnist), a drop-in replacement for the MNIST dataset. MNIST is actually quite trivial with neural networks where you can easily achieve better than 97% accuracy. Fashion-MNIST is a set of 28x28 greyscale images of clothes. It's more complex than MNIST, so it's a better representation of the actual performance of your network, and a better representation of datasets you'll use in the real world. You can see a sample below."
      ]
    },
    {
      "cell_type": "code",
      "metadata": {
        "id": "k_AQa3bSyh2P",
        "outputId": "0bd71aad-c078-420b-c95b-1f313d38e7ca",
        "colab": {
          "base_uri": "https://localhost:8080/",
          "height": 220
        }
      },
      "source": [
        "from IPython.display import Image\n",
        "from IPython.core.display import HTML \n",
        "\n",
        "Image(url= \"https://miro.medium.com/max/3200/1*QQVbuP2SEasB0XAmvjW0AA.jpeg\", width=400, height=200)"
      ],
      "execution_count": 1,
      "outputs": [
        {
          "output_type": "execute_result",
          "data": {
            "text/html": [
              "<img src=\"https://miro.medium.com/max/3200/1*QQVbuP2SEasB0XAmvjW0AA.jpeg\" width=\"400\" height=\"200\"/>"
            ],
            "text/plain": [
              "<IPython.core.display.Image object>"
            ]
          },
          "metadata": {
            "tags": []
          },
          "execution_count": 1
        }
      ]
    },
    {
      "cell_type": "markdown",
      "metadata": {
        "id": "xaCSXk9gyh2Q"
      },
      "source": [
        "Our goal is to build a neural network that can take one of these images and predict the digit in the image. Unlike the MNIST case, for this problem you will notice that the model **easily overfits**, so addressing this issue is an important problem here. To do so, we will experiment with early stopping and dropout.\n",
        "\n",
        "Note: a big part of the following material is a personal wrap-up of [Facebook's Deep Learning Course in Udacity](https://www.udacity.com/course/deep-learning-pytorch--ud188). So all credit goes for them!!"
      ]
    },
    {
      "cell_type": "code",
      "metadata": {
        "id": "Yv92zsRpyh2Q"
      },
      "source": [
        "%matplotlib inline\n",
        "%config InlineBackend.figure_format = 'retina'  #To get figures with high quality!\n",
        "\n",
        "import numpy as np\n",
        "import torch\n",
        "from torch import nn\n",
        "from torch import optim\n",
        "import matplotlib.pyplot as plt"
      ],
      "execution_count": 2,
      "outputs": []
    },
    {
      "cell_type": "markdown",
      "metadata": {
        "id": "dFKYAGMcyh2R"
      },
      "source": [
        "## Part I. Download FMNIST with `torchvision`\n",
        "\n",
        "The code below will download the MNIST dataset, then create training and test datasets for us. It is mostly the same code we used to download MNIST in the previous part of the Lab."
      ]
    },
    {
      "cell_type": "code",
      "metadata": {
        "id": "lLA0Ferdyh2R",
        "outputId": "21fb977f-0e8a-442a-9a86-dd672902a381",
        "colab": {
          "base_uri": "https://localhost:8080/",
          "height": 448,
          "referenced_widgets": [
            "313b7cf2c50843d48c7da3738f7e8801",
            "62dff0b2855c4414827b354e3cfb49a2",
            "61c169c28d454afeae3138b66b6f9397",
            "484d5753a13d413d8ec9e6b6915dd160",
            "79ccd4c6e4b84d69a589e347d235edf9",
            "79135a2e2e0d4e2ca1da24be73e79400",
            "25ec174a66d948a6b4b90bedf6fd80f1",
            "e77c44c782aa4d41ba7e5b8ab284a18f",
            "c18b5928472342a5913c2cbd20b4c611",
            "c35b094ed6af480493d096a96088a6e9",
            "d3b8c598820a4e7aba7630c35b286cc1",
            "e2198adb78e9484786dd19e7116bef7d",
            "1c738d698e464362a4da875a462db451",
            "33e34a42bda44a98b830fbaa9c430efd",
            "212cce6c5d3a41e89a4fcbfee3552dda",
            "d67a690a14f54633b89342dee4902386",
            "e906c6edc7c94b82b95e539fe98325c8",
            "787e59e07eaa46a5b9953fc766b03f31",
            "252f5aa976474771b92498234b407e2a",
            "edab765c715b46459b0a3062cb0cfaee",
            "5c08e022166f40998b8fbc4178103f4a",
            "62155eb6dcd941ea87109fdeaf4a7fa6",
            "68191352bcfc4506bf27f37c4d92905b",
            "74add0f39de04d62957bc66cf9eeb20b",
            "c2c2a2a7972e486198401e7dd5aea514",
            "1c743af604974ca1b4058990b4673442",
            "352588534a7f43768b0805c8faf43bc7",
            "db263044bdd8453984349e877f160563",
            "c139ef0990ed4d4eb05702b07436a574",
            "30e2b7f840a447dcad04a53afcc455a6",
            "267adb892497452081fd9ecb777a66f6",
            "6bff694dd12b40d5b1b40a27618e0e8a"
          ]
        }
      },
      "source": [
        "import torch\n",
        "from torchvision import datasets, transforms\n",
        "\n",
        "# Define a transform to normalize the data\n",
        "transform = transforms.Compose([transforms.ToTensor(),\n",
        "                                transforms.Normalize((0.5,), (0.5,))])\n",
        "# Download and load the training data\n",
        "trainset = datasets.FashionMNIST('~/.pytorch/F_MNIST_data/', download=True, train=True, transform=transform)\n",
        "trainloader = torch.utils.data.DataLoader(trainset, batch_size=64, shuffle=True)\n",
        "\n",
        "# Download and load the test data\n",
        "testset = datasets.FashionMNIST('~/.pytorch/F_MNIST_data/', download=True, train=False, transform=transform)\n",
        "testloader = torch.utils.data.DataLoader(testset, batch_size=64, shuffle=True)"
      ],
      "execution_count": 3,
      "outputs": [
        {
          "output_type": "stream",
          "text": [
            "Downloading http://fashion-mnist.s3-website.eu-central-1.amazonaws.com/train-images-idx3-ubyte.gz to /root/.pytorch/F_MNIST_data/FashionMNIST/raw/train-images-idx3-ubyte.gz\n"
          ],
          "name": "stdout"
        },
        {
          "output_type": "display_data",
          "data": {
            "application/vnd.jupyter.widget-view+json": {
              "model_id": "313b7cf2c50843d48c7da3738f7e8801",
              "version_minor": 0,
              "version_major": 2
            },
            "text/plain": [
              "HBox(children=(FloatProgress(value=0.0, max=26421880.0), HTML(value='')))"
            ]
          },
          "metadata": {
            "tags": []
          }
        },
        {
          "output_type": "stream",
          "text": [
            "\n",
            "Extracting /root/.pytorch/F_MNIST_data/FashionMNIST/raw/train-images-idx3-ubyte.gz to /root/.pytorch/F_MNIST_data/FashionMNIST/raw\n",
            "Downloading http://fashion-mnist.s3-website.eu-central-1.amazonaws.com/train-labels-idx1-ubyte.gz to /root/.pytorch/F_MNIST_data/FashionMNIST/raw/train-labels-idx1-ubyte.gz\n"
          ],
          "name": "stdout"
        },
        {
          "output_type": "display_data",
          "data": {
            "application/vnd.jupyter.widget-view+json": {
              "model_id": "c18b5928472342a5913c2cbd20b4c611",
              "version_minor": 0,
              "version_major": 2
            },
            "text/plain": [
              "HBox(children=(FloatProgress(value=0.0, max=29515.0), HTML(value='')))"
            ]
          },
          "metadata": {
            "tags": []
          }
        },
        {
          "output_type": "stream",
          "text": [
            "\n",
            "Extracting /root/.pytorch/F_MNIST_data/FashionMNIST/raw/train-labels-idx1-ubyte.gz to /root/.pytorch/F_MNIST_data/FashionMNIST/raw\n",
            "Downloading http://fashion-mnist.s3-website.eu-central-1.amazonaws.com/t10k-images-idx3-ubyte.gz to /root/.pytorch/F_MNIST_data/FashionMNIST/raw/t10k-images-idx3-ubyte.gz\n"
          ],
          "name": "stdout"
        },
        {
          "output_type": "display_data",
          "data": {
            "application/vnd.jupyter.widget-view+json": {
              "model_id": "e906c6edc7c94b82b95e539fe98325c8",
              "version_minor": 0,
              "version_major": 2
            },
            "text/plain": [
              "HBox(children=(FloatProgress(value=0.0, max=4422102.0), HTML(value='')))"
            ]
          },
          "metadata": {
            "tags": []
          }
        },
        {
          "output_type": "stream",
          "text": [
            "\n",
            "Extracting /root/.pytorch/F_MNIST_data/FashionMNIST/raw/t10k-images-idx3-ubyte.gz to /root/.pytorch/F_MNIST_data/FashionMNIST/raw\n",
            "Downloading http://fashion-mnist.s3-website.eu-central-1.amazonaws.com/t10k-labels-idx1-ubyte.gz to /root/.pytorch/F_MNIST_data/FashionMNIST/raw/t10k-labels-idx1-ubyte.gz\n"
          ],
          "name": "stdout"
        },
        {
          "output_type": "display_data",
          "data": {
            "application/vnd.jupyter.widget-view+json": {
              "model_id": "c2c2a2a7972e486198401e7dd5aea514",
              "version_minor": 0,
              "version_major": 2
            },
            "text/plain": [
              "HBox(children=(FloatProgress(value=0.0, max=5148.0), HTML(value='')))"
            ]
          },
          "metadata": {
            "tags": []
          }
        },
        {
          "output_type": "stream",
          "text": [
            "\n",
            "Extracting /root/.pytorch/F_MNIST_data/FashionMNIST/raw/t10k-labels-idx1-ubyte.gz to /root/.pytorch/F_MNIST_data/FashionMNIST/raw\n",
            "Processing...\n"
          ],
          "name": "stdout"
        },
        {
          "output_type": "stream",
          "text": [
            "/usr/local/lib/python3.7/dist-packages/torchvision/datasets/mnist.py:479: UserWarning: The given NumPy array is not writeable, and PyTorch does not support non-writeable tensors. This means you can write to the underlying (supposedly non-writeable) NumPy array using the tensor. You may want to copy the array to protect its data or make it writeable before converting it to a tensor. This type of warning will be suppressed for the rest of this program. (Triggered internally at  /pytorch/torch/csrc/utils/tensor_numpy.cpp:143.)\n",
            "  return torch.from_numpy(parsed.astype(m[2], copy=False)).view(*s)\n"
          ],
          "name": "stderr"
        },
        {
          "output_type": "stream",
          "text": [
            "Done!\n"
          ],
          "name": "stdout"
        }
      ]
    },
    {
      "cell_type": "markdown",
      "metadata": {
        "id": "8R8t5xkTyh2S"
      },
      "source": [
        "Lets take a look to the mini-batch size and plot a sample."
      ]
    },
    {
      "cell_type": "code",
      "metadata": {
        "id": "5cEeTRgnyh2S",
        "outputId": "323a550e-d135-4c98-d362-0288f70140f1",
        "colab": {
          "base_uri": "https://localhost:8080/"
        }
      },
      "source": [
        "dataiter = iter(trainloader)   #To iterate through the dataset\n",
        "\n",
        "images, labels = dataiter.next()\n",
        "print(type(images))\n",
        "print(images.shape)\n",
        "print(labels.shape)"
      ],
      "execution_count": 14,
      "outputs": [
        {
          "output_type": "stream",
          "text": [
            "<class 'torch.Tensor'>\n",
            "torch.Size([64, 1, 28, 28])\n",
            "torch.Size([64])\n"
          ],
          "name": "stdout"
        }
      ]
    },
    {
      "cell_type": "markdown",
      "metadata": {
        "id": "kqzjIaQTyh2T"
      },
      "source": [
        "This is what one of the images looks like. "
      ]
    },
    {
      "cell_type": "code",
      "metadata": {
        "id": "C0wuIFwPyh2T",
        "outputId": "6174ca9f-d971-4d3d-b204-35786504f3c4",
        "colab": {
          "base_uri": "https://localhost:8080/",
          "height": 282
        }
      },
      "source": [
        "plt.imshow(images[1].numpy().reshape([28,28]), cmap='Greys_r')"
      ],
      "execution_count": 5,
      "outputs": [
        {
          "output_type": "execute_result",
          "data": {
            "text/plain": [
              "<matplotlib.image.AxesImage at 0x7fe9507a5550>"
            ]
          },
          "metadata": {
            "tags": []
          },
          "execution_count": 5
        },
        {
          "output_type": "display_data",
          "data": {
            "image/png": "[encoded data removed]",
            "text/plain": [
              "<Figure size 432x288 with 1 Axes>"
            ]
          },
          "metadata": {
            "tags": [],
            "image/png": {
              "width": 251,
              "height": 248
            },
            "needs_background": "light"
          }
        }
      ]
    },
    {
      "cell_type": "markdown",
      "metadata": {
        "id": "qTJ9Xt9-yh2U"
      },
      "source": [
        "## Part II. Visualize overfiting\n",
        "\n",
        "> **Exercise**: Train a Neural Network with four layers, hidden dimmensions 256, 128 and 64 neurons. Use ReLU activation functions, and a log-Softmax output layer. To do so, complete the following steps: \n",
        "> - Create a class defining the NN model \n",
        "> - Extend the class to incorporate a training method. **Call it trainloop instead of train**. The reason will be clear later.\n",
        "> - Train the model for 30 epochs and evaluate train/test performance"
      ]
    },
    {
      "cell_type": "code",
      "metadata": {
        "id": "DaL7UlAJyh2U"
      },
      "source": [
        "class MLP(nn.Module):\n",
        "\n",
        "  def __init__(self,dimx,hidden1,hidden2,hidden3,nlabels):\n",
        "    super().__init__()\n",
        "        \n",
        "    self.output1 = nn.Linear(dimx,hidden1)\n",
        "        \n",
        "    self.output2 = nn.Linear(hidden1,hidden2)\n",
        "        \n",
        "    self.output3 = nn.Linear(hidden2,hidden3)\n",
        "\n",
        "    self.output4 = nn.Linear(hidden3,nlabels)\n",
        "    \n",
        "    self.relu = nn.ReLU()\n",
        "        \n",
        "    self.logsoftmax = nn.LogSoftmax(dim=1)                                                             \n",
        "        \n",
        "  def forward(self, x):\n",
        "    # Pass the input tensor through each of our operations\n",
        "    x = self.output1(x)\n",
        "    x = self.relu(x)\n",
        "    x = self.output2(x)\n",
        "    x = self.relu(x)\n",
        "    x = self.output3(x)\n",
        "    x = self.relu(x)\n",
        "    x = self.output4(x)\n",
        "    x = self.logsoftmax(x)\n",
        "    return x\n",
        "\n",
        "  "
      ],
      "execution_count": 26,
      "outputs": []
    },
    {
      "cell_type": "code",
      "metadata": {
        "id": "XZEOZL5ayh2U"
      },
      "source": [
        "class MLP_extended(MLP):\n",
        "    \n",
        "    def __init__(self,dimx,hidden1, hidden2,hidden3,nlabels,epochs=100,lr=0.001):\n",
        "        \n",
        "        super().__init__(dimx,hidden1, hidden2, hidden3,nlabels)  \n",
        "        \n",
        "        self.lr = lr\n",
        "        \n",
        "        self.optim = optim.Adam(self.parameters(), self.lr)\n",
        "        \n",
        "        self.epochs = epochs\n",
        "        \n",
        "        self.criterion = nn.NLLLoss()              \n",
        "\n",
        "        self.loss_during_training = [] \n",
        "        \n",
        "    def trainloop(self,trainloader):\n",
        "        \n",
        "        for e in range(int(self.epochs)):\n",
        "            \n",
        "            running_loss = 0.\n",
        "            \n",
        "            for images, labels in trainloader:             \n",
        "        \n",
        "                self.optim.zero_grad() \n",
        "\n",
        "                out = self.forward(images.view(images.shape[0], -1))\n",
        "\n",
        "                loss = self.criterion(out, labels)\n",
        "\n",
        "                running_loss += loss.item()\n",
        "\n",
        "                loss.backward()\n",
        "\n",
        "                self.optim.step()\n",
        "                \n",
        "            self.loss_during_training.append(running_loss/len(trainloader))\n",
        "\n",
        "            if(e % 1 == 0):\n",
        "              \n",
        "                print(\"Training loss after %d epochs: %f\" \n",
        "                      %(e,self.loss_during_training[-1]))\n",
        "                \n",
        "    def evaluate(self,dataloader):\n",
        "      accuracy = 0\n",
        "\n",
        "      with torch.no_grad():\n",
        "\n",
        "        for images,labels in dataloader:\n",
        "\n",
        "          logprobs = self.forward(images.view(images.shape[0], -1)) \n",
        "        \n",
        "          top_p, top_class = logprobs.topk(1, dim=1)\n",
        "          equals = (top_class == labels.view(images.shape[0], 1))\n",
        "          accuracy += torch.mean(equals.type(torch.FloatTensor))\n",
        "        \n",
        "      return accuracy/len(dataloader)"
      ],
      "execution_count": 27,
      "outputs": []
    },
    {
      "cell_type": "code",
      "metadata": {
        "id": "De8794MHyh2V",
        "outputId": "98f7e3ac-37be-46e1-e16a-582e40beaa90",
        "colab": {
          "base_uri": "https://localhost:8080/"
        }
      },
      "source": [
        "my_MLP = MLP_extended(784, 256 ,128, 64, 10, 30, 0.001)\n",
        "my_MLP.trainloop(trainloader)"
      ],
      "execution_count": 29,
      "outputs": [
        {
          "output_type": "stream",
          "text": [
            "Training loss after 0 epochs: 0.518487\n",
            "Training loss after 1 epochs: 0.378278\n",
            "Training loss after 2 epochs: 0.341137\n",
            "Training loss after 3 epochs: 0.311672\n",
            "Training loss after 4 epochs: 0.295447\n",
            "Training loss after 5 epochs: 0.276934\n",
            "Training loss after 6 epochs: 0.267264\n",
            "Training loss after 7 epochs: 0.251297\n",
            "Training loss after 8 epochs: 0.241710\n",
            "Training loss after 9 epochs: 0.227551\n",
            "Training loss after 10 epochs: 0.220153\n",
            "Training loss after 11 epochs: 0.212539\n",
            "Training loss after 12 epochs: 0.202012\n",
            "Training loss after 13 epochs: 0.195353\n",
            "Training loss after 14 epochs: 0.186859\n",
            "Training loss after 15 epochs: 0.176593\n",
            "Training loss after 16 epochs: 0.173741\n",
            "Training loss after 17 epochs: 0.165196\n",
            "Training loss after 18 epochs: 0.158695\n",
            "Training loss after 19 epochs: 0.152859\n",
            "Training loss after 20 epochs: 0.145904\n",
            "Training loss after 21 epochs: 0.142727\n",
            "Training loss after 22 epochs: 0.135504\n",
            "Training loss after 23 epochs: 0.130856\n",
            "Training loss after 24 epochs: 0.125931\n",
            "Training loss after 25 epochs: 0.118858\n",
            "Training loss after 26 epochs: 0.115995\n",
            "Training loss after 27 epochs: 0.111793\n",
            "Training loss after 28 epochs: 0.110565\n",
            "Training loss after 29 epochs: 0.109997\n"
          ],
          "name": "stdout"
        }
      ]
    },
    {
      "cell_type": "code",
      "metadata": {
        "id": "dod-Ut8qKMGA"
      },
      "source": [
        "train_acc = my_MLP.evaluate(trainloader)\n",
        "test_acc = my_MLP.evaluate(testloader)"
      ],
      "execution_count": 30,
      "outputs": []
    },
    {
      "cell_type": "code",
      "metadata": {
        "id": "yhzgdQ6uL-02",
        "outputId": "117a74f4-abc2-469b-faed-928f2eb6ab51",
        "colab": {
          "base_uri": "https://localhost:8080/"
        }
      },
      "source": [
        "print('Train accuracy is {}, Test accuracy is {}'.format(train_acc, test_acc))"
      ],
      "execution_count": 31,
      "outputs": [
        {
          "output_type": "stream",
          "text": [
            "Train accuracy is 0.9649520516395569, Test accuracy is 0.8903264403343201\n"
          ],
          "name": "stdout"
        }
      ]
    },
    {
      "cell_type": "markdown",
      "metadata": {
        "id": "7KIAYu-_yh2V"
      },
      "source": [
        "In light of the train/test performance, certainly the model is performing significantly better in the train set than in the test set. This is a sign of overfitting. For an early detection of overfitting, we will make use of a **validation set** that we will use to visualize the evolution of the loss function during training. \n",
        "\n",
        "With the following code we split the train set into one training set (45k images) and a validation set (15k images). We do a naive splitting assuming that the data is randomized. **Keep in mind that in general you can do something smarter than this like K-Fold cross validation**, but here we keep it simple.\n",
        "\n"
      ]
    },
    {
      "cell_type": "code",
      "metadata": {
        "id": "Zx577h-dyh2V"
      },
      "source": [
        "import copy\n",
        "\n",
        "\n",
        "validloader = copy.deepcopy(trainloader)  # Creates a copy of the object \n",
        "\n",
        "#We take the first 45k images for training\n",
        "trainloader.dataset.data = trainloader.dataset.data[:45000,:,:]\n",
        "trainloader.dataset.targets = trainloader.dataset.targets[:45000]\n",
        "\n",
        "#And the rest for validation\n",
        "validloader.dataset.data = validloader.dataset.data[45000:,:,:]\n",
        "validloader.dataset.targets = validloader.dataset.targets[45000:]"
      ],
      "execution_count": 32,
      "outputs": []
    },
    {
      "cell_type": "markdown",
      "metadata": {
        "id": "B7LvYiacyh2V"
      },
      "source": [
        "> **Exercise**: Modify your code class above so that, during training, everytime an epoch is finished you compute the loss function over the validation set. You must store these values into a list name as `valid_loss_during_training`. When performing this step, do not forget to turn off gradients by using `with torch.no_grad()`.\n",
        ">\n",
        ">Then, repeat the training (30 epochs) and plot the train/validation loss along epochs. Compute the final train/validation/test performance."
      ]
    },
    {
      "cell_type": "code",
      "metadata": {
        "id": "62Tyzz_6yh2W"
      },
      "source": [
        "class MLP_extended(MLP):\n",
        "    \n",
        "    def __init__(self,dimx,hidden1, hidden2,hidden3,nlabels,epochs=100,lr=0.001):\n",
        "        \n",
        "        super().__init__(dimx,hidden1, hidden2, hidden3,nlabels)  \n",
        "        \n",
        "        self.lr = lr\n",
        "        \n",
        "        self.optim = optim.Adam(self.parameters(), self.lr)\n",
        "        \n",
        "        self.epochs = epochs\n",
        "        \n",
        "        self.criterion = nn.NLLLoss()              \n",
        "\n",
        "        self.loss_during_training = [] \n",
        "\n",
        "        self.valid_loss_during_training = []\n",
        "        \n",
        "    def trainloop(self,trainloader, validloader):\n",
        "        \n",
        "        for e in range(int(self.epochs)):\n",
        "            \n",
        "            running_loss = 0.\n",
        "            \n",
        "            for images, labels in trainloader:             \n",
        "        \n",
        "                self.optim.zero_grad() \n",
        "\n",
        "                out = self.forward(images.view(images.shape[0], -1))\n",
        "\n",
        "                loss = self.criterion(out, labels)\n",
        "\n",
        "                running_loss += loss.item()\n",
        "\n",
        "                loss.backward()\n",
        "\n",
        "                self.optim.step()\n",
        "            \n",
        "            \n",
        "            # we compute the validation loss after each epoch\n",
        "            with torch.no_grad():\n",
        "              \n",
        "              running_loss_v = 0.\n",
        "\n",
        "              for images, labels in validloader:\n",
        "\n",
        "                out_v = self.forward(images.view(images.shape[0], -1))\n",
        "\n",
        "                loss_v = self.criterion(out_v, labels)\n",
        "\n",
        "                running_loss_v += loss_v.item()\n",
        "\n",
        "              self.valid_loss_during_training.append(running_loss_v/len(validloader))\n",
        "\n",
        "                \n",
        "            self.loss_during_training.append(running_loss/len(trainloader))\n",
        "\n",
        "            if(e % 1 == 0):\n",
        "              \n",
        "                print(\"Training loss after %d epochs: %f\" \n",
        "                      %(e,self.loss_during_training[-1]))\n",
        "                \n",
        "    def evaluate(self,dataloader):\n",
        "      accuracy = 0\n",
        "\n",
        "      with torch.no_grad():\n",
        "\n",
        "        for images,labels in dataloader:\n",
        "\n",
        "          logprobs = self.forward(images.view(images.shape[0], -1)) \n",
        "        \n",
        "          top_p, top_class = logprobs.topk(1, dim=1)\n",
        "          equals = (top_class == labels.view(images.shape[0], 1))\n",
        "          accuracy += torch.mean(equals.type(torch.FloatTensor))\n",
        "        \n",
        "      return accuracy/len(dataloader)"
      ],
      "execution_count": 38,
      "outputs": []
    },
    {
      "cell_type": "code",
      "metadata": {
        "id": "vWp14rKO2WjE",
        "outputId": "21dcc74c-89a8-4963-aacf-b6d02c58fd46",
        "colab": {
          "base_uri": "https://localhost:8080/"
        }
      },
      "source": [
        "my_MLP = MLP_extended(784, 256 ,128, 64, 10, 30, 0.001)\n",
        "my_MLP.trainloop(trainloader, validloader)"
      ],
      "execution_count": 43,
      "outputs": [
        {
          "output_type": "stream",
          "text": [
            "Training loss after 0 epochs: 0.548394\n",
            "Training loss after 1 epochs: 0.386616\n",
            "Training loss after 2 epochs: 0.348306\n",
            "Training loss after 3 epochs: 0.320470\n",
            "Training loss after 4 epochs: 0.304794\n",
            "Training loss after 5 epochs: 0.286263\n",
            "Training loss after 6 epochs: 0.269499\n",
            "Training loss after 7 epochs: 0.258641\n",
            "Training loss after 8 epochs: 0.247738\n",
            "Training loss after 9 epochs: 0.233479\n",
            "Training loss after 10 epochs: 0.224750\n",
            "Training loss after 11 epochs: 0.213362\n",
            "Training loss after 12 epochs: 0.207102\n",
            "Training loss after 13 epochs: 0.199515\n",
            "Training loss after 14 epochs: 0.190906\n",
            "Training loss after 15 epochs: 0.188090\n",
            "Training loss after 16 epochs: 0.174864\n",
            "Training loss after 17 epochs: 0.169034\n",
            "Training loss after 18 epochs: 0.161060\n",
            "Training loss after 19 epochs: 0.153886\n",
            "Training loss after 20 epochs: 0.147786\n",
            "Training loss after 21 epochs: 0.141918\n",
            "Training loss after 22 epochs: 0.140348\n",
            "Training loss after 23 epochs: 0.129424\n",
            "Training loss after 24 epochs: 0.128111\n",
            "Training loss after 25 epochs: 0.118847\n",
            "Training loss after 26 epochs: 0.122265\n",
            "Training loss after 27 epochs: 0.109685\n",
            "Training loss after 28 epochs: 0.109477\n",
            "Training loss after 29 epochs: 0.105331\n"
          ],
          "name": "stdout"
        }
      ]
    },
    {
      "cell_type": "code",
      "metadata": {
        "id": "s9-ndF10NA9Q",
        "outputId": "decacb17-1cb8-4a98-d52e-4508b322624f",
        "colab": {
          "base_uri": "https://localhost:8080/",
          "height": 312
        }
      },
      "source": [
        "plt.plot(my_MLP.valid_loss_during_training, color = 'C2',label='$Validation$')\n",
        "plt.plot(my_MLP.loss_during_training, color = 'C1',label='$Training$')\n",
        "opt_epochs = my_MLP.valid_loss_during_training.index(min(my_MLP.valid_loss_during_training))\n",
        "plt.axvline(x=opt_epochs, ls='--', label = str(opt_epochs) + 'epochs')\n",
        "\n",
        "plt.title('Value of loss function for validation and training set across iterations')\n",
        "plt.xlabel('Iterations')\n",
        "plt.grid()\n",
        "plt.legend(loc='center left', bbox_to_anchor=(1, 0.5))"
      ],
      "execution_count": 47,
      "outputs": [
        {
          "output_type": "execute_result",
          "data": {
            "text/plain": [
              "<matplotlib.legend.Legend at 0x7fe943bf6510>"
            ]
          },
          "metadata": {
            "tags": []
          },
          "execution_count": 47
        },
        {
          "output_type": "display_data",
          "data": {
            "image/png": "[encoded data removed]",
            "text/plain": [
              "<Figure size 432x288 with 1 Axes>"
            ]
          },
          "metadata": {
            "tags": [],
            "image/png": {
              "width": 479,
              "height": 277
            },
            "needs_background": "light"
          }
        }
      ]
    },
    {
      "cell_type": "code",
      "metadata": {
        "id": "FzW6xPst2Y8i"
      },
      "source": [
        "train_acc = my_MLP.evaluate(trainloader)\n",
        "valid_acc = my_MLP.evaluate(validloader)\n",
        "test_acc = my_MLP.evaluate(testloader)"
      ],
      "execution_count": 48,
      "outputs": []
    },
    {
      "cell_type": "code",
      "metadata": {
        "id": "GfElfc5GM5Nw",
        "outputId": "714b0cf4-58e0-4a46-ef04-2ff9b1694a6a",
        "colab": {
          "base_uri": "https://localhost:8080/"
        }
      },
      "source": [
        "print('Train accuracy is {}, Test accuracy is {}, Validation accuracy is{}'.format(train_acc, test_acc, valid_acc ))"
      ],
      "execution_count": 50,
      "outputs": [
        {
          "output_type": "stream",
          "text": [
            "Train accuracy is 0.9630237817764282, Test accuracy is 0.8812699317932129, Validation accuracy is0.8891843557357788\n"
          ],
          "name": "stdout"
        }
      ]
    },
    {
      "cell_type": "markdown",
      "metadata": {
        "id": "gt8UDqPGyh2W"
      },
      "source": [
        "If we look at the training and validation losses as we train the network, we can see a phenomenon known as overfitting. \n",
        "\n",
        "The network learns the training set better and better, resulting in lower training losses. However, it starts having problems generalizing to data outside the training set leading to the validation loss increasing. The ultimate goal of any deep learning model is to make predictions on new data, so we should strive to get the lowest validation loss possible. One option is to use the version of the model with the lowest validation loss, here the one around 8-10 training epochs. This strategy is called *early-stopping*. In practice, you'd save the model frequently as you're training then later choose the model with the lowest validation loss. **Note that with early stopping we are using the validation set to select the appropiate number of epochs.**\n",
        "\n",
        "> **Exercise:** According to your results, re-train the model again for the right number of epochs (just before the validation loss starts to grow). Compare the train, validation and test performance."
      ]
    },
    {
      "cell_type": "code",
      "metadata": {
        "id": "QXDpsEQvyh2W",
        "outputId": "3a7fb429-3c40-4a28-9371-2d34eb4b7e16",
        "colab": {
          "base_uri": "https://localhost:8080/"
        }
      },
      "source": [
        "my_MLP = MLP_extended(784, 256 ,128, 64, 10, 9, 0.001)\n",
        "my_MLP.trainloop(trainloader, validloader)"
      ],
      "execution_count": 52,
      "outputs": [
        {
          "output_type": "stream",
          "text": [
            "Training loss after 0 epochs: 0.550224\n",
            "Training loss after 1 epochs: 0.385955\n",
            "Training loss after 2 epochs: 0.347406\n",
            "Training loss after 3 epochs: 0.321849\n",
            "Training loss after 4 epochs: 0.301096\n",
            "Training loss after 5 epochs: 0.281924\n",
            "Training loss after 6 epochs: 0.267513\n",
            "Training loss after 7 epochs: 0.259801\n",
            "Training loss after 8 epochs: 0.242257\n"
          ],
          "name": "stdout"
        }
      ]
    },
    {
      "cell_type": "code",
      "metadata": {
        "id": "uzSB1a2NOnkE"
      },
      "source": [
        "train_acc = my_MLP.evaluate(trainloader)\n",
        "valid_acc = my_MLP.evaluate(validloader)\n",
        "test_acc = my_MLP.evaluate(testloader)"
      ],
      "execution_count": 53,
      "outputs": []
    },
    {
      "cell_type": "code",
      "metadata": {
        "id": "hZhy2LMSOpO0",
        "outputId": "9f44c63b-a4b4-4d4f-f9b9-72f922dd4ece",
        "colab": {
          "base_uri": "https://localhost:8080/"
        }
      },
      "source": [
        "print('Train accuracy is {}, Test accuracy is {}, Validation accuracy is {}'.format(train_acc, test_acc, valid_acc ))"
      ],
      "execution_count": 55,
      "outputs": [
        {
          "output_type": "stream",
          "text": [
            "Train accuracy is 0.9187899231910706, Test accuracy is 0.8788813948631287, Validation accuracy is 0.886303186416626\n"
          ],
          "name": "stdout"
        }
      ]
    },
    {
      "cell_type": "markdown",
      "metadata": {
        "id": "XM0lf4hAScFO"
      },
      "source": [
        "**ANSWER:**\n",
        "\n",
        "After applying early-stopping we get a less overfitted model as we have reduced the training accuracy by 0.05 points, going then from a difference between validation/test and train of almost 0.1 to more or less 0.03.\n",
        "\n",
        "Therefore we have improved our model, as it is able to better generalize unseen data; however, we can/should perform further regularizing steps as the difference between train and unknown data is still considerable."
      ]
    },
    {
      "cell_type": "markdown",
      "metadata": {
        "id": "8FNn6pJiyh2Z"
      },
      "source": [
        "## Part III. Using Dropout Regularization\n",
        "\n",
        "The most common method to reduce overfitting (outside of early-stopping) is *dropout*, where we randomly drop input units. This forces the network to share information between weights, increasing its ability to generalize to new data. Adding dropout in PyTorch is straightforward using the [`nn.Dropout`](https://pytorch.org/docs/stable/nn.html#torch.nn.Dropout) module.\n",
        "\n",
        "The following code corresponds to a 2 layer NN where we use dropout in the intermediate hidden space:\n",
        "\n",
        "\n",
        "```python\n",
        "class MLP_dropout(nn.Module):\n",
        "    def __init__(self,dimx,hidden1,nlabels): #Nlabels will be 10 in our case\n",
        "        super().__init__()\n",
        "        \n",
        "        self.output1 = nn.Linear(dimx,hidden1)  \n",
        "        \n",
        "        self.output2 = nn.Linear(hidden1,nlabels)\n",
        "    \n",
        "        self.relu = nn.ReLU()\n",
        "        \n",
        "        self.logsoftmax = nn.LogSoftmax(dim=1)  \n",
        "        \n",
        "        # Dropout module with 0.2 drop probability\n",
        "        self.dropout = nn.Dropout(p=0.2)\n",
        "        \n",
        "    def forward(self, x):\n",
        "        # Pass the input tensor through each of our operations\n",
        "        x = self.output1(x)\n",
        "        x = self.relu(x)\n",
        "        x = self.dropout(x)\n",
        "        x = self.output2(x)\n",
        "        x = self.logsoftmax(x) #YOUR CODE HERE\n",
        "        return x\n",
        "\n",
        "```\n",
        "\n",
        "During training we want to use dropout to prevent overfitting, but during inference we want to use the entire network. So, we need to turn off dropout during validation, testing, and whenever we're using the network to make predictions. To do this, you use `self.eval()`. This sets the model to evaluation mode where the dropout probability is 0. You can turn dropout back on by setting the model to train mode with `self.train()` (**This is why we cannot call our training method `train` anymore**). In general, the pattern for the validation loop will look like this, where you turn off gradients, set the model to evaluation mode, calculate the validation loss and metric, then set the model back to train mode.\n",
        "\n",
        "```python\n",
        "# turn off gradients\n",
        "with torch.no_grad():\n",
        "    \n",
        "    # set model to evaluation mode\n",
        "    self.eval()\n",
        "    \n",
        "    # validation pass here\n",
        "    for images, labels in testloader:\n",
        "        ...\n",
        "\n",
        "# set model back to train mode\n",
        "self.train()\n",
        "```\n",
        "\n",
        "> **Exercise:** \n",
        "> - Create a new NN class that modifies the previous one by incorporating a dropout step with `p=0.2`  after every ReLU non-linearity is applied. \n",
        "> - Modify the extended class to set `model.eval()` when appropiate (do not forget to go back to `model.train()`)\n",
        "> - For this new model, plot the evolution of the training and validation losses. Compare with the case with no dropout. Discuss the results. Is early stopping still required? If so, when you should stop training? Compare the train, validation and test performance.\n",
        "> - Repeat the experiments for a dropout probability of `p=0.1` and `p=0.3`. Which value provides the best validation performance? "
      ]
    },
    {
      "cell_type": "markdown",
      "metadata": {
        "id": "0K8SMw4XSL9_"
      },
      "source": [
        ""
      ]
    },
    {
      "cell_type": "code",
      "metadata": {
        "id": "Noc3aaRGyh2a"
      },
      "source": [
        "class MLPdrop(nn.Module):\n",
        "    \n",
        "    def __init__(self,dimx,hidden1,hidden2,hidden3,nlabels, drop_proportion=.2):\n",
        "      super().__init__()\n",
        "        \n",
        "      self.output1 = nn.Linear(dimx,hidden1)\n",
        "        \n",
        "      self.output2 = nn.Linear(hidden1,hidden2)\n",
        "        \n",
        "      self.output3 = nn.Linear(hidden2,hidden3)\n",
        "\n",
        "      self.output4 = nn.Linear(hidden3,nlabels)\n",
        "    \n",
        "      self.relu = nn.ReLU()\n",
        "      \n",
        "      self.logsoftmax = nn.LogSoftmax(dim=1)                                                             \n",
        "\n",
        "      self.dropout = nn.Dropout(p=drop_proportion)\n",
        "\n",
        "    def forward(self, x):\n",
        "      # Pass the input tensor through each of our operations\n",
        "      x = self.output1(x)\n",
        "      x = self.relu(x)\n",
        "      x = self.dropout(x)\n",
        "    \n",
        "      x = self.output2(x)\n",
        "      x = self.relu(x)\n",
        "      x = self.dropout(x)\n",
        "\n",
        "      x = self.output3(x)\n",
        "      x = self.relu(x)\n",
        "      x = self.dropout(x)\n",
        "\n",
        "      x = self.output4(x)\n",
        "      x = self.logsoftmax(x)\n",
        "      \n",
        "      return x"
      ],
      "execution_count": 62,
      "outputs": []
    },
    {
      "cell_type": "code",
      "metadata": {
        "id": "jr6-R7TFyh2a"
      },
      "source": [
        "class MLPdrop_extended(MLPdrop):\n",
        "    \n",
        "    def __init__(self,dimx,hidden1, hidden2,hidden3,nlabels,epochs,lr, drop_proportion):\n",
        "        \n",
        "        super().__init__(dimx,hidden1, hidden2, hidden3,nlabels, drop_proportion)  \n",
        "        \n",
        "        self.lr = lr\n",
        "        \n",
        "        self.optim = optim.Adam(self.parameters(), self.lr)\n",
        "        \n",
        "        self.epochs = epochs\n",
        "        \n",
        "        self.criterion = nn.NLLLoss()              \n",
        "\n",
        "        self.loss_during_training = [] \n",
        "\n",
        "        self.valid_loss_during_training = []\n",
        "        \n",
        "    def trainloop(self,trainloader, validloader):\n",
        "        \n",
        "        for e in range(int(self.epochs)):\n",
        "            \n",
        "            running_loss = 0.\n",
        "            \n",
        "            for images, labels in trainloader:             \n",
        "        \n",
        "                self.optim.zero_grad() \n",
        "\n",
        "                out = self.forward(images.view(images.shape[0], -1))\n",
        "\n",
        "                loss = self.criterion(out, labels)\n",
        "\n",
        "                running_loss += loss.item()\n",
        "\n",
        "                loss.backward()\n",
        "\n",
        "                self.optim.step()\n",
        "            \n",
        "            \n",
        "            # we compute the validation loss after each epoch\n",
        "            with torch.no_grad():\n",
        "              \n",
        "              self.eval()\n",
        "\n",
        "              running_loss_v = 0.\n",
        "\n",
        "              for images, labels in validloader:\n",
        "\n",
        "                out_v = self.forward(images.view(images.shape[0], -1))\n",
        "\n",
        "                loss_v = self.criterion(out_v, labels)\n",
        "\n",
        "                running_loss_v += loss_v.item()\n",
        "\n",
        "              self.valid_loss_during_training.append(running_loss_v/len(validloader))\n",
        "\n",
        "            self.train()\n",
        "\n",
        "            self.loss_during_training.append(running_loss/len(trainloader))\n",
        "\n",
        "            if(e % 1 == 0):\n",
        "              \n",
        "                print(\"Training loss after %d epochs: %f\" \n",
        "                      %(e,self.loss_during_training[-1]))\n",
        "                \n",
        "    def evaluate(self,dataloader):\n",
        "      accuracy = 0\n",
        "\n",
        "      with torch.no_grad():\n",
        "\n",
        "        self.eval()\n",
        "\n",
        "        for images,labels in dataloader:\n",
        "\n",
        "          logprobs = self.forward(images.view(images.shape[0], -1)) \n",
        "        \n",
        "          top_p, top_class = logprobs.topk(1, dim=1)\n",
        "          equals = (top_class == labels.view(images.shape[0], 1))\n",
        "          accuracy += torch.mean(equals.type(torch.FloatTensor))\n",
        "      \n",
        "      self.train()\n",
        "\n",
        "      return accuracy/len(dataloader)"
      ],
      "execution_count": 61,
      "outputs": []
    },
    {
      "cell_type": "code",
      "metadata": {
        "id": "prZlddvpyh2b",
        "outputId": "2deb6ca1-6310-43cf-84b1-1b8315acac76",
        "colab": {
          "base_uri": "https://localhost:8080/"
        }
      },
      "source": [
        "my_MLP = MLPdrop_extended(784, 256 ,128, 64, 10, 30, 0.001, 0.2)\n",
        "my_MLP.trainloop(trainloader, validloader)"
      ],
      "execution_count": 63,
      "outputs": [
        {
          "output_type": "stream",
          "text": [
            "Training loss after 0 epochs: 0.643728\n",
            "Training loss after 1 epochs: 0.457502\n",
            "Training loss after 2 epochs: 0.414236\n",
            "Training loss after 3 epochs: 0.392063\n",
            "Training loss after 4 epochs: 0.369018\n",
            "Training loss after 5 epochs: 0.352380\n",
            "Training loss after 6 epochs: 0.341005\n",
            "Training loss after 7 epochs: 0.332920\n",
            "Training loss after 8 epochs: 0.320147\n",
            "Training loss after 9 epochs: 0.314420\n",
            "Training loss after 10 epochs: 0.304081\n",
            "Training loss after 11 epochs: 0.298717\n",
            "Training loss after 12 epochs: 0.292010\n",
            "Training loss after 13 epochs: 0.285783\n",
            "Training loss after 14 epochs: 0.279657\n",
            "Training loss after 15 epochs: 0.272089\n",
            "Training loss after 16 epochs: 0.266470\n",
            "Training loss after 17 epochs: 0.260883\n",
            "Training loss after 18 epochs: 0.258933\n",
            "Training loss after 19 epochs: 0.259092\n",
            "Training loss after 20 epochs: 0.255387\n",
            "Training loss after 21 epochs: 0.248230\n",
            "Training loss after 22 epochs: 0.242556\n",
            "Training loss after 23 epochs: 0.238539\n",
            "Training loss after 24 epochs: 0.234338\n",
            "Training loss after 25 epochs: 0.232486\n",
            "Training loss after 26 epochs: 0.230514\n",
            "Training loss after 27 epochs: 0.226860\n",
            "Training loss after 28 epochs: 0.225545\n",
            "Training loss after 29 epochs: 0.215720\n"
          ],
          "name": "stdout"
        }
      ]
    },
    {
      "cell_type": "code",
      "metadata": {
        "id": "pGAS84KFyh2b",
        "outputId": "ca84fedd-8eca-43e6-c689-baa06ac5a879",
        "colab": {
          "base_uri": "https://localhost:8080/",
          "height": 312
        }
      },
      "source": [
        "plt.plot(my_MLP.valid_loss_during_training, color = 'C2',label='$Validation$')\n",
        "plt.plot(my_MLP.loss_during_training, color = 'C1',label='$Training$')\n",
        "opt_epochs = my_MLP.valid_loss_during_training.index(min(my_MLP.valid_loss_during_training))\n",
        "plt.axvline(x=opt_epochs, ls='--', label = str(opt_epochs) + 'epochs')\n",
        "\n",
        "plt.title('Value of loss function for validation and training set across iterations')\n",
        "plt.xlabel('Iterations')\n",
        "plt.grid()\n",
        "plt.legend(loc='center left', bbox_to_anchor=(1, 0.5))"
      ],
      "execution_count": 64,
      "outputs": [
        {
          "output_type": "execute_result",
          "data": {
            "text/plain": [
              "<matplotlib.legend.Legend at 0x7fe942911910>"
            ]
          },
          "metadata": {
            "tags": []
          },
          "execution_count": 64
        },
        {
          "output_type": "display_data",
          "data": {
            "image/png": "[encoded data removed]",
            "text/plain": [
              "<Figure size 432x288 with 1 Axes>"
            ]
          },
          "metadata": {
            "tags": [],
            "image/png": {
              "width": 479,
              "height": 277
            },
            "needs_background": "light"
          }
        }
      ]
    },
    {
      "cell_type": "markdown",
      "metadata": {
        "id": "VFSHP_IbX-bS"
      },
      "source": [
        "**ANSWER:**\n",
        "\n",
        "There are a couple of differences with the losses we obtained without dropout. The first one is that, while without dropout the model started to overfit after epoch 8, here the loss functions diverge (i.e the model overfits) after epoch 12-15. This implies that the model is able to learn more deeply the parameters without reproducing training data.\n",
        "\n",
        "The second observation is that, compared to the loss evolution we observed without dropout regularization, where the difference in loss between train and validation was noteworthy (around 0.35), here the difference between loss functions is around 0.1. Consequently we could say that the model overfits after epoch 15, but not so heavily as without dropout.\n",
        "\n",
        "The fact that after half the epochs the loss functions diverge is a clear indicator that, in order to get the best possible model, we should combine early-stopping and dropout. In this case we should stop the learning around epoch 12-15."
      ]
    },
    {
      "cell_type": "code",
      "metadata": {
        "id": "ABvyfTgbyh2b"
      },
      "source": [
        "train_acc = my_MLP.evaluate(trainloader)\n",
        "valid_acc = my_MLP.evaluate(validloader)\n",
        "test_acc = my_MLP.evaluate(testloader)"
      ],
      "execution_count": 65,
      "outputs": []
    },
    {
      "cell_type": "code",
      "metadata": {
        "id": "PmKQYauNyh2b",
        "outputId": "7fb60672-2c4b-4467-c210-bcdd966ac9f6",
        "colab": {
          "base_uri": "https://localhost:8080/"
        }
      },
      "source": [
        "print('Train accuracy is {}, Test accuracy is {}, Validation accuracy is {}'.format(train_acc, test_acc, valid_acc ))"
      ],
      "execution_count": 66,
      "outputs": [
        {
          "output_type": "stream",
          "text": [
            "Train accuracy is 0.9367009997367859, Test accuracy is 0.881170392036438, Validation accuracy is 0.8910239338874817\n"
          ],
          "name": "stdout"
        }
      ]
    },
    {
      "cell_type": "markdown",
      "metadata": {
        "id": "G8lDMXInbOz9"
      },
      "source": [
        "**ANSWER:**\n",
        "\n",
        "My conclusions on the loss function evolution are in line with the performance; the difference between the accuracies for known and unknown data is significant (around 0.05). Clearly the model is still overfitting. However, it improves the results we got without dropout (where the difference was 0.1); but not those we got with early-stopping (0.03). \n",
        "\n",
        "I'm strongly convinced that tuning the dropout parameter and performing early stopping at epoch 15 we can obtain optimal results. Let's check it."
      ]
    },
    {
      "cell_type": "code",
      "metadata": {
        "id": "d_BwInb0Yq2l",
        "outputId": "ed56435b-dd54-4e69-8fb3-206f2445af54",
        "colab": {
          "base_uri": "https://localhost:8080/"
        }
      },
      "source": [
        "import pandas as pd\n",
        "drop_results = {'DropoutProportion': [.1, .2,.3], 'TrainAccuracy':[0, 0, 0], 'ValidationAccuracy':[0, 0, 0], 'TestAccuracy':[0, 0, 0]}\n",
        "drop_results_df = pd.DataFrame(drop_results)\n",
        "p_values = [.1, .2,.3]\n",
        "\n",
        "for p in p_values:\n",
        "\n",
        "  my_MLP = MLPdrop_extended(784, 256 ,128, 64, 10, 15, 0.001, p)\n",
        "  my_MLP.trainloop(trainloader, validloader)\n",
        "  \n",
        "  drop_results_df.loc[drop_results_df['DropoutProportion']==p, 'TrainAccuracy'] = my_MLP.evaluate(trainloader).tolist()\n",
        "  drop_results_df.loc[drop_results_df['DropoutProportion']==p, 'TestAccuracy'] = my_MLP.evaluate(testloader).tolist()\n",
        "  drop_results_df.loc[drop_results_df['DropoutProportion']==p, 'ValidationAccuracy'] = my_MLP.evaluate(validloader).tolist()\n",
        "  "
      ],
      "execution_count": 82,
      "outputs": [
        {
          "output_type": "stream",
          "text": [
            "Training loss after 0 epochs: 0.594196\n",
            "Training loss after 1 epochs: 0.423329\n",
            "Training loss after 2 epochs: 0.383475\n",
            "Training loss after 3 epochs: 0.354897\n",
            "Training loss after 4 epochs: 0.337079\n",
            "Training loss after 5 epochs: 0.318735\n",
            "Training loss after 6 epochs: 0.308315\n",
            "Training loss after 7 epochs: 0.296432\n",
            "Training loss after 8 epochs: 0.286519\n",
            "Training loss after 9 epochs: 0.276820\n",
            "Training loss after 10 epochs: 0.269705\n",
            "Training loss after 11 epochs: 0.257684\n",
            "Training loss after 12 epochs: 0.253856\n",
            "Training loss after 13 epochs: 0.245456\n",
            "Training loss after 14 epochs: 0.237092\n",
            "Training loss after 0 epochs: 0.632088\n",
            "Training loss after 1 epochs: 0.451417\n",
            "Training loss after 2 epochs: 0.408902\n",
            "Training loss after 3 epochs: 0.380796\n",
            "Training loss after 4 epochs: 0.364472\n",
            "Training loss after 5 epochs: 0.350513\n",
            "Training loss after 6 epochs: 0.338431\n",
            "Training loss after 7 epochs: 0.330543\n",
            "Training loss after 8 epochs: 0.320719\n",
            "Training loss after 9 epochs: 0.314638\n",
            "Training loss after 10 epochs: 0.302334\n",
            "Training loss after 11 epochs: 0.296832\n",
            "Training loss after 12 epochs: 0.286818\n",
            "Training loss after 13 epochs: 0.287937\n",
            "Training loss after 14 epochs: 0.277169\n",
            "Training loss after 0 epochs: 0.687676\n",
            "Training loss after 1 epochs: 0.494813\n",
            "Training loss after 2 epochs: 0.448648\n",
            "Training loss after 3 epochs: 0.421454\n",
            "Training loss after 4 epochs: 0.402490\n",
            "Training loss after 5 epochs: 0.385107\n",
            "Training loss after 6 epochs: 0.381008\n",
            "Training loss after 7 epochs: 0.364601\n",
            "Training loss after 8 epochs: 0.359062\n",
            "Training loss after 9 epochs: 0.347262\n",
            "Training loss after 10 epochs: 0.343114\n",
            "Training loss after 11 epochs: 0.338037\n",
            "Training loss after 12 epochs: 0.328538\n",
            "Training loss after 13 epochs: 0.325261\n",
            "Training loss after 14 epochs: 0.318129\n"
          ],
          "name": "stdout"
        }
      ]
    },
    {
      "cell_type": "code",
      "metadata": {
        "id": "LV4oZjJodYuV",
        "outputId": "a21e4425-043a-4c7a-e180-7ea7eafd280a",
        "colab": {
          "base_uri": "https://localhost:8080/",
          "height": 137
        }
      },
      "source": [
        "drop_results_df"
      ],
      "execution_count": 83,
      "outputs": [
        {
          "output_type": "execute_result",
          "data": {
            "text/html": [
              "<div>\n",
              "<style scoped>\n",
              "    .dataframe tbody tr th:only-of-type {\n",
              "        vertical-align: middle;\n",
              "    }\n",
              "\n",
              "    .dataframe tbody tr th {\n",
              "        vertical-align: top;\n",
              "    }\n",
              "\n",
              "    .dataframe thead th {\n",
              "        text-align: right;\n",
              "    }\n",
              "</style>\n",
              "<table border=\"1\" class=\"dataframe\">\n",
              "  <thead>\n",
              "    <tr style=\"text-align: right;\">\n",
              "      <th></th>\n",
              "      <th>DropoutProportion</th>\n",
              "      <th>TrainAccuracy</th>\n",
              "      <th>ValidationAccuracy</th>\n",
              "      <th>TestAccuracy</th>\n",
              "    </tr>\n",
              "  </thead>\n",
              "  <tbody>\n",
              "    <tr>\n",
              "      <th>0</th>\n",
              "      <td>0.1</td>\n",
              "      <td>0.917969</td>\n",
              "      <td>0.882979</td>\n",
              "      <td>0.874900</td>\n",
              "    </tr>\n",
              "    <tr>\n",
              "      <th>1</th>\n",
              "      <td>0.2</td>\n",
              "      <td>0.916593</td>\n",
              "      <td>0.885018</td>\n",
              "      <td>0.877687</td>\n",
              "    </tr>\n",
              "    <tr>\n",
              "      <th>2</th>\n",
              "      <td>0.3</td>\n",
              "      <td>0.908913</td>\n",
              "      <td>0.886082</td>\n",
              "      <td>0.878483</td>\n",
              "    </tr>\n",
              "  </tbody>\n",
              "</table>\n",
              "</div>"
            ],
            "text/plain": [
              "   DropoutProportion  TrainAccuracy  ValidationAccuracy  TestAccuracy\n",
              "0                0.1       0.917969            0.882979      0.874900\n",
              "1                0.2       0.916593            0.885018      0.877687\n",
              "2                0.3       0.908913            0.886082      0.878483"
            ]
          },
          "metadata": {
            "tags": []
          },
          "execution_count": 83
        }
      ]
    },
    {
      "cell_type": "markdown",
      "metadata": {
        "id": "4kXPxxaGiz-Y"
      },
      "source": [
        "**ANSWER:**\n",
        "\n",
        "It seems that with a .3 dropout proportion and early stopping at 15 epochs we get the best solution: we slightly increase the validation and test accuracies, while reducing the train accuracy (difference of only 0.02). This model seems to be quite good as there are no signs of overfitting whatsoever.\n",
        "\n",
        "With 0.1 and 0.2 we get similar performances for unknown data, but the models seem to be a bit overfitted as the difference with the train accuracy is around 0.03.\n",
        "\n",
        "After checking these results I believe it would be interesting to stop the training a bit earlier (maybe at epoch 13-14). However, as the results with 0.3 are quite good I don't believe it's essential to retrain the models."
      ]
    },
    {
      "cell_type": "markdown",
      "metadata": {
        "id": "MpHsj9FqiyOd"
      },
      "source": [
        ""
      ]
    }
  ]
}
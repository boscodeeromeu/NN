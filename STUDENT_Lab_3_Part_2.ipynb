{
  "nbformat": 4,
  "nbformat_minor": 0,
  "metadata": {
    "accelerator": "GPU",
    "colab": {
      "name": "STUDENT_Lab_3_Part_2.ipynb",
      "provenance": [],
      "collapsed_sections": [],
      "include_colab_link": true
    },
    "kernelspec": {
      "display_name": "Python 3",
      "language": "python",
      "name": "python3"
    },
    "language_info": {
      "codemirror_mode": {
        "name": "ipython",
        "version": 3
      },
      "file_extension": ".py",
      "mimetype": "text/x-python",
      "name": "python",
      "nbconvert_exporter": "python",
      "pygments_lexer": "ipython3",
      "version": "3.7.3"
    },
    "widgets": {
      "application/vnd.jupyter.widget-state+json": {
        "770eed0d069445d6aebb8fea0b106b3b": {
          "model_module": "@jupyter-widgets/controls",
          "model_name": "HBoxModel",
          "state": {
            "_view_name": "HBoxView",
            "_dom_classes": [],
            "_model_name": "HBoxModel",
            "_view_module": "@jupyter-widgets/controls",
            "_model_module_version": "1.5.0",
            "_view_count": null,
            "_view_module_version": "1.5.0",
            "box_style": "",
            "layout": "IPY_MODEL_4856538d540147269c58890a6429383c",
            "_model_module": "@jupyter-widgets/controls",
            "children": [
              "IPY_MODEL_8f456cfcbf6646a195e1ddb47897c9d0",
              "IPY_MODEL_055252548fc741e9b08ec64e05a7a35c"
            ]
          }
        },
        "4856538d540147269c58890a6429383c": {
          "model_module": "@jupyter-widgets/base",
          "model_name": "LayoutModel",
          "state": {
            "_view_name": "LayoutView",
            "grid_template_rows": null,
            "right": null,
            "justify_content": null,
            "_view_module": "@jupyter-widgets/base",
            "overflow": null,
            "_model_module_version": "1.2.0",
            "_view_count": null,
            "flex_flow": null,
            "width": null,
            "min_width": null,
            "border": null,
            "align_items": null,
            "bottom": null,
            "_model_module": "@jupyter-widgets/base",
            "top": null,
            "grid_column": null,
            "overflow_y": null,
            "overflow_x": null,
            "grid_auto_flow": null,
            "grid_area": null,
            "grid_template_columns": null,
            "flex": null,
            "_model_name": "LayoutModel",
            "justify_items": null,
            "grid_row": null,
            "max_height": null,
            "align_content": null,
            "visibility": null,
            "align_self": null,
            "height": null,
            "min_height": null,
            "padding": null,
            "grid_auto_rows": null,
            "grid_gap": null,
            "max_width": null,
            "order": null,
            "_view_module_version": "1.2.0",
            "grid_template_areas": null,
            "object_position": null,
            "object_fit": null,
            "grid_auto_columns": null,
            "margin": null,
            "display": null,
            "left": null
          }
        },
        "8f456cfcbf6646a195e1ddb47897c9d0": {
          "model_module": "@jupyter-widgets/controls",
          "model_name": "FloatProgressModel",
          "state": {
            "_view_name": "ProgressView",
            "style": "IPY_MODEL_793d0b3807594454b807e12d4f3cb2b3",
            "_dom_classes": [],
            "description": "",
            "_model_name": "FloatProgressModel",
            "bar_style": "success",
            "max": 9912422,
            "_view_module": "@jupyter-widgets/controls",
            "_model_module_version": "1.5.0",
            "value": 9912422,
            "_view_count": null,
            "_view_module_version": "1.5.0",
            "orientation": "horizontal",
            "min": 0,
            "description_tooltip": null,
            "_model_module": "@jupyter-widgets/controls",
            "layout": "IPY_MODEL_e17c2bd72921404b805a948958d17be6"
          }
        },
        "055252548fc741e9b08ec64e05a7a35c": {
          "model_module": "@jupyter-widgets/controls",
          "model_name": "HTMLModel",
          "state": {
            "_view_name": "HTMLView",
            "style": "IPY_MODEL_adb1265735e94fc681c19f65995cbc75",
            "_dom_classes": [],
            "description": "",
            "_model_name": "HTMLModel",
            "placeholder": "​",
            "_view_module": "@jupyter-widgets/controls",
            "_model_module_version": "1.5.0",
            "value": " 9913344/? [01:03&lt;00:00, 156606.48it/s]",
            "_view_count": null,
            "_view_module_version": "1.5.0",
            "description_tooltip": null,
            "_model_module": "@jupyter-widgets/controls",
            "layout": "IPY_MODEL_02fc702eef2440dd8a41e7b06a536c00"
          }
        },
        "793d0b3807594454b807e12d4f3cb2b3": {
          "model_module": "@jupyter-widgets/controls",
          "model_name": "ProgressStyleModel",
          "state": {
            "_view_name": "StyleView",
            "_model_name": "ProgressStyleModel",
            "description_width": "initial",
            "_view_module": "@jupyter-widgets/base",
            "_model_module_version": "1.5.0",
            "_view_count": null,
            "_view_module_version": "1.2.0",
            "bar_color": null,
            "_model_module": "@jupyter-widgets/controls"
          }
        },
        "e17c2bd72921404b805a948958d17be6": {
          "model_module": "@jupyter-widgets/base",
          "model_name": "LayoutModel",
          "state": {
            "_view_name": "LayoutView",
            "grid_template_rows": null,
            "right": null,
            "justify_content": null,
            "_view_module": "@jupyter-widgets/base",
            "overflow": null,
            "_model_module_version": "1.2.0",
            "_view_count": null,
            "flex_flow": null,
            "width": null,
            "min_width": null,
            "border": null,
            "align_items": null,
            "bottom": null,
            "_model_module": "@jupyter-widgets/base",
            "top": null,
            "grid_column": null,
            "overflow_y": null,
            "overflow_x": null,
            "grid_auto_flow": null,
            "grid_area": null,
            "grid_template_columns": null,
            "flex": null,
            "_model_name": "LayoutModel",
            "justify_items": null,
            "grid_row": null,
            "max_height": null,
            "align_content": null,
            "visibility": null,
            "align_self": null,
            "height": null,
            "min_height": null,
            "padding": null,
            "grid_auto_rows": null,
            "grid_gap": null,
            "max_width": null,
            "order": null,
            "_view_module_version": "1.2.0",
            "grid_template_areas": null,
            "object_position": null,
            "object_fit": null,
            "grid_auto_columns": null,
            "margin": null,
            "display": null,
            "left": null
          }
        },
        "adb1265735e94fc681c19f65995cbc75": {
          "model_module": "@jupyter-widgets/controls",
          "model_name": "DescriptionStyleModel",
          "state": {
            "_view_name": "StyleView",
            "_model_name": "DescriptionStyleModel",
            "description_width": "",
            "_view_module": "@jupyter-widgets/base",
            "_model_module_version": "1.5.0",
            "_view_count": null,
            "_view_module_version": "1.2.0",
            "_model_module": "@jupyter-widgets/controls"
          }
        },
        "02fc702eef2440dd8a41e7b06a536c00": {
          "model_module": "@jupyter-widgets/base",
          "model_name": "LayoutModel",
          "state": {
            "_view_name": "LayoutView",
            "grid_template_rows": null,
            "right": null,
            "justify_content": null,
            "_view_module": "@jupyter-widgets/base",
            "overflow": null,
            "_model_module_version": "1.2.0",
            "_view_count": null,
            "flex_flow": null,
            "width": null,
            "min_width": null,
            "border": null,
            "align_items": null,
            "bottom": null,
            "_model_module": "@jupyter-widgets/base",
            "top": null,
            "grid_column": null,
            "overflow_y": null,
            "overflow_x": null,
            "grid_auto_flow": null,
            "grid_area": null,
            "grid_template_columns": null,
            "flex": null,
            "_model_name": "LayoutModel",
            "justify_items": null,
            "grid_row": null,
            "max_height": null,
            "align_content": null,
            "visibility": null,
            "align_self": null,
            "height": null,
            "min_height": null,
            "padding": null,
            "grid_auto_rows": null,
            "grid_gap": null,
            "max_width": null,
            "order": null,
            "_view_module_version": "1.2.0",
            "grid_template_areas": null,
            "object_position": null,
            "object_fit": null,
            "grid_auto_columns": null,
            "margin": null,
            "display": null,
            "left": null
          }
        },
        "f288f91c6e49402a8b8e52a659bcf888": {
          "model_module": "@jupyter-widgets/controls",
          "model_name": "HBoxModel",
          "state": {
            "_view_name": "HBoxView",
            "_dom_classes": [],
            "_model_name": "HBoxModel",
            "_view_module": "@jupyter-widgets/controls",
            "_model_module_version": "1.5.0",
            "_view_count": null,
            "_view_module_version": "1.5.0",
            "box_style": "",
            "layout": "IPY_MODEL_464e58aa9b9c4239a21dbcef8c3ccec9",
            "_model_module": "@jupyter-widgets/controls",
            "children": [
              "IPY_MODEL_5b72be33cfb14f6b9a3bef6cc621a335",
              "IPY_MODEL_472e00281e7940bea0fe0f746e9f1211"
            ]
          }
        },
        "464e58aa9b9c4239a21dbcef8c3ccec9": {
          "model_module": "@jupyter-widgets/base",
          "model_name": "LayoutModel",
          "state": {
            "_view_name": "LayoutView",
            "grid_template_rows": null,
            "right": null,
            "justify_content": null,
            "_view_module": "@jupyter-widgets/base",
            "overflow": null,
            "_model_module_version": "1.2.0",
            "_view_count": null,
            "flex_flow": null,
            "width": null,
            "min_width": null,
            "border": null,
            "align_items": null,
            "bottom": null,
            "_model_module": "@jupyter-widgets/base",
            "top": null,
            "grid_column": null,
            "overflow_y": null,
            "overflow_x": null,
            "grid_auto_flow": null,
            "grid_area": null,
            "grid_template_columns": null,
            "flex": null,
            "_model_name": "LayoutModel",
            "justify_items": null,
            "grid_row": null,
            "max_height": null,
            "align_content": null,
            "visibility": null,
            "align_self": null,
            "height": null,
            "min_height": null,
            "padding": null,
            "grid_auto_rows": null,
            "grid_gap": null,
            "max_width": null,
            "order": null,
            "_view_module_version": "1.2.0",
            "grid_template_areas": null,
            "object_position": null,
            "object_fit": null,
            "grid_auto_columns": null,
            "margin": null,
            "display": null,
            "left": null
          }
        },
        "5b72be33cfb14f6b9a3bef6cc621a335": {
          "model_module": "@jupyter-widgets/controls",
          "model_name": "FloatProgressModel",
          "state": {
            "_view_name": "ProgressView",
            "style": "IPY_MODEL_f59979a790a04c74ae08d60c6b36eb8a",
            "_dom_classes": [],
            "description": "",
            "_model_name": "FloatProgressModel",
            "bar_style": "success",
            "max": 28881,
            "_view_module": "@jupyter-widgets/controls",
            "_model_module_version": "1.5.0",
            "value": 28881,
            "_view_count": null,
            "_view_module_version": "1.5.0",
            "orientation": "horizontal",
            "min": 0,
            "description_tooltip": null,
            "_model_module": "@jupyter-widgets/controls",
            "layout": "IPY_MODEL_56feefffc9db49569a605a164aa3fb38"
          }
        },
        "472e00281e7940bea0fe0f746e9f1211": {
          "model_module": "@jupyter-widgets/controls",
          "model_name": "HTMLModel",
          "state": {
            "_view_name": "HTMLView",
            "style": "IPY_MODEL_74a23786474742d197c45a6ea9d69aee",
            "_dom_classes": [],
            "description": "",
            "_model_name": "HTMLModel",
            "placeholder": "​",
            "_view_module": "@jupyter-widgets/controls",
            "_model_module_version": "1.5.0",
            "value": " 29696/? [00:58&lt;00:00, 505.54it/s]",
            "_view_count": null,
            "_view_module_version": "1.5.0",
            "description_tooltip": null,
            "_model_module": "@jupyter-widgets/controls",
            "layout": "IPY_MODEL_cf031f75f98a495bb5b7d283211b13e9"
          }
        },
        "f59979a790a04c74ae08d60c6b36eb8a": {
          "model_module": "@jupyter-widgets/controls",
          "model_name": "ProgressStyleModel",
          "state": {
            "_view_name": "StyleView",
            "_model_name": "ProgressStyleModel",
            "description_width": "initial",
            "_view_module": "@jupyter-widgets/base",
            "_model_module_version": "1.5.0",
            "_view_count": null,
            "_view_module_version": "1.2.0",
            "bar_color": null,
            "_model_module": "@jupyter-widgets/controls"
          }
        },
        "56feefffc9db49569a605a164aa3fb38": {
          "model_module": "@jupyter-widgets/base",
          "model_name": "LayoutModel",
          "state": {
            "_view_name": "LayoutView",
            "grid_template_rows": null,
            "right": null,
            "justify_content": null,
            "_view_module": "@jupyter-widgets/base",
            "overflow": null,
            "_model_module_version": "1.2.0",
            "_view_count": null,
            "flex_flow": null,
            "width": null,
            "min_width": null,
            "border": null,
            "align_items": null,
            "bottom": null,
            "_model_module": "@jupyter-widgets/base",
            "top": null,
            "grid_column": null,
            "overflow_y": null,
            "overflow_x": null,
            "grid_auto_flow": null,
            "grid_area": null,
            "grid_template_columns": null,
            "flex": null,
            "_model_name": "LayoutModel",
            "justify_items": null,
            "grid_row": null,
            "max_height": null,
            "align_content": null,
            "visibility": null,
            "align_self": null,
            "height": null,
            "min_height": null,
            "padding": null,
            "grid_auto_rows": null,
            "grid_gap": null,
            "max_width": null,
            "order": null,
            "_view_module_version": "1.2.0",
            "grid_template_areas": null,
            "object_position": null,
            "object_fit": null,
            "grid_auto_columns": null,
            "margin": null,
            "display": null,
            "left": null
          }
        },
        "74a23786474742d197c45a6ea9d69aee": {
          "model_module": "@jupyter-widgets/controls",
          "model_name": "DescriptionStyleModel",
          "state": {
            "_view_name": "StyleView",
            "_model_name": "DescriptionStyleModel",
            "description_width": "",
            "_view_module": "@jupyter-widgets/base",
            "_model_module_version": "1.5.0",
            "_view_count": null,
            "_view_module_version": "1.2.0",
            "_model_module": "@jupyter-widgets/controls"
          }
        },
        "cf031f75f98a495bb5b7d283211b13e9": {
          "model_module": "@jupyter-widgets/base",
          "model_name": "LayoutModel",
          "state": {
            "_view_name": "LayoutView",
            "grid_template_rows": null,
            "right": null,
            "justify_content": null,
            "_view_module": "@jupyter-widgets/base",
            "overflow": null,
            "_model_module_version": "1.2.0",
            "_view_count": null,
            "flex_flow": null,
            "width": null,
            "min_width": null,
            "border": null,
            "align_items": null,
            "bottom": null,
            "_model_module": "@jupyter-widgets/base",
            "top": null,
            "grid_column": null,
            "overflow_y": null,
            "overflow_x": null,
            "grid_auto_flow": null,
            "grid_area": null,
            "grid_template_columns": null,
            "flex": null,
            "_model_name": "LayoutModel",
            "justify_items": null,
            "grid_row": null,
            "max_height": null,
            "align_content": null,
            "visibility": null,
            "align_self": null,
            "height": null,
            "min_height": null,
            "padding": null,
            "grid_auto_rows": null,
            "grid_gap": null,
            "max_width": null,
            "order": null,
            "_view_module_version": "1.2.0",
            "grid_template_areas": null,
            "object_position": null,
            "object_fit": null,
            "grid_auto_columns": null,
            "margin": null,
            "display": null,
            "left": null
          }
        },
        "c8959565119d46dc953a2c8f902c5c4b": {
          "model_module": "@jupyter-widgets/controls",
          "model_name": "HBoxModel",
          "state": {
            "_view_name": "HBoxView",
            "_dom_classes": [],
            "_model_name": "HBoxModel",
            "_view_module": "@jupyter-widgets/controls",
            "_model_module_version": "1.5.0",
            "_view_count": null,
            "_view_module_version": "1.5.0",
            "box_style": "",
            "layout": "IPY_MODEL_b4d3b52c7f254bed89ba922f06da5aa8",
            "_model_module": "@jupyter-widgets/controls",
            "children": [
              "IPY_MODEL_defc1d5f09df464f845be294484206ae",
              "IPY_MODEL_64bddbb9bf30443ca505b21d12efa53c"
            ]
          }
        },
        "b4d3b52c7f254bed89ba922f06da5aa8": {
          "model_module": "@jupyter-widgets/base",
          "model_name": "LayoutModel",
          "state": {
            "_view_name": "LayoutView",
            "grid_template_rows": null,
            "right": null,
            "justify_content": null,
            "_view_module": "@jupyter-widgets/base",
            "overflow": null,
            "_model_module_version": "1.2.0",
            "_view_count": null,
            "flex_flow": null,
            "width": null,
            "min_width": null,
            "border": null,
            "align_items": null,
            "bottom": null,
            "_model_module": "@jupyter-widgets/base",
            "top": null,
            "grid_column": null,
            "overflow_y": null,
            "overflow_x": null,
            "grid_auto_flow": null,
            "grid_area": null,
            "grid_template_columns": null,
            "flex": null,
            "_model_name": "LayoutModel",
            "justify_items": null,
            "grid_row": null,
            "max_height": null,
            "align_content": null,
            "visibility": null,
            "align_self": null,
            "height": null,
            "min_height": null,
            "padding": null,
            "grid_auto_rows": null,
            "grid_gap": null,
            "max_width": null,
            "order": null,
            "_view_module_version": "1.2.0",
            "grid_template_areas": null,
            "object_position": null,
            "object_fit": null,
            "grid_auto_columns": null,
            "margin": null,
            "display": null,
            "left": null
          }
        },
        "defc1d5f09df464f845be294484206ae": {
          "model_module": "@jupyter-widgets/controls",
          "model_name": "FloatProgressModel",
          "state": {
            "_view_name": "ProgressView",
            "style": "IPY_MODEL_72552aa7685344768c791e77c2ae8171",
            "_dom_classes": [],
            "description": "",
            "_model_name": "FloatProgressModel",
            "bar_style": "success",
            "max": 1648877,
            "_view_module": "@jupyter-widgets/controls",
            "_model_module_version": "1.5.0",
            "value": 1648877,
            "_view_count": null,
            "_view_module_version": "1.5.0",
            "orientation": "horizontal",
            "min": 0,
            "description_tooltip": null,
            "_model_module": "@jupyter-widgets/controls",
            "layout": "IPY_MODEL_4948e51d46c846f0aea3ad8e14c23375"
          }
        },
        "64bddbb9bf30443ca505b21d12efa53c": {
          "model_module": "@jupyter-widgets/controls",
          "model_name": "HTMLModel",
          "state": {
            "_view_name": "HTMLView",
            "style": "IPY_MODEL_441756e253ab40aeb41bf6c5c3afadad",
            "_dom_classes": [],
            "description": "",
            "_model_name": "HTMLModel",
            "placeholder": "​",
            "_view_module": "@jupyter-widgets/controls",
            "_model_module_version": "1.5.0",
            "value": " 1649664/? [00:03&lt;00:00, 445178.97it/s]",
            "_view_count": null,
            "_view_module_version": "1.5.0",
            "description_tooltip": null,
            "_model_module": "@jupyter-widgets/controls",
            "layout": "IPY_MODEL_b01ea65f0d2a4e38ad173340856b47e4"
          }
        },
        "72552aa7685344768c791e77c2ae8171": {
          "model_module": "@jupyter-widgets/controls",
          "model_name": "ProgressStyleModel",
          "state": {
            "_view_name": "StyleView",
            "_model_name": "ProgressStyleModel",
            "description_width": "initial",
            "_view_module": "@jupyter-widgets/base",
            "_model_module_version": "1.5.0",
            "_view_count": null,
            "_view_module_version": "1.2.0",
            "bar_color": null,
            "_model_module": "@jupyter-widgets/controls"
          }
        },
        "4948e51d46c846f0aea3ad8e14c23375": {
          "model_module": "@jupyter-widgets/base",
          "model_name": "LayoutModel",
          "state": {
            "_view_name": "LayoutView",
            "grid_template_rows": null,
            "right": null,
            "justify_content": null,
            "_view_module": "@jupyter-widgets/base",
            "overflow": null,
            "_model_module_version": "1.2.0",
            "_view_count": null,
            "flex_flow": null,
            "width": null,
            "min_width": null,
            "border": null,
            "align_items": null,
            "bottom": null,
            "_model_module": "@jupyter-widgets/base",
            "top": null,
            "grid_column": null,
            "overflow_y": null,
            "overflow_x": null,
            "grid_auto_flow": null,
            "grid_area": null,
            "grid_template_columns": null,
            "flex": null,
            "_model_name": "LayoutModel",
            "justify_items": null,
            "grid_row": null,
            "max_height": null,
            "align_content": null,
            "visibility": null,
            "align_self": null,
            "height": null,
            "min_height": null,
            "padding": null,
            "grid_auto_rows": null,
            "grid_gap": null,
            "max_width": null,
            "order": null,
            "_view_module_version": "1.2.0",
            "grid_template_areas": null,
            "object_position": null,
            "object_fit": null,
            "grid_auto_columns": null,
            "margin": null,
            "display": null,
            "left": null
          }
        },
        "441756e253ab40aeb41bf6c5c3afadad": {
          "model_module": "@jupyter-widgets/controls",
          "model_name": "DescriptionStyleModel",
          "state": {
            "_view_name": "StyleView",
            "_model_name": "DescriptionStyleModel",
            "description_width": "",
            "_view_module": "@jupyter-widgets/base",
            "_model_module_version": "1.5.0",
            "_view_count": null,
            "_view_module_version": "1.2.0",
            "_model_module": "@jupyter-widgets/controls"
          }
        },
        "b01ea65f0d2a4e38ad173340856b47e4": {
          "model_module": "@jupyter-widgets/base",
          "model_name": "LayoutModel",
          "state": {
            "_view_name": "LayoutView",
            "grid_template_rows": null,
            "right": null,
            "justify_content": null,
            "_view_module": "@jupyter-widgets/base",
            "overflow": null,
            "_model_module_version": "1.2.0",
            "_view_count": null,
            "flex_flow": null,
            "width": null,
            "min_width": null,
            "border": null,
            "align_items": null,
            "bottom": null,
            "_model_module": "@jupyter-widgets/base",
            "top": null,
            "grid_column": null,
            "overflow_y": null,
            "overflow_x": null,
            "grid_auto_flow": null,
            "grid_area": null,
            "grid_template_columns": null,
            "flex": null,
            "_model_name": "LayoutModel",
            "justify_items": null,
            "grid_row": null,
            "max_height": null,
            "align_content": null,
            "visibility": null,
            "align_self": null,
            "height": null,
            "min_height": null,
            "padding": null,
            "grid_auto_rows": null,
            "grid_gap": null,
            "max_width": null,
            "order": null,
            "_view_module_version": "1.2.0",
            "grid_template_areas": null,
            "object_position": null,
            "object_fit": null,
            "grid_auto_columns": null,
            "margin": null,
            "display": null,
            "left": null
          }
        },
        "e4d9d49b48f54a33b28fd417259de9b8": {
          "model_module": "@jupyter-widgets/controls",
          "model_name": "HBoxModel",
          "state": {
            "_view_name": "HBoxView",
            "_dom_classes": [],
            "_model_name": "HBoxModel",
            "_view_module": "@jupyter-widgets/controls",
            "_model_module_version": "1.5.0",
            "_view_count": null,
            "_view_module_version": "1.5.0",
            "box_style": "",
            "layout": "IPY_MODEL_9b8bcfe45b88495da47c5ab2ba70da13",
            "_model_module": "@jupyter-widgets/controls",
            "children": [
              "IPY_MODEL_89d9b600d71f4a84a12b002e5c3a94dc",
              "IPY_MODEL_de586e8917de484a8934b62cf71019ce"
            ]
          }
        },
        "9b8bcfe45b88495da47c5ab2ba70da13": {
          "model_module": "@jupyter-widgets/base",
          "model_name": "LayoutModel",
          "state": {
            "_view_name": "LayoutView",
            "grid_template_rows": null,
            "right": null,
            "justify_content": null,
            "_view_module": "@jupyter-widgets/base",
            "overflow": null,
            "_model_module_version": "1.2.0",
            "_view_count": null,
            "flex_flow": null,
            "width": null,
            "min_width": null,
            "border": null,
            "align_items": null,
            "bottom": null,
            "_model_module": "@jupyter-widgets/base",
            "top": null,
            "grid_column": null,
            "overflow_y": null,
            "overflow_x": null,
            "grid_auto_flow": null,
            "grid_area": null,
            "grid_template_columns": null,
            "flex": null,
            "_model_name": "LayoutModel",
            "justify_items": null,
            "grid_row": null,
            "max_height": null,
            "align_content": null,
            "visibility": null,
            "align_self": null,
            "height": null,
            "min_height": null,
            "padding": null,
            "grid_auto_rows": null,
            "grid_gap": null,
            "max_width": null,
            "order": null,
            "_view_module_version": "1.2.0",
            "grid_template_areas": null,
            "object_position": null,
            "object_fit": null,
            "grid_auto_columns": null,
            "margin": null,
            "display": null,
            "left": null
          }
        },
        "89d9b600d71f4a84a12b002e5c3a94dc": {
          "model_module": "@jupyter-widgets/controls",
          "model_name": "FloatProgressModel",
          "state": {
            "_view_name": "ProgressView",
            "style": "IPY_MODEL_e0c6b2eea2834525b18594314ade2f28",
            "_dom_classes": [],
            "description": "",
            "_model_name": "FloatProgressModel",
            "bar_style": "success",
            "max": 4542,
            "_view_module": "@jupyter-widgets/controls",
            "_model_module_version": "1.5.0",
            "value": 4542,
            "_view_count": null,
            "_view_module_version": "1.5.0",
            "orientation": "horizontal",
            "min": 0,
            "description_tooltip": null,
            "_model_module": "@jupyter-widgets/controls",
            "layout": "IPY_MODEL_a02d1d3d621d470485edf56c606c9775"
          }
        },
        "de586e8917de484a8934b62cf71019ce": {
          "model_module": "@jupyter-widgets/controls",
          "model_name": "HTMLModel",
          "state": {
            "_view_name": "HTMLView",
            "style": "IPY_MODEL_420d53ec486641c58cdf66f5e42391c4",
            "_dom_classes": [],
            "description": "",
            "_model_name": "HTMLModel",
            "placeholder": "​",
            "_view_module": "@jupyter-widgets/controls",
            "_model_module_version": "1.5.0",
            "value": " 5120/? [00:00&lt;00:00, 20106.92it/s]",
            "_view_count": null,
            "_view_module_version": "1.5.0",
            "description_tooltip": null,
            "_model_module": "@jupyter-widgets/controls",
            "layout": "IPY_MODEL_ae72ea0d62034fc7b380cd9eaae58f18"
          }
        },
        "e0c6b2eea2834525b18594314ade2f28": {
          "model_module": "@jupyter-widgets/controls",
          "model_name": "ProgressStyleModel",
          "state": {
            "_view_name": "StyleView",
            "_model_name": "ProgressStyleModel",
            "description_width": "initial",
            "_view_module": "@jupyter-widgets/base",
            "_model_module_version": "1.5.0",
            "_view_count": null,
            "_view_module_version": "1.2.0",
            "bar_color": null,
            "_model_module": "@jupyter-widgets/controls"
          }
        },
        "a02d1d3d621d470485edf56c606c9775": {
          "model_module": "@jupyter-widgets/base",
          "model_name": "LayoutModel",
          "state": {
            "_view_name": "LayoutView",
            "grid_template_rows": null,
            "right": null,
            "justify_content": null,
            "_view_module": "@jupyter-widgets/base",
            "overflow": null,
            "_model_module_version": "1.2.0",
            "_view_count": null,
            "flex_flow": null,
            "width": null,
            "min_width": null,
            "border": null,
            "align_items": null,
            "bottom": null,
            "_model_module": "@jupyter-widgets/base",
            "top": null,
            "grid_column": null,
            "overflow_y": null,
            "overflow_x": null,
            "grid_auto_flow": null,
            "grid_area": null,
            "grid_template_columns": null,
            "flex": null,
            "_model_name": "LayoutModel",
            "justify_items": null,
            "grid_row": null,
            "max_height": null,
            "align_content": null,
            "visibility": null,
            "align_self": null,
            "height": null,
            "min_height": null,
            "padding": null,
            "grid_auto_rows": null,
            "grid_gap": null,
            "max_width": null,
            "order": null,
            "_view_module_version": "1.2.0",
            "grid_template_areas": null,
            "object_position": null,
            "object_fit": null,
            "grid_auto_columns": null,
            "margin": null,
            "display": null,
            "left": null
          }
        },
        "420d53ec486641c58cdf66f5e42391c4": {
          "model_module": "@jupyter-widgets/controls",
          "model_name": "DescriptionStyleModel",
          "state": {
            "_view_name": "StyleView",
            "_model_name": "DescriptionStyleModel",
            "description_width": "",
            "_view_module": "@jupyter-widgets/base",
            "_model_module_version": "1.5.0",
            "_view_count": null,
            "_view_module_version": "1.2.0",
            "_model_module": "@jupyter-widgets/controls"
          }
        },
        "ae72ea0d62034fc7b380cd9eaae58f18": {
          "model_module": "@jupyter-widgets/base",
          "model_name": "LayoutModel",
          "state": {
            "_view_name": "LayoutView",
            "grid_template_rows": null,
            "right": null,
            "justify_content": null,
            "_view_module": "@jupyter-widgets/base",
            "overflow": null,
            "_model_module_version": "1.2.0",
            "_view_count": null,
            "flex_flow": null,
            "width": null,
            "min_width": null,
            "border": null,
            "align_items": null,
            "bottom": null,
            "_model_module": "@jupyter-widgets/base",
            "top": null,
            "grid_column": null,
            "overflow_y": null,
            "overflow_x": null,
            "grid_auto_flow": null,
            "grid_area": null,
            "grid_template_columns": null,
            "flex": null,
            "_model_name": "LayoutModel",
            "justify_items": null,
            "grid_row": null,
            "max_height": null,
            "align_content": null,
            "visibility": null,
            "align_self": null,
            "height": null,
            "min_height": null,
            "padding": null,
            "grid_auto_rows": null,
            "grid_gap": null,
            "max_width": null,
            "order": null,
            "_view_module_version": "1.2.0",
            "grid_template_areas": null,
            "object_position": null,
            "object_fit": null,
            "grid_auto_columns": null,
            "margin": null,
            "display": null,
            "left": null
          }
        },
        "7f9bfb6a81ba41629cf5bbefbf9759d5": {
          "model_module": "@jupyter-widgets/controls",
          "model_name": "HBoxModel",
          "state": {
            "_view_name": "HBoxView",
            "_dom_classes": [],
            "_model_name": "HBoxModel",
            "_view_module": "@jupyter-widgets/controls",
            "_model_module_version": "1.5.0",
            "_view_count": null,
            "_view_module_version": "1.5.0",
            "box_style": "",
            "layout": "IPY_MODEL_f1e4cdd543af4ed1850a70e565c197b4",
            "_model_module": "@jupyter-widgets/controls",
            "children": [
              "IPY_MODEL_c42f574470e9464988ce4817ebc85903",
              "IPY_MODEL_240d404a0b6a49dea81bc4049f6037f4"
            ]
          }
        },
        "f1e4cdd543af4ed1850a70e565c197b4": {
          "model_module": "@jupyter-widgets/base",
          "model_name": "LayoutModel",
          "state": {
            "_view_name": "LayoutView",
            "grid_template_rows": null,
            "right": null,
            "justify_content": null,
            "_view_module": "@jupyter-widgets/base",
            "overflow": null,
            "_model_module_version": "1.2.0",
            "_view_count": null,
            "flex_flow": null,
            "width": null,
            "min_width": null,
            "border": null,
            "align_items": null,
            "bottom": null,
            "_model_module": "@jupyter-widgets/base",
            "top": null,
            "grid_column": null,
            "overflow_y": null,
            "overflow_x": null,
            "grid_auto_flow": null,
            "grid_area": null,
            "grid_template_columns": null,
            "flex": null,
            "_model_name": "LayoutModel",
            "justify_items": null,
            "grid_row": null,
            "max_height": null,
            "align_content": null,
            "visibility": null,
            "align_self": null,
            "height": null,
            "min_height": null,
            "padding": null,
            "grid_auto_rows": null,
            "grid_gap": null,
            "max_width": null,
            "order": null,
            "_view_module_version": "1.2.0",
            "grid_template_areas": null,
            "object_position": null,
            "object_fit": null,
            "grid_auto_columns": null,
            "margin": null,
            "display": null,
            "left": null
          }
        },
        "c42f574470e9464988ce4817ebc85903": {
          "model_module": "@jupyter-widgets/controls",
          "model_name": "FloatProgressModel",
          "state": {
            "_view_name": "ProgressView",
            "style": "IPY_MODEL_92935f0f784a4a5a9f8ca335131773e7",
            "_dom_classes": [],
            "description": "",
            "_model_name": "FloatProgressModel",
            "bar_style": "success",
            "max": 170498071,
            "_view_module": "@jupyter-widgets/controls",
            "_model_module_version": "1.5.0",
            "value": 170498071,
            "_view_count": null,
            "_view_module_version": "1.5.0",
            "orientation": "horizontal",
            "min": 0,
            "description_tooltip": null,
            "_model_module": "@jupyter-widgets/controls",
            "layout": "IPY_MODEL_c16f154b3f73492c87c4f76a44ca4b8c"
          }
        },
        "240d404a0b6a49dea81bc4049f6037f4": {
          "model_module": "@jupyter-widgets/controls",
          "model_name": "HTMLModel",
          "state": {
            "_view_name": "HTMLView",
            "style": "IPY_MODEL_3860a6c1052c460eb3bc47756d3dc0f7",
            "_dom_classes": [],
            "description": "",
            "_model_name": "HTMLModel",
            "placeholder": "​",
            "_view_module": "@jupyter-widgets/controls",
            "_model_module_version": "1.5.0",
            "value": " 170499072/? [00:39&lt;00:00, 4332923.54it/s]",
            "_view_count": null,
            "_view_module_version": "1.5.0",
            "description_tooltip": null,
            "_model_module": "@jupyter-widgets/controls",
            "layout": "IPY_MODEL_68a4e500a6fd40f7a00bdef005c2c20d"
          }
        },
        "92935f0f784a4a5a9f8ca335131773e7": {
          "model_module": "@jupyter-widgets/controls",
          "model_name": "ProgressStyleModel",
          "state": {
            "_view_name": "StyleView",
            "_model_name": "ProgressStyleModel",
            "description_width": "initial",
            "_view_module": "@jupyter-widgets/base",
            "_model_module_version": "1.5.0",
            "_view_count": null,
            "_view_module_version": "1.2.0",
            "bar_color": null,
            "_model_module": "@jupyter-widgets/controls"
          }
        },
        "c16f154b3f73492c87c4f76a44ca4b8c": {
          "model_module": "@jupyter-widgets/base",
          "model_name": "LayoutModel",
          "state": {
            "_view_name": "LayoutView",
            "grid_template_rows": null,
            "right": null,
            "justify_content": null,
            "_view_module": "@jupyter-widgets/base",
            "overflow": null,
            "_model_module_version": "1.2.0",
            "_view_count": null,
            "flex_flow": null,
            "width": null,
            "min_width": null,
            "border": null,
            "align_items": null,
            "bottom": null,
            "_model_module": "@jupyter-widgets/base",
            "top": null,
            "grid_column": null,
            "overflow_y": null,
            "overflow_x": null,
            "grid_auto_flow": null,
            "grid_area": null,
            "grid_template_columns": null,
            "flex": null,
            "_model_name": "LayoutModel",
            "justify_items": null,
            "grid_row": null,
            "max_height": null,
            "align_content": null,
            "visibility": null,
            "align_self": null,
            "height": null,
            "min_height": null,
            "padding": null,
            "grid_auto_rows": null,
            "grid_gap": null,
            "max_width": null,
            "order": null,
            "_view_module_version": "1.2.0",
            "grid_template_areas": null,
            "object_position": null,
            "object_fit": null,
            "grid_auto_columns": null,
            "margin": null,
            "display": null,
            "left": null
          }
        },
        "3860a6c1052c460eb3bc47756d3dc0f7": {
          "model_module": "@jupyter-widgets/controls",
          "model_name": "DescriptionStyleModel",
          "state": {
            "_view_name": "StyleView",
            "_model_name": "DescriptionStyleModel",
            "description_width": "",
            "_view_module": "@jupyter-widgets/base",
            "_model_module_version": "1.5.0",
            "_view_count": null,
            "_view_module_version": "1.2.0",
            "_model_module": "@jupyter-widgets/controls"
          }
        },
        "68a4e500a6fd40f7a00bdef005c2c20d": {
          "model_module": "@jupyter-widgets/base",
          "model_name": "LayoutModel",
          "state": {
            "_view_name": "LayoutView",
            "grid_template_rows": null,
            "right": null,
            "justify_content": null,
            "_view_module": "@jupyter-widgets/base",
            "overflow": null,
            "_model_module_version": "1.2.0",
            "_view_count": null,
            "flex_flow": null,
            "width": null,
            "min_width": null,
            "border": null,
            "align_items": null,
            "bottom": null,
            "_model_module": "@jupyter-widgets/base",
            "top": null,
            "grid_column": null,
            "overflow_y": null,
            "overflow_x": null,
            "grid_auto_flow": null,
            "grid_area": null,
            "grid_template_columns": null,
            "flex": null,
            "_model_name": "LayoutModel",
            "justify_items": null,
            "grid_row": null,
            "max_height": null,
            "align_content": null,
            "visibility": null,
            "align_self": null,
            "height": null,
            "min_height": null,
            "padding": null,
            "grid_auto_rows": null,
            "grid_gap": null,
            "max_width": null,
            "order": null,
            "_view_module_version": "1.2.0",
            "grid_template_areas": null,
            "object_position": null,
            "object_fit": null,
            "grid_auto_columns": null,
            "margin": null,
            "display": null,
            "left": null
          }
        }
      }
    }
  },
  "cells": [
    {
      "cell_type": "markdown",
      "metadata": {
        "id": "view-in-github",
        "colab_type": "text"
      },
      "source": [
        "<a href=\"https://colab.research.google.com/github/boscodeeromeu/NN/blob/main/STUDENT_Lab_3_Part_2.ipynb\" target=\"_parent\"><img src=\"https://colab.research.google.com/assets/colab-badge.svg\" alt=\"Open In Colab\"/></a>"
      ]
    },
    {
      "cell_type": "markdown",
      "metadata": {
        "id": "layB9pEvUwqf"
      },
      "source": [
        "# Lab 3 Part 2: Batch Normalization \n",
        "\n",
        "\n",
        "\n",
        "------------------------------------------------------\n",
        "*Neural Networks. Bachelor in Data Science and Engineering*\n",
        "\n",
        "*Pablo M. Olmos pamartin@ing.uc3m.es*\n",
        "\n",
        "*Aurora Cobo Aguilera acobo@tsc.uc3m.es*\n",
        "\n",
        "------------------------------------------------------\n",
        "\n",
        "Batch normalization was introduced in Sergey Ioffe's and Christian Szegedy's 2015 paper [Batch Normalization: Accelerating Deep Network Training by Reducing Internal Covariate Shift](https://arxiv.org/pdf/1502.03167.pdf). The idea is that, instead of just normalizing the inputs to the network, we normalize the inputs to _layers within_ the network. \n",
        "\n",
        "> It's called **batch** normalization because during training, we normalize each layer's inputs by using the mean and variance of the values in the current *batch*.\n",
        "\n",
        "We will first analyze the effect of Batch Normalization (BN) in a simple NN with dense layers. Then you will be able to incorportate BN into the CNN that you designed in the first part of Lab 3. \n",
        "\n",
        "Note: a big part of the following material is a personal wrap-up of [Facebook's Deep Learning Course in Udacity](https://www.udacity.com/course/deep-learning-pytorch--ud188). So all credit goes for them!!"
      ]
    },
    {
      "cell_type": "markdown",
      "metadata": {
        "id": "siyfhjMsUwqh"
      },
      "source": [
        "## Batch Normalization in PyTorch<a id=\"implementation_1\"></a>\n",
        "\n",
        "This section of the notebook shows you one way to add batch normalization to a neural network built in PyTorch. \n",
        "\n",
        "The following cells import the packages we need in the notebook and load the MNIST dataset to use in our experiments."
      ]
    },
    {
      "cell_type": "code",
      "metadata": {
        "id": "3FN3FRcAUwqi"
      },
      "source": [
        "%matplotlib inline\n",
        "%config InlineBackend.figure_format = 'retina'  #To get figures with high quality!\n",
        "\n",
        "import numpy as np\n",
        "import torch\n",
        "from torch import nn\n",
        "from torch import optim\n",
        "import matplotlib.pyplot as plt\n",
        "import time"
      ],
      "execution_count": 1,
      "outputs": []
    },
    {
      "cell_type": "code",
      "metadata": {
        "id": "ORTgEv3CUwqr",
        "colab": {
          "base_uri": "https://localhost:8080/",
          "height": 875,
          "referenced_widgets": [
            "770eed0d069445d6aebb8fea0b106b3b",
            "4856538d540147269c58890a6429383c",
            "8f456cfcbf6646a195e1ddb47897c9d0",
            "055252548fc741e9b08ec64e05a7a35c",
            "793d0b3807594454b807e12d4f3cb2b3",
            "e17c2bd72921404b805a948958d17be6",
            "adb1265735e94fc681c19f65995cbc75",
            "02fc702eef2440dd8a41e7b06a536c00",
            "f288f91c6e49402a8b8e52a659bcf888",
            "464e58aa9b9c4239a21dbcef8c3ccec9",
            "5b72be33cfb14f6b9a3bef6cc621a335",
            "472e00281e7940bea0fe0f746e9f1211",
            "f59979a790a04c74ae08d60c6b36eb8a",
            "56feefffc9db49569a605a164aa3fb38",
            "74a23786474742d197c45a6ea9d69aee",
            "cf031f75f98a495bb5b7d283211b13e9",
            "c8959565119d46dc953a2c8f902c5c4b",
            "b4d3b52c7f254bed89ba922f06da5aa8",
            "defc1d5f09df464f845be294484206ae",
            "64bddbb9bf30443ca505b21d12efa53c",
            "72552aa7685344768c791e77c2ae8171",
            "4948e51d46c846f0aea3ad8e14c23375",
            "441756e253ab40aeb41bf6c5c3afadad",
            "b01ea65f0d2a4e38ad173340856b47e4",
            "e4d9d49b48f54a33b28fd417259de9b8",
            "9b8bcfe45b88495da47c5ab2ba70da13",
            "89d9b600d71f4a84a12b002e5c3a94dc",
            "de586e8917de484a8934b62cf71019ce",
            "e0c6b2eea2834525b18594314ade2f28",
            "a02d1d3d621d470485edf56c606c9775",
            "420d53ec486641c58cdf66f5e42391c4",
            "ae72ea0d62034fc7b380cd9eaae58f18"
          ]
        },
        "outputId": "fd937fcd-19b4-4c66-89dc-f18bbea8f013"
      },
      "source": [
        "### Run this cell\n",
        "\n",
        "from torchvision import datasets, transforms\n",
        "\n",
        "# Define a transform to normalize the data\n",
        "transform = transforms.Compose([transforms.ToTensor(),\n",
        "                              transforms.Normalize((0.5,), (0.5,)),\n",
        "                              ])\n",
        "\n",
        "# Download and load the training  data\n",
        "trainset = datasets.MNIST('~/.pytorch/MNIST_data/', download=True, train=True, transform=transform)\n",
        "trainloader = torch.utils.data.DataLoader(trainset, batch_size=64, shuffle=True)\n",
        "\n",
        "# Download and load the test data\n",
        "testset = datasets.MNIST('~/.pytorch/MNIST_data/', download=True, train=False, transform=transform)\n",
        "testloader = torch.utils.data.DataLoader(testset, batch_size=64, shuffle=True)"
      ],
      "execution_count": 2,
      "outputs": [
        {
          "output_type": "stream",
          "text": [
            "Downloading http://yann.lecun.com/exdb/mnist/train-images-idx3-ubyte.gz\n",
            "Failed to download (trying next):\n",
            "HTTP Error 503: Service Unavailable\n",
            "\n",
            "Downloading https://ossci-datasets.s3.amazonaws.com/mnist/train-images-idx3-ubyte.gz\n",
            "Downloading https://ossci-datasets.s3.amazonaws.com/mnist/train-images-idx3-ubyte.gz to /root/.pytorch/MNIST_data/MNIST/raw/train-images-idx3-ubyte.gz\n"
          ],
          "name": "stdout"
        },
        {
          "output_type": "display_data",
          "data": {
            "application/vnd.jupyter.widget-view+json": {
              "model_id": "770eed0d069445d6aebb8fea0b106b3b",
              "version_minor": 0,
              "version_major": 2
            },
            "text/plain": [
              "HBox(children=(FloatProgress(value=0.0, max=9912422.0), HTML(value='')))"
            ]
          },
          "metadata": {
            "tags": []
          }
        },
        {
          "output_type": "stream",
          "text": [
            "\n",
            "Extracting /root/.pytorch/MNIST_data/MNIST/raw/train-images-idx3-ubyte.gz to /root/.pytorch/MNIST_data/MNIST/raw\n",
            "\n",
            "Downloading http://yann.lecun.com/exdb/mnist/train-labels-idx1-ubyte.gz\n",
            "Failed to download (trying next):\n",
            "HTTP Error 503: Service Unavailable\n",
            "\n",
            "Downloading https://ossci-datasets.s3.amazonaws.com/mnist/train-labels-idx1-ubyte.gz\n",
            "Downloading https://ossci-datasets.s3.amazonaws.com/mnist/train-labels-idx1-ubyte.gz to /root/.pytorch/MNIST_data/MNIST/raw/train-labels-idx1-ubyte.gz\n"
          ],
          "name": "stdout"
        },
        {
          "output_type": "display_data",
          "data": {
            "application/vnd.jupyter.widget-view+json": {
              "model_id": "f288f91c6e49402a8b8e52a659bcf888",
              "version_minor": 0,
              "version_major": 2
            },
            "text/plain": [
              "HBox(children=(FloatProgress(value=0.0, max=28881.0), HTML(value='')))"
            ]
          },
          "metadata": {
            "tags": []
          }
        },
        {
          "output_type": "stream",
          "text": [
            "\n",
            "Extracting /root/.pytorch/MNIST_data/MNIST/raw/train-labels-idx1-ubyte.gz to /root/.pytorch/MNIST_data/MNIST/raw\n",
            "\n",
            "Downloading http://yann.lecun.com/exdb/mnist/t10k-images-idx3-ubyte.gz\n",
            "Failed to download (trying next):\n",
            "HTTP Error 503: Service Unavailable\n",
            "\n",
            "Downloading https://ossci-datasets.s3.amazonaws.com/mnist/t10k-images-idx3-ubyte.gz\n",
            "Downloading https://ossci-datasets.s3.amazonaws.com/mnist/t10k-images-idx3-ubyte.gz to /root/.pytorch/MNIST_data/MNIST/raw/t10k-images-idx3-ubyte.gz\n"
          ],
          "name": "stdout"
        },
        {
          "output_type": "display_data",
          "data": {
            "application/vnd.jupyter.widget-view+json": {
              "model_id": "c8959565119d46dc953a2c8f902c5c4b",
              "version_minor": 0,
              "version_major": 2
            },
            "text/plain": [
              "HBox(children=(FloatProgress(value=0.0, max=1648877.0), HTML(value='')))"
            ]
          },
          "metadata": {
            "tags": []
          }
        },
        {
          "output_type": "stream",
          "text": [
            "\n",
            "Extracting /root/.pytorch/MNIST_data/MNIST/raw/t10k-images-idx3-ubyte.gz to /root/.pytorch/MNIST_data/MNIST/raw\n",
            "\n",
            "Downloading http://yann.lecun.com/exdb/mnist/t10k-labels-idx1-ubyte.gz\n",
            "Failed to download (trying next):\n",
            "HTTP Error 503: Service Unavailable\n",
            "\n",
            "Downloading https://ossci-datasets.s3.amazonaws.com/mnist/t10k-labels-idx1-ubyte.gz\n",
            "Downloading https://ossci-datasets.s3.amazonaws.com/mnist/t10k-labels-idx1-ubyte.gz to /root/.pytorch/MNIST_data/MNIST/raw/t10k-labels-idx1-ubyte.gz\n"
          ],
          "name": "stdout"
        },
        {
          "output_type": "display_data",
          "data": {
            "application/vnd.jupyter.widget-view+json": {
              "model_id": "e4d9d49b48f54a33b28fd417259de9b8",
              "version_minor": 0,
              "version_major": 2
            },
            "text/plain": [
              "HBox(children=(FloatProgress(value=0.0, max=4542.0), HTML(value='')))"
            ]
          },
          "metadata": {
            "tags": []
          }
        },
        {
          "output_type": "stream",
          "text": [
            "\n",
            "Extracting /root/.pytorch/MNIST_data/MNIST/raw/t10k-labels-idx1-ubyte.gz to /root/.pytorch/MNIST_data/MNIST/raw\n",
            "\n",
            "Processing...\n",
            "Done!\n"
          ],
          "name": "stdout"
        },
        {
          "output_type": "stream",
          "text": [
            "/usr/local/lib/python3.7/dist-packages/torchvision/datasets/mnist.py:502: UserWarning: The given NumPy array is not writeable, and PyTorch does not support non-writeable tensors. This means you can write to the underlying (supposedly non-writeable) NumPy array using the tensor. You may want to copy the array to protect its data or make it writeable before converting it to a tensor. This type of warning will be suppressed for the rest of this program. (Triggered internally at  /pytorch/torch/csrc/utils/tensor_numpy.cpp:143.)\n",
            "  return torch.from_numpy(parsed.astype(m[2], copy=False)).view(*s)\n"
          ],
          "name": "stderr"
        }
      ]
    },
    {
      "cell_type": "markdown",
      "metadata": {
        "id": "hlate1DnUwqx"
      },
      "source": [
        "### Neural network classes\n",
        "\n",
        "The following class, `MLP`, allows us to create identical neural networks **with and without batch normalization** to compare. We are defining a simple NN with **two dense layers** for classification; this design choice was made to support the discussion related to batch normalization and not to get the best classification accuracy.\n",
        "\n",
        "Two importants points about BN:\n",
        "\n",
        "- We use PyTorch's [BatchNorm1d](https://pytorch.org/docs/stable/nn.html#batchnorm1d). This is the function you use to operate on linear layer outputs; you'll use [BatchNorm2d](https://pytorch.org/docs/stable/nn.html#batchnorm2d) for 2D outputs like filtered images from convolutional layers. \n",
        "- We add the batch normalization layer **before** calling the activation function.\n"
      ]
    },
    {
      "cell_type": "code",
      "metadata": {
        "id": "4OW8ZWM1Uwqz"
      },
      "source": [
        "class MLP(nn.Module):\n",
        "    def __init__(self,dimx,hidden1,hidden2,nlabels,use_batch_norm): #Nlabels will be 10 in our case\n",
        "        \n",
        "        super().__init__()\n",
        "        \n",
        "        # Keep track of whether or not this network uses batch normalization.\n",
        "        self.use_batch_norm = use_batch_norm\n",
        "        \n",
        "        self.output1 = nn.Linear(dimx,hidden1)\n",
        "        \n",
        "        self.output2 = nn.Linear(hidden1,hidden2)        \n",
        "        \n",
        "        self.output3 = nn.Linear(hidden2,nlabels)\n",
        "    \n",
        "        self.relu = nn.ReLU()\n",
        "        \n",
        "        self.logsoftmax = nn.LogSoftmax(dim=1)\n",
        "        \n",
        "        if self.use_batch_norm:\n",
        "\n",
        "            self.batch_norm1 = nn.BatchNorm1d(hidden1)\n",
        "            \n",
        "            self.batch_norm2 = nn.BatchNorm1d(hidden2)\n",
        "            \n",
        "        \n",
        "    def forward(self, x):\n",
        "        # Pass the input tensor through each of our operations\n",
        "        x = self.output1(x)\n",
        "        if self.use_batch_norm:\n",
        "            x = self.batch_norm1(x)\n",
        "        x = self.relu(x)\n",
        "        x = self.output2(x)\n",
        "        if self.use_batch_norm:\n",
        "            x = self.batch_norm2(x)        \n",
        "        x = self.relu(x)\n",
        "        x = self.output3(x)\n",
        "        x = self.logsoftmax(x) \n",
        "        return x"
      ],
      "execution_count": 3,
      "outputs": []
    },
    {
      "cell_type": "markdown",
      "metadata": {
        "id": "_DRvyjGMUwq3"
      },
      "source": [
        "> **Exercise:** \n",
        "> \n",
        "> - Create a validation set with the 20% of training set\n",
        "> - Extend the class above to incorporate a training method where both training and validation losses are computed, and a method to evaluate the classification performance on a given set\n",
        "\n",
        "**Note:** As we do with Dropout, for BN we have to call the methods `self.eval()` and `self.train()` in both validation and training. Setting a model to evaluation mode is important for models with batch normalization layers!\n",
        "\n",
        ">* Training mode means that the batch normalization layers will use **batch** statistics to calculate the batch norm. \n",
        "* Evaluation mode, on the other hand, uses the estimated **population** mean and variance from the entire training set, which should give us increased performance on this test data!  "
      ]
    },
    {
      "cell_type": "code",
      "metadata": {
        "id": "0UAT1IgvUwq4",
        "colab": {
          "base_uri": "https://localhost:8080/"
        },
        "outputId": "6af4bb03-049e-48e3-90f3-9cfa44116c1a"
      },
      "source": [
        "import copy\n",
        "\n",
        "validloader = copy.deepcopy(trainloader)\n",
        "\n",
        "n_train = trainloader.dataset.data.shape[0]\n",
        "print(n_train)\n",
        "\n",
        "trainloader.dataset.data = trainloader.dataset.data[0:round(n_train*0.8)]\n",
        "trainloader.dataset.targets = trainloader.dataset.targets[0:round(n_train*0.8)]\n",
        "\n",
        "\n",
        "validloader.dataset.data = validloader.dataset.data[round(n_train*0.8):]\n",
        "validloader.dataset.targets = validloader.dataset.targets[round(n_train*0.8):]"
      ],
      "execution_count": 4,
      "outputs": [
        {
          "output_type": "stream",
          "text": [
            "60000\n"
          ],
          "name": "stdout"
        }
      ]
    },
    {
      "cell_type": "code",
      "metadata": {
        "colab": {
          "base_uri": "https://localhost:8080/"
        },
        "id": "4Bxftacz4Qcc",
        "outputId": "30a7207d-1edd-4d0e-e737-418480ce6bba"
      },
      "source": [
        "print(trainloader.dataset.data.shape[0],\n",
        "  validloader.dataset.data.shape[0])\n",
        "print(len(trainloader.dataset.targets),\n",
        "  len(validloader.dataset.targets))\n"
      ],
      "execution_count": 13,
      "outputs": [
        {
          "output_type": "stream",
          "text": [
            "48000 12000\n",
            "48000 12000\n"
          ],
          "name": "stdout"
        }
      ]
    },
    {
      "cell_type": "code",
      "metadata": {
        "id": "CXuRLgCC4Yq3"
      },
      "source": [
        "class MLP_extended(MLP):\n",
        "    \n",
        "    def __init__(self,dimx,hidden1, hidden2,nlabels,use_batch_norm,epochs=100,lr=0.001):\n",
        "        \n",
        "        super().__init__(dimx,hidden1, hidden2, nlabels, use_batch_norm)  \n",
        "        \n",
        "        self.lr = lr\n",
        "        \n",
        "        self.optim = optim.Adam(self.parameters(), self.lr)\n",
        "        \n",
        "        self.epochs = epochs\n",
        "        \n",
        "        self.criterion = nn.NLLLoss()              \n",
        "\n",
        "        self.loss_during_training = [] \n",
        "\n",
        "        self.valid_loss_during_training = []\n",
        "\n",
        "        self.device = torch.device('cuda' if torch.cuda.is_available() else 'cpu')\n",
        "\n",
        "        self.to(self.device)#we move the instance to the GPU\n",
        "        \n",
        "    def trainloop(self,trainloader, validloader):\n",
        "        \n",
        "        for e in range(int(self.epochs)):\n",
        "            \n",
        "            running_loss = 0.\n",
        "            \n",
        "            for images, labels in trainloader:  \n",
        "\n",
        "                images, labels = images.to(self.device), labels.to(self.device)          \n",
        "        \n",
        "                self.optim.zero_grad() \n",
        "\n",
        "                out = self.forward(images.view(images.shape[0], -1))\n",
        "\n",
        "                loss = self.criterion(out, labels)\n",
        "\n",
        "                running_loss += loss.item()\n",
        "\n",
        "                loss.backward()\n",
        "\n",
        "                self.optim.step()\n",
        "            \n",
        "            \n",
        "            # we compute the validation loss after each epoch\n",
        "            with torch.no_grad():\n",
        "              \n",
        "              self.eval()#so we normalize with all the data\n",
        "\n",
        "              running_loss_v = 0.\n",
        "\n",
        "              for images, labels in validloader:\n",
        "\n",
        "                images, labels = images.to(self.device), labels.to(self.device)          \n",
        "\n",
        "                out_v = self.forward(images.view(images.shape[0], -1))\n",
        "\n",
        "                loss_v = self.criterion(out_v, labels)\n",
        "\n",
        "                running_loss_v += loss_v.item()\n",
        "\n",
        "              self.valid_loss_during_training.append(running_loss_v/len(validloader))\n",
        "\n",
        "            self.train()#back to normalizing with batch statistics\n",
        "\n",
        "            self.loss_during_training.append(running_loss/len(trainloader))\n",
        "\n",
        "            if(e % 1 == 0):\n",
        "              \n",
        "                print(\"Training loss after %d epochs: %f, Validation loss: %f\" \n",
        "                      %(e,self.loss_during_training[-1], self.valid_loss_during_training[-1]))\n",
        "                \n",
        "    def evaluate(self,dataloader):\n",
        "      accuracy = 0\n",
        "\n",
        "      with torch.no_grad():\n",
        "\n",
        "        self.eval()#so we normalize with all the data\n",
        "\n",
        "        for images,labels in dataloader:\n",
        "\n",
        "          images, labels = images.to(self.device), labels.to(self.device)          \n",
        "\n",
        "          logprobs = self.forward(images.view(images.shape[0], -1)) \n",
        "        \n",
        "          top_p, top_class = logprobs.topk(1, dim=1)\n",
        "          equals = (top_class == labels.view(images.shape[0], 1))\n",
        "          accuracy += torch.mean(equals.type(torch.FloatTensor))\n",
        "      \n",
        "      self.train()#back to normalizing with batch statistics\n",
        "\n",
        "      return accuracy/len(dataloader)"
      ],
      "execution_count": 33,
      "outputs": []
    },
    {
      "cell_type": "markdown",
      "metadata": {
        "id": "nloclzQLUwrB"
      },
      "source": [
        "### Create two different models for testing\n",
        "\n",
        "* `net_batchnorm` uses batch normalization applied to the output of its hidden layers\n",
        "* `net_no_norm` does not use batch normalization\n",
        "\n",
        "Besides the normalization layers, everthing about these models is the same."
      ]
    },
    {
      "cell_type": "markdown",
      "metadata": {
        "id": "AFQ2pcH8UwrG"
      },
      "source": [
        "> **Exercise:** Train both models and compare the evolution of the train/validation loss in both cases"
      ]
    },
    {
      "cell_type": "code",
      "metadata": {
        "id": "xfjYlvmHasYs"
      },
      "source": [
        "net_batchnorm = MLP_extended(28*28, 128, 64, 10, True, 10, 0.001)\n",
        "net_no_norm = MLP_extended(28*28, 128, 64, 10, False, 10, 0.001)"
      ],
      "execution_count": 39,
      "outputs": []
    },
    {
      "cell_type": "code",
      "metadata": {
        "id": "o6HzHlxFv6ra",
        "outputId": "9c41de09-ad93-4348-ed6b-4ea472f368fa",
        "colab": {
          "base_uri": "https://localhost:8080/"
        }
      },
      "source": [
        "net_batchnorm.trainloop(trainloader, validloader)\n",
        "net_no_norm.trainloop(trainloader, validloader)"
      ],
      "execution_count": 40,
      "outputs": [
        {
          "output_type": "stream",
          "text": [
            "Training loss after 0 epochs: 0.283862, Validation loss: 0.117353\n",
            "Training loss after 1 epochs: 0.103363, Validation loss: 0.103113\n",
            "Training loss after 2 epochs: 0.072048, Validation loss: 0.088311\n",
            "Training loss after 3 epochs: 0.054619, Validation loss: 0.083430\n",
            "Training loss after 4 epochs: 0.045824, Validation loss: 0.083450\n",
            "Training loss after 5 epochs: 0.037665, Validation loss: 0.091671\n",
            "Training loss after 6 epochs: 0.031114, Validation loss: 0.095906\n",
            "Training loss after 7 epochs: 0.029147, Validation loss: 0.095369\n",
            "Training loss after 8 epochs: 0.025233, Validation loss: 0.081556\n",
            "Training loss after 9 epochs: 0.022244, Validation loss: 0.083941\n",
            "Training loss after 0 epochs: 0.431737, Validation loss: 0.244017\n",
            "Training loss after 1 epochs: 0.219730, Validation loss: 0.164944\n",
            "Training loss after 2 epochs: 0.155417, Validation loss: 0.182634\n",
            "Training loss after 3 epochs: 0.124490, Validation loss: 0.130821\n",
            "Training loss after 4 epochs: 0.105514, Validation loss: 0.122867\n",
            "Training loss after 5 epochs: 0.092125, Validation loss: 0.110974\n",
            "Training loss after 6 epochs: 0.079849, Validation loss: 0.096502\n",
            "Training loss after 7 epochs: 0.071308, Validation loss: 0.095451\n",
            "Training loss after 8 epochs: 0.066635, Validation loss: 0.114258\n",
            "Training loss after 9 epochs: 0.059850, Validation loss: 0.103070\n"
          ],
          "name": "stdout"
        }
      ]
    },
    {
      "cell_type": "code",
      "metadata": {
        "id": "3rgZ29QywCoc",
        "outputId": "8d7e7f96-65f9-4dd4-9773-f2702ce534fa",
        "colab": {
          "base_uri": "https://localhost:8080/",
          "height": 297
        }
      },
      "source": [
        "\n",
        "plt.plot(net_batchnorm.loss_during_training,label='BNormalization', color = 'C1')\n",
        "plt.plot(net_batchnorm.valid_loss_during_training, '--',color = 'C1')\n",
        "plt.plot(net_no_norm.loss_during_training,label='NoNormalization', color = 'C2')\n",
        "plt.plot(net_no_norm.valid_loss_during_training, '--',color = 'C2')\n",
        "plt.title('The dashed line corresponds to the validation set')\n",
        "plt.legend()"
      ],
      "execution_count": 41,
      "outputs": [
        {
          "output_type": "execute_result",
          "data": {
            "text/plain": [
              "<matplotlib.legend.Legend at 0x7f7231a97710>"
            ]
          },
          "metadata": {
            "tags": []
          },
          "execution_count": 41
        },
        {
          "output_type": "display_data",
          "data": {
            "image/png": "[encoded data removed]",
            "text/plain": [
              "<Figure size 432x288 with 1 Axes>"
            ]
          },
          "metadata": {
            "tags": [],
            "image/png": {
              "width": 372,
              "height": 263
            },
            "needs_background": "light"
          }
        }
      ]
    },
    {
      "cell_type": "code",
      "metadata": {
        "id": "hvdT-DY7xfCI"
      },
      "source": [
        "train_acc_bn = net_batchnorm.evaluate(trainloader).tolist()\n",
        "valid_acc_bn = net_batchnorm.evaluate(validloader).tolist()\n",
        "test_acc_bn = net_batchnorm.evaluate(testloader).tolist()\n",
        "\n",
        "train_acc_nn = net_no_norm.evaluate(trainloader).tolist()\n",
        "valid_acc_nn = net_no_norm.evaluate(validloader).tolist()\n",
        "test_acc_nn = net_no_norm.evaluate(testloader).tolist()"
      ],
      "execution_count": 42,
      "outputs": []
    },
    {
      "cell_type": "code",
      "metadata": {
        "id": "ux3h6VTYxuvN",
        "outputId": "25417be8-38de-499b-c95b-51a33549384c",
        "colab": {
          "base_uri": "https://localhost:8080/",
          "height": 107
        }
      },
      "source": [
        "import pandas as pd\n",
        "pd.DataFrame({'BatchNormalization': [True, False], \n",
        "             'TrainAcc':[train_acc_bn, train_acc_nn],\n",
        "             'ValidAcc':[valid_acc_bn, valid_acc_nn],\n",
        "             'TestAcc':[test_acc_bn, test_acc_nn]})"
      ],
      "execution_count": 43,
      "outputs": [
        {
          "output_type": "execute_result",
          "data": {
            "text/html": [
              "<div>\n",
              "<style scoped>\n",
              "    .dataframe tbody tr th:only-of-type {\n",
              "        vertical-align: middle;\n",
              "    }\n",
              "\n",
              "    .dataframe tbody tr th {\n",
              "        vertical-align: top;\n",
              "    }\n",
              "\n",
              "    .dataframe thead th {\n",
              "        text-align: right;\n",
              "    }\n",
              "</style>\n",
              "<table border=\"1\" class=\"dataframe\">\n",
              "  <thead>\n",
              "    <tr style=\"text-align: right;\">\n",
              "      <th></th>\n",
              "      <th>BatchNormalization</th>\n",
              "      <th>TrainAcc</th>\n",
              "      <th>ValidAcc</th>\n",
              "      <th>TestAcc</th>\n",
              "    </tr>\n",
              "  </thead>\n",
              "  <tbody>\n",
              "    <tr>\n",
              "      <th>0</th>\n",
              "      <td>True</td>\n",
              "      <td>0.997521</td>\n",
              "      <td>0.977061</td>\n",
              "      <td>0.978105</td>\n",
              "    </tr>\n",
              "    <tr>\n",
              "      <th>1</th>\n",
              "      <td>False</td>\n",
              "      <td>0.985542</td>\n",
              "      <td>0.970329</td>\n",
              "      <td>0.971935</td>\n",
              "    </tr>\n",
              "  </tbody>\n",
              "</table>\n",
              "</div>"
            ],
            "text/plain": [
              "   BatchNormalization  TrainAcc  ValidAcc   TestAcc\n",
              "0                True  0.997521  0.977061  0.978105\n",
              "1               False  0.985542  0.970329  0.971935"
            ]
          },
          "metadata": {
            "tags": []
          },
          "execution_count": 43
        }
      ]
    },
    {
      "cell_type": "markdown",
      "metadata": {
        "id": "BBW-DRKmzKrZ"
      },
      "source": [
        "**COMMENT**\n",
        "\n",
        "Taking a look at the loss graph we can see one main difference in the training of both models: **the model using batch normalization converges faster than the model without batch normalization**, and as a consequence overfits faster as well (epoch 1/2 vs epoch 2/3). \n",
        "This is of course what we would expect, **batch normalization speeds up the training by reducing the internal covariate shift**, that is, by finding the distribution of layers outputs that is as stable as possible so the *optimization solution is fixed rather than dynamic (changes with iterations)* .\n",
        "\n",
        "However there's further information we con extract from the graph. The loss curves for the batch normalized model are lower than the curves for the non-normalized model. This translates into a more precise model, which is what we see in the accuracies dataframe (although to truthfully compare both performances we would need to apply early stopping as the bn model is more overfited due to the fact it converged sooner). \n",
        "**The reason is that while batch normalization wasn't designed to avoid overfitting, it has a positive impact in the performance**."
      ]
    },
    {
      "cell_type": "markdown",
      "metadata": {
        "id": "UfyqTIjVUwrR"
      },
      "source": [
        "---\n",
        "### Considerations for other network types\n",
        "\n",
        "This notebook demonstrates batch normalization in a standard neural network with fully connected layers. You can also use batch normalization in other types of networks, but there are some special considerations.\n",
        "\n",
        "#### ConvNets\n",
        "\n",
        "Convolution layers consist of multiple feature maps. (Remember, the depth of a convolutional layer refers to its number of feature maps.) And the weights for each feature map are shared across all the inputs that feed into the layer. Because of these differences, batch normalizing convolutional layers requires batch/population mean and variance per feature map rather than per node in the layer.\n",
        "\n",
        "> To apply batch normalization on the outputs of convolutional layers, we use [BatchNorm2d](https://pytorch.org/docs/stable/nn.html#batchnorm2d). To use it, we simply state the **number of input feature maps**. I.e. `nn.BatchNorm2d(num_features=nmaps)`\n",
        "\n",
        "\n",
        "#### RNNs\n",
        "\n",
        "Batch normalization can work with recurrent neural networks, too, as shown in the 2016 paper [Recurrent Batch Normalization](https://arxiv.org/abs/1603.09025). It's a bit more work to implement, but basically involves calculating the means and variances per time step instead of per layer. You can find an example where someone implemented recurrent batch normalization in PyTorch, in [this GitHub repo](https://github.com/jihunchoi/recurrent-batch-normalization-pytorch)."
      ]
    },
    {
      "cell_type": "markdown",
      "metadata": {
        "id": "GXRabJ90UwrT"
      },
      "source": [
        "> **Exercise:** Using CIFAR10 database, incorporate BN to your solution of Lab 3 (Part I). Compare the results with and without BN!!\n",
        "\n",
        "\n",
        "First we import the CIFAR10 database"
      ]
    },
    {
      "cell_type": "code",
      "metadata": {
        "id": "rRnGGWb5Avyk",
        "outputId": "d2479d22-11e3-470f-aff5-7dbe53306e64",
        "colab": {
          "base_uri": "https://localhost:8080/",
          "height": 120,
          "referenced_widgets": [
            "7f9bfb6a81ba41629cf5bbefbf9759d5",
            "f1e4cdd543af4ed1850a70e565c197b4",
            "c42f574470e9464988ce4817ebc85903",
            "240d404a0b6a49dea81bc4049f6037f4",
            "92935f0f784a4a5a9f8ca335131773e7",
            "c16f154b3f73492c87c4f76a44ca4b8c",
            "3860a6c1052c460eb3bc47756d3dc0f7",
            "68a4e500a6fd40f7a00bdef005c2c20d"
          ]
        }
      },
      "source": [
        " transform = transforms.Compose(\n",
        "    [transforms.ToTensor(),\n",
        "     transforms.Normalize((0.5, 0.5, 0.5), (0.5, 0.5, 0.5))])\n",
        "\n",
        "trainset = datasets.CIFAR10(root='./data', train=True,\n",
        "                                        download=True, transform=transform)\n",
        "\n",
        "trainloader = torch.utils.data.DataLoader(trainset, batch_size=64,\n",
        "                                          shuffle=True, num_workers=2)\n",
        "\n",
        "testset = datasets.CIFAR10(root='./data', train=False,\n",
        "                                       download=True, transform=transform)\n",
        "\n",
        "testloader = torch.utils.data.DataLoader(testset, batch_size=64,\n",
        "                                         shuffle=False, num_workers=2)\n",
        "\n",
        "classes = ('plane', 'car', 'bird', 'cat',\n",
        "           'deer', 'dog', 'frog', 'horse', 'ship', 'truck')"
      ],
      "execution_count": 51,
      "outputs": [
        {
          "output_type": "stream",
          "text": [
            "Downloading https://www.cs.toronto.edu/~kriz/cifar-10-python.tar.gz to ./data/cifar-10-python.tar.gz\n"
          ],
          "name": "stdout"
        },
        {
          "output_type": "display_data",
          "data": {
            "application/vnd.jupyter.widget-view+json": {
              "model_id": "7f9bfb6a81ba41629cf5bbefbf9759d5",
              "version_minor": 0,
              "version_major": 2
            },
            "text/plain": [
              "HBox(children=(FloatProgress(value=0.0, max=170498071.0), HTML(value='')))"
            ]
          },
          "metadata": {
            "tags": []
          }
        },
        {
          "output_type": "stream",
          "text": [
            "\n",
            "Extracting ./data/cifar-10-python.tar.gz to ./data\n",
            "Files already downloaded and verified\n"
          ],
          "name": "stdout"
        }
      ]
    },
    {
      "cell_type": "code",
      "metadata": {
        "id": "fZ8SxTNRA7Vl",
        "outputId": "41163d7c-8157-420b-e6f6-a5cade9748aa",
        "colab": {
          "base_uri": "https://localhost:8080/"
        }
      },
      "source": [
        "import copy\n",
        "\n",
        "validloader = copy.deepcopy(trainloader)\n",
        "\n",
        "n_train = trainloader.dataset.data.shape[0]\n",
        "print(n_train)\n",
        "\n",
        "trainloader.dataset.data = trainloader.dataset.data[0:round(n_train*0.8)]\n",
        "trainloader.dataset.targets = trainloader.dataset.targets[0:round(n_train*0.8)]\n",
        "\n",
        "\n",
        "validloader.dataset.data = validloader.dataset.data[round(n_train*0.8):]\n",
        "validloader.dataset.targets = validloader.dataset.targets[round(n_train*0.8):]"
      ],
      "execution_count": 53,
      "outputs": [
        {
          "output_type": "stream",
          "text": [
            "40000\n"
          ],
          "name": "stdout"
        }
      ]
    },
    {
      "cell_type": "code",
      "metadata": {
        "id": "nMyfr-kDBIcn",
        "outputId": "86ef9ec1-c3b8-48f1-f911-0532a9eebadb",
        "colab": {
          "base_uri": "https://localhost:8080/"
        }
      },
      "source": [
        "print(trainloader.dataset.data.shape[0],\n",
        "  validloader.dataset.data.shape[0])\n",
        "print(len(trainloader.dataset.targets),\n",
        "  len(validloader.dataset.targets))"
      ],
      "execution_count": 54,
      "outputs": [
        {
          "output_type": "stream",
          "text": [
            "32000 8000\n",
            "32000 8000\n"
          ],
          "name": "stdout"
        }
      ]
    },
    {
      "cell_type": "markdown",
      "metadata": {
        "id": "Et63_LvpBTaV"
      },
      "source": [
        "We apply some changes to the last class of the first part (to include batch normalization)."
      ]
    },
    {
      "cell_type": "code",
      "metadata": {
        "id": "LLHhFPGpXQLk"
      },
      "source": [
        "class Lenet5_drop(nn.Module):\n",
        "    def __init__(self,dimx,nlabels, drop_prop = .2, drop_indx = [1,2], use_batch_norm=False):\n",
        "        super().__init__()\n",
        "\n",
        "        self.conv1 = nn.Conv2d(in_channels=3, out_channels=6, \n",
        "                               kernel_size=5, stride=1, padding=0)\n",
        "        \n",
        "        self.conv2 = nn.Conv2d(6, 16, 5, padding=0)\n",
        "        \n",
        "        self.pool = nn.MaxPool2d(2, 2)\n",
        "\n",
        "        self.linear1 = nn.Linear(400, 120)\n",
        "        \n",
        "        self.linear2 = nn.Linear(120, 84)\n",
        "\n",
        "        self.linear3 = nn.Linear(84, 10)\n",
        "    \n",
        "        self.relu = nn.ReLU()\n",
        "        \n",
        "        self.logsoftmax = nn.LogSoftmax(dim=1) \n",
        "\n",
        "        self.final_dim = int(((dimx-4)/2-4)/2)\n",
        "\n",
        "        #dropout initialization        \n",
        "        self.drop_prop = drop_prop\n",
        "\n",
        "        self.drop_indx = drop_indx\n",
        "\n",
        "        self.dropout = nn.Dropout(p=self.drop_prop)\n",
        "\n",
        "        self.use_batch_norm = use_batch_norm\n",
        "\n",
        "        if self.use_batch_norm:\n",
        "\n",
        "            self.batch_norm_c1 = nn.BatchNorm2d(6)\n",
        "            \n",
        "            self.batch_norm_c2 = nn.BatchNorm2d(16)\n",
        "\n",
        "            self.batch_norm_l1 = nn.BatchNorm1d(120)\n",
        "\n",
        "            self.batch_norm_l2 = nn.BatchNorm1d(84)\n",
        "            \n",
        "\n",
        "\n",
        "    def forward(self, x):\n",
        "\n",
        "        x = self.conv1(x)\n",
        "        if self.use_batch_norm:\n",
        "          x = self.batch_norm_c1(x) \n",
        "        x = self.relu(x) \n",
        "        x = self.pool(x)\n",
        "\n",
        "        x = self.conv2(x)\n",
        "        if self.use_batch_norm:\n",
        "          x = self.batch_norm_c2(x) \n",
        "        x = self.relu(x)\n",
        "        x = self.pool(x)\n",
        "\n",
        "        x = x.view(len(x), self.final_dim**2*16)\n",
        "\n",
        "\n",
        "        x = self.linear1(x)\n",
        "        if self.use_batch_norm:\n",
        "          x = self.batch_norm_l1(x) \n",
        "        x = self.relu(x)\n",
        "        #dropout 1\n",
        "        if 1 in self.drop_indx:\n",
        "          x = self.dropout(x)\n",
        "\n",
        "\n",
        "        x = self.linear2(x)\n",
        "        if self.use_batch_norm:\n",
        "          x = self.batch_norm_l2(x) \n",
        "        x = self.relu(x)\n",
        "        #dropout 2\n",
        "        if 2 in self.drop_indx:\n",
        "          x = self.dropout(x)\n",
        "\n",
        "\n",
        "        x = self.linear3(x)\n",
        "        x = self.logsoftmax(x) \n",
        "        return x"
      ],
      "execution_count": 55,
      "outputs": []
    },
    {
      "cell_type": "code",
      "metadata": {
        "id": "nSLezhl_8pqJ"
      },
      "source": [
        "class Lenet5_extended_GPU_drop(Lenet5_drop):\n",
        "    \n",
        "    #Your code here\n",
        "    \n",
        "    def __init__(self,dimx,nlabels,epochs=100,lr=0.001, drop_prop = .2, drop_indx = [1,2], use_batch_norm=False):\n",
        "        \n",
        "        super().__init__(dimx,nlabels, drop_prop, drop_indx, use_batch_norm)  \n",
        "        \n",
        "        self.lr = lr #Learning Rate\n",
        "        \n",
        "        self.optim = optim.Adam(self.parameters(), self.lr)\n",
        "        \n",
        "        self.epochs = epochs\n",
        "        \n",
        "        self.criterion = nn.NLLLoss()             \n",
        "        \n",
        "        # A list to store the loss evolution along training\n",
        "        \n",
        "        self.loss_during_training = [] \n",
        "        \n",
        "        self.valid_loss_during_training = []\n",
        "        \n",
        "        self.device = torch.device(\"cuda\" if torch.cuda.is_available() else \"cpu\")\n",
        "\n",
        "        self.to(self.device)\n",
        "        \n",
        "    def trainloop(self,trainloader,validloader):\n",
        "        \n",
        "        # Optimization Loop\n",
        "        \n",
        "        for e in range(int(self.epochs)):\n",
        "            \n",
        "            start_time = time.time()\n",
        "            \n",
        "            # Random data permutation at each epoch\n",
        "            \n",
        "            running_loss = 0.\n",
        "            \n",
        "            for images, labels in trainloader:\n",
        "                \n",
        "                # Move input and label tensors to the default device\n",
        "                images, labels = images.to(self.device), labels.to(self.device)  \n",
        "        \n",
        "                #Reset Gradients!\n",
        "                self.optim.zero_grad()\n",
        "            \n",
        "                out = self.forward(images)\n",
        "\n",
        "                #Your code here\n",
        "                loss = self.criterion(out,labels)\n",
        "\n",
        "                running_loss += loss.item()\n",
        "\n",
        "                #Compute gradients\n",
        "                loss.backward()\n",
        "                \n",
        "                #SGD stem\n",
        "                self.optim.step()\n",
        "                \n",
        "                \n",
        "            self.loss_during_training.append(running_loss/len(trainloader))\n",
        "            \n",
        "            # Validation Loss\n",
        "            \n",
        "            # Turn off gradients for validation, saves memory and computations\n",
        "            with torch.no_grad():            \n",
        "                \n",
        "                self.eval()#drop proportion to 0\n",
        "\n",
        "                running_loss = 0.\n",
        "                \n",
        "                for images,labels in validloader:\n",
        "                    \n",
        "                    # Move input and label tensors to the default device\n",
        "                    images, labels = images.to(self.device), labels.to(self.device)               \n",
        "                    \n",
        "                    # Compute output for input minibatch\n",
        "                    out = self.forward(images)\n",
        "                    #Your code here\n",
        "                    loss = self.criterion(out, labels)\n",
        "\n",
        "                    running_loss += loss.item()   \n",
        "                    \n",
        "                self.valid_loss_during_training.append(running_loss/len(validloader))    \n",
        "                \n",
        "            self.train() #we reactivate dropout\n",
        "\n",
        "            if(e % 1 == 0): # Every epoch\n",
        "\n",
        "                print(\"Epoch %d. Training loss: %f, Validation loss: %f, Time per epoch: %f seconds\" \n",
        "                      %(e,self.loss_during_training[-1],self.valid_loss_during_training[-1],\n",
        "                       (time.time() - start_time)))\n",
        "                \n",
        "    def eval_performance(self,dataloader):\n",
        "        \n",
        "        loss = 0\n",
        "        accuracy = 0\n",
        "\n",
        "        # Turn off gradients for validation, saves memory and computations\n",
        "        with torch.no_grad():\n",
        "\n",
        "            self.eval()#drop proportion to 0\n",
        "\n",
        "            for images,labels in dataloader:\n",
        "                # Move input and label tensors to the default device\n",
        "                images, labels = images.to(self.device), labels.to(self.device)\n",
        "                probs = self.forward(images)\n",
        "\n",
        "                top_p, top_class = probs.topk(1, dim=1)\n",
        "                equals = (top_class == labels.view(images.shape[0], 1))\n",
        "                accuracy += torch.mean(equals.type(torch.FloatTensor))\n",
        "\n",
        "            self.train() #we reactivate dropout\n",
        "\n",
        "            return accuracy/len(dataloader)"
      ],
      "execution_count": 56,
      "outputs": []
    },
    {
      "cell_type": "markdown",
      "metadata": {
        "id": "Z4sx9yPLCgmd"
      },
      "source": [
        "Now I will define the final model I selected in the first part (using dropout at the first dense layer with a rate of 0.5 and training with 18 epochs) using both bath normalization and no normalization whatsoever (inside the network of course)."
      ]
    },
    {
      "cell_type": "code",
      "metadata": {
        "id": "Mg3Zo1FgC1xo"
      },
      "source": [
        ""
      ],
      "execution_count": null,
      "outputs": []
    }
  ]
}
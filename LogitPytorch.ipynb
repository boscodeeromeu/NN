{
  "nbformat": 4,
  "nbformat_minor": 0,
  "metadata": {
    "kernelspec": {
      "display_name": "Python 3",
      "language": "python",
      "name": "python3"
    },
    "language_info": {
      "codemirror_mode": {
        "name": "ipython",
        "version": 3
      },
      "file_extension": ".py",
      "mimetype": "text/x-python",
      "name": "python",
      "nbconvert_exporter": "python",
      "pygments_lexer": "ipython3",
      "version": "3.7.3"
    },
    "colab": {
      "name": "LogitPytorch.ipynb",
      "provenance": [],
      "collapsed_sections": [],
      "include_colab_link": true
    }
  },
  "cells": [
    {
      "cell_type": "markdown",
      "metadata": {
        "id": "view-in-github",
        "colab_type": "text"
      },
      "source": [
        "<a href=\"https://colab.research.google.com/github/boscodeeromeu/NN/blob/main/LogitPytorch.ipynb\" target=\"_parent\"><img src=\"https://colab.research.google.com/assets/colab-badge.svg\" alt=\"Open In Colab\"/></a>"
      ]
    },
    {
      "cell_type": "markdown",
      "metadata": {
        "id": "d5XTbg_f1r_P"
      },
      "source": [
        "# Lab 1: Logistic Regression with Pytorch\n",
        "\n",
        "\n",
        "------------------------------------------------------\n",
        "*Neural Networks. Bachelor in Data Science and Engineering*\n",
        "\n",
        "*Pablo M. Olmos pamartin@ing.uc3m.es*\n",
        "\n",
        "*Aurora Cobo Aguilera acobo@tsc.uc3m.es*\n",
        "\n",
        "------------------------------------------------------\n",
        "\n",
        "\n",
        "In this first lab of the course, you will learn basic aspects about how to use [Pytorch](https://pytorch.org/) to train a logistic regressor in a binary classification problem. \n",
        "\n",
        "Pytorch is a powerful library to address Machine Learning problems in general, and deep learning problems in particular, as it provides with automatic differentiation tools. Namely, in our programs we will define functions $f_{\\mathbf{w}}(x)$ of given input data $x$ and some parameters $\\mathbf{w}$ to be optimized, and we will use Pytorch's [autograd package](https://pytorch.org/docs/stable/autograd.html) to automatically compute $\\nabla_{\\mathbf{w}} f_{\\mathbf{w}}(x)$, and then use the gradient into a Stochastic Gradient Descent (SGD) routine.\n",
        "\n",
        "But lets go step by step. First of all, we will load some database and perform some pre-processing. To do so, we will use the **[Python Data Analysis Library](https://pandas.pydata.org/)** (a.k.a. pandas).\n"
      ]
    },
    {
      "cell_type": "code",
      "metadata": {
        "id": "mZSYOFbX1r_V"
      },
      "source": [
        "import pandas as pd # pd is simply an alias \n",
        "import numpy as np\n",
        "import matplotlib.pyplot as plt\n",
        "\n",
        "%matplotlib inline \n",
        "%config InlineBackend.figure_format = 'retina' #High quality figures"
      ],
      "execution_count": null,
      "outputs": []
    },
    {
      "cell_type": "markdown",
      "metadata": {
        "id": "xh6RdCg-1r_V"
      },
      "source": [
        "## Part I. Pre-processing a real dataset\n",
        "\n",
        "The [Breast Cancer Wisconsin (Diagnostic) Data Set](https://archive.ics.uci.edu/ml/datasets/Breast+Cancer+Wisconsin+(Diagnostic)) contains 10 features related to breast tumors that have been diagnosed as benign or malignant. You have a description of the 10 features in the link above. In the same link you can download the data set as a CSV file. \n",
        "\n",
        "We will import it directly using the following class"
      ]
    },
    {
      "cell_type": "code",
      "metadata": {
        "id": "Lca2l9kk1r_W"
      },
      "source": [
        "def load_spam():\n",
        "    data = pd.read_csv('https://archive.ics.uci.edu/ml/machine-learning-databases/breast-cancer-wisconsin/breast-cancer-wisconsin.data',header=None)\n",
        "    data.columns=['ID', 'Clump Thickness', 'Uniformity of Cell Size',\n",
        "       'Uniformity of Cell Shape', 'Marginal Adhesion',\n",
        "       'Single Epithelial Cell Size', 'Bare Nuclei', 'Bland Chromatin',\n",
        "       'Normal Nucleoli', 'Mitoses', 'Class']\n",
        "    return data"
      ],
      "execution_count": null,
      "outputs": []
    },
    {
      "cell_type": "code",
      "metadata": {
        "id": "zmDrcmp41r_W"
      },
      "source": [
        "''' Data is stored in a Dataframe, a particular data type implemented in Pandas'''\n",
        "\n",
        "data = load_spam()\n"
      ],
      "execution_count": null,
      "outputs": []
    },
    {
      "cell_type": "markdown",
      "metadata": {
        "id": "JY5t0LHC1r_X"
      },
      "source": [
        "Lets visualize the first 10 entries of the database with the `.head()` method"
      ]
    },
    {
      "cell_type": "code",
      "metadata": {
        "id": "_3HUYCYc1r_X",
        "colab": {
          "base_uri": "https://localhost:8080/",
          "height": 403
        },
        "outputId": "9d716386-d54c-45f6-e584-d9c6c9ede9a8"
      },
      "source": [
        "data.head(10)"
      ],
      "execution_count": null,
      "outputs": [
        {
          "output_type": "execute_result",
          "data": {
            "text/html": [
              "<div>\n",
              "<style scoped>\n",
              "    .dataframe tbody tr th:only-of-type {\n",
              "        vertical-align: middle;\n",
              "    }\n",
              "\n",
              "    .dataframe tbody tr th {\n",
              "        vertical-align: top;\n",
              "    }\n",
              "\n",
              "    .dataframe thead th {\n",
              "        text-align: right;\n",
              "    }\n",
              "</style>\n",
              "<table border=\"1\" class=\"dataframe\">\n",
              "  <thead>\n",
              "    <tr style=\"text-align: right;\">\n",
              "      <th></th>\n",
              "      <th>ID</th>\n",
              "      <th>Clump Thickness</th>\n",
              "      <th>Uniformity of Cell Size</th>\n",
              "      <th>Uniformity of Cell Shape</th>\n",
              "      <th>Marginal Adhesion</th>\n",
              "      <th>Single Epithelial Cell Size</th>\n",
              "      <th>Bare Nuclei</th>\n",
              "      <th>Bland Chromatin</th>\n",
              "      <th>Normal Nucleoli</th>\n",
              "      <th>Mitoses</th>\n",
              "      <th>Class</th>\n",
              "    </tr>\n",
              "  </thead>\n",
              "  <tbody>\n",
              "    <tr>\n",
              "      <th>0</th>\n",
              "      <td>1000025</td>\n",
              "      <td>5</td>\n",
              "      <td>1</td>\n",
              "      <td>1</td>\n",
              "      <td>1</td>\n",
              "      <td>2</td>\n",
              "      <td>1</td>\n",
              "      <td>3</td>\n",
              "      <td>1</td>\n",
              "      <td>1</td>\n",
              "      <td>2</td>\n",
              "    </tr>\n",
              "    <tr>\n",
              "      <th>1</th>\n",
              "      <td>1002945</td>\n",
              "      <td>5</td>\n",
              "      <td>4</td>\n",
              "      <td>4</td>\n",
              "      <td>5</td>\n",
              "      <td>7</td>\n",
              "      <td>10</td>\n",
              "      <td>3</td>\n",
              "      <td>2</td>\n",
              "      <td>1</td>\n",
              "      <td>2</td>\n",
              "    </tr>\n",
              "    <tr>\n",
              "      <th>2</th>\n",
              "      <td>1015425</td>\n",
              "      <td>3</td>\n",
              "      <td>1</td>\n",
              "      <td>1</td>\n",
              "      <td>1</td>\n",
              "      <td>2</td>\n",
              "      <td>2</td>\n",
              "      <td>3</td>\n",
              "      <td>1</td>\n",
              "      <td>1</td>\n",
              "      <td>2</td>\n",
              "    </tr>\n",
              "    <tr>\n",
              "      <th>3</th>\n",
              "      <td>1016277</td>\n",
              "      <td>6</td>\n",
              "      <td>8</td>\n",
              "      <td>8</td>\n",
              "      <td>1</td>\n",
              "      <td>3</td>\n",
              "      <td>4</td>\n",
              "      <td>3</td>\n",
              "      <td>7</td>\n",
              "      <td>1</td>\n",
              "      <td>2</td>\n",
              "    </tr>\n",
              "    <tr>\n",
              "      <th>4</th>\n",
              "      <td>1017023</td>\n",
              "      <td>4</td>\n",
              "      <td>1</td>\n",
              "      <td>1</td>\n",
              "      <td>3</td>\n",
              "      <td>2</td>\n",
              "      <td>1</td>\n",
              "      <td>3</td>\n",
              "      <td>1</td>\n",
              "      <td>1</td>\n",
              "      <td>2</td>\n",
              "    </tr>\n",
              "    <tr>\n",
              "      <th>5</th>\n",
              "      <td>1017122</td>\n",
              "      <td>8</td>\n",
              "      <td>10</td>\n",
              "      <td>10</td>\n",
              "      <td>8</td>\n",
              "      <td>7</td>\n",
              "      <td>10</td>\n",
              "      <td>9</td>\n",
              "      <td>7</td>\n",
              "      <td>1</td>\n",
              "      <td>4</td>\n",
              "    </tr>\n",
              "    <tr>\n",
              "      <th>6</th>\n",
              "      <td>1018099</td>\n",
              "      <td>1</td>\n",
              "      <td>1</td>\n",
              "      <td>1</td>\n",
              "      <td>1</td>\n",
              "      <td>2</td>\n",
              "      <td>10</td>\n",
              "      <td>3</td>\n",
              "      <td>1</td>\n",
              "      <td>1</td>\n",
              "      <td>2</td>\n",
              "    </tr>\n",
              "    <tr>\n",
              "      <th>7</th>\n",
              "      <td>1018561</td>\n",
              "      <td>2</td>\n",
              "      <td>1</td>\n",
              "      <td>2</td>\n",
              "      <td>1</td>\n",
              "      <td>2</td>\n",
              "      <td>1</td>\n",
              "      <td>3</td>\n",
              "      <td>1</td>\n",
              "      <td>1</td>\n",
              "      <td>2</td>\n",
              "    </tr>\n",
              "    <tr>\n",
              "      <th>8</th>\n",
              "      <td>1033078</td>\n",
              "      <td>2</td>\n",
              "      <td>1</td>\n",
              "      <td>1</td>\n",
              "      <td>1</td>\n",
              "      <td>2</td>\n",
              "      <td>1</td>\n",
              "      <td>1</td>\n",
              "      <td>1</td>\n",
              "      <td>5</td>\n",
              "      <td>2</td>\n",
              "    </tr>\n",
              "    <tr>\n",
              "      <th>9</th>\n",
              "      <td>1033078</td>\n",
              "      <td>4</td>\n",
              "      <td>2</td>\n",
              "      <td>1</td>\n",
              "      <td>1</td>\n",
              "      <td>2</td>\n",
              "      <td>1</td>\n",
              "      <td>2</td>\n",
              "      <td>1</td>\n",
              "      <td>1</td>\n",
              "      <td>2</td>\n",
              "    </tr>\n",
              "  </tbody>\n",
              "</table>\n",
              "</div>"
            ],
            "text/plain": [
              "        ID  Clump Thickness  ...  Mitoses  Class\n",
              "0  1000025                5  ...        1      2\n",
              "1  1002945                5  ...        1      2\n",
              "2  1015425                3  ...        1      2\n",
              "3  1016277                6  ...        1      2\n",
              "4  1017023                4  ...        1      2\n",
              "5  1017122                8  ...        1      4\n",
              "6  1018099                1  ...        1      2\n",
              "7  1018561                2  ...        1      2\n",
              "8  1033078                2  ...        5      2\n",
              "9  1033078                4  ...        1      2\n",
              "\n",
              "[10 rows x 11 columns]"
            ]
          },
          "metadata": {
            "tags": []
          },
          "execution_count": 6
        }
      ]
    },
    {
      "cell_type": "markdown",
      "metadata": {
        "id": "G0l7a7d51r_X"
      },
      "source": [
        "With the `.shape()` method we can check how many datapoints we have"
      ]
    },
    {
      "cell_type": "code",
      "metadata": {
        "id": "x3f8aEgD1r_X",
        "colab": {
          "base_uri": "https://localhost:8080/"
        },
        "outputId": "0c2fabe4-62f2-4038-a98a-c70206c06382"
      },
      "source": [
        "print('There are %d data points. Each one of dimension %d' %(data.shape[0],data.shape[1]))"
      ],
      "execution_count": null,
      "outputs": [
        {
          "output_type": "stream",
          "text": [
            "There are 699 data points. Each one of dimension 11\n"
          ],
          "name": "stdout"
        }
      ]
    },
    {
      "cell_type": "markdown",
      "metadata": {
        "id": "F0IclgJL1r_X"
      },
      "source": [
        "We will do the following preprocessing steps. All of them are implemented in Pandas (it is advisory for very large databases):\n",
        "\n",
        "- Remove the 'ID' column. We won't use it anymore\n",
        "\n",
        "- Analyze missing data (Encoded in this database with a '?' by the column mode). \n",
        "\n",
        "- The tumor class is equal to 2 for bening tumors and to 4 for malignat tumors. We will replace this by 0 and 1 respectively\n",
        "\n",
        "- Create a train set and a test set\n",
        "\n",
        "- We will normalize all input variables so they all have zero mean and unit variance"
      ]
    },
    {
      "cell_type": "markdown",
      "metadata": {
        "id": "aSGZnrAK1r_Y"
      },
      "source": [
        "### Remove ID colum\n",
        "\n",
        "We can use the `.drop()` method. We use the input `inplace=True` to override the existing Dataframe."
      ]
    },
    {
      "cell_type": "code",
      "metadata": {
        "id": "B8-J875r1r_Y"
      },
      "source": [
        "data.drop('ID', axis=1, inplace=True)"
      ],
      "execution_count": null,
      "outputs": []
    },
    {
      "cell_type": "code",
      "metadata": {
        "id": "A7Nxzquf1r_Y",
        "colab": {
          "base_uri": "https://localhost:8080/",
          "height": 403
        },
        "outputId": "0b605043-193f-41ba-955e-0a0fa044ba2d"
      },
      "source": [
        "# Lets check the result\n",
        "\n",
        "data.head(10)"
      ],
      "execution_count": null,
      "outputs": [
        {
          "output_type": "execute_result",
          "data": {
            "text/html": [
              "<div>\n",
              "<style scoped>\n",
              "    .dataframe tbody tr th:only-of-type {\n",
              "        vertical-align: middle;\n",
              "    }\n",
              "\n",
              "    .dataframe tbody tr th {\n",
              "        vertical-align: top;\n",
              "    }\n",
              "\n",
              "    .dataframe thead th {\n",
              "        text-align: right;\n",
              "    }\n",
              "</style>\n",
              "<table border=\"1\" class=\"dataframe\">\n",
              "  <thead>\n",
              "    <tr style=\"text-align: right;\">\n",
              "      <th></th>\n",
              "      <th>Clump Thickness</th>\n",
              "      <th>Uniformity of Cell Size</th>\n",
              "      <th>Uniformity of Cell Shape</th>\n",
              "      <th>Marginal Adhesion</th>\n",
              "      <th>Single Epithelial Cell Size</th>\n",
              "      <th>Bare Nuclei</th>\n",
              "      <th>Bland Chromatin</th>\n",
              "      <th>Normal Nucleoli</th>\n",
              "      <th>Mitoses</th>\n",
              "      <th>Class</th>\n",
              "    </tr>\n",
              "  </thead>\n",
              "  <tbody>\n",
              "    <tr>\n",
              "      <th>0</th>\n",
              "      <td>5</td>\n",
              "      <td>1</td>\n",
              "      <td>1</td>\n",
              "      <td>1</td>\n",
              "      <td>2</td>\n",
              "      <td>1</td>\n",
              "      <td>3</td>\n",
              "      <td>1</td>\n",
              "      <td>1</td>\n",
              "      <td>2</td>\n",
              "    </tr>\n",
              "    <tr>\n",
              "      <th>1</th>\n",
              "      <td>5</td>\n",
              "      <td>4</td>\n",
              "      <td>4</td>\n",
              "      <td>5</td>\n",
              "      <td>7</td>\n",
              "      <td>10</td>\n",
              "      <td>3</td>\n",
              "      <td>2</td>\n",
              "      <td>1</td>\n",
              "      <td>2</td>\n",
              "    </tr>\n",
              "    <tr>\n",
              "      <th>2</th>\n",
              "      <td>3</td>\n",
              "      <td>1</td>\n",
              "      <td>1</td>\n",
              "      <td>1</td>\n",
              "      <td>2</td>\n",
              "      <td>2</td>\n",
              "      <td>3</td>\n",
              "      <td>1</td>\n",
              "      <td>1</td>\n",
              "      <td>2</td>\n",
              "    </tr>\n",
              "    <tr>\n",
              "      <th>3</th>\n",
              "      <td>6</td>\n",
              "      <td>8</td>\n",
              "      <td>8</td>\n",
              "      <td>1</td>\n",
              "      <td>3</td>\n",
              "      <td>4</td>\n",
              "      <td>3</td>\n",
              "      <td>7</td>\n",
              "      <td>1</td>\n",
              "      <td>2</td>\n",
              "    </tr>\n",
              "    <tr>\n",
              "      <th>4</th>\n",
              "      <td>4</td>\n",
              "      <td>1</td>\n",
              "      <td>1</td>\n",
              "      <td>3</td>\n",
              "      <td>2</td>\n",
              "      <td>1</td>\n",
              "      <td>3</td>\n",
              "      <td>1</td>\n",
              "      <td>1</td>\n",
              "      <td>2</td>\n",
              "    </tr>\n",
              "    <tr>\n",
              "      <th>5</th>\n",
              "      <td>8</td>\n",
              "      <td>10</td>\n",
              "      <td>10</td>\n",
              "      <td>8</td>\n",
              "      <td>7</td>\n",
              "      <td>10</td>\n",
              "      <td>9</td>\n",
              "      <td>7</td>\n",
              "      <td>1</td>\n",
              "      <td>4</td>\n",
              "    </tr>\n",
              "    <tr>\n",
              "      <th>6</th>\n",
              "      <td>1</td>\n",
              "      <td>1</td>\n",
              "      <td>1</td>\n",
              "      <td>1</td>\n",
              "      <td>2</td>\n",
              "      <td>10</td>\n",
              "      <td>3</td>\n",
              "      <td>1</td>\n",
              "      <td>1</td>\n",
              "      <td>2</td>\n",
              "    </tr>\n",
              "    <tr>\n",
              "      <th>7</th>\n",
              "      <td>2</td>\n",
              "      <td>1</td>\n",
              "      <td>2</td>\n",
              "      <td>1</td>\n",
              "      <td>2</td>\n",
              "      <td>1</td>\n",
              "      <td>3</td>\n",
              "      <td>1</td>\n",
              "      <td>1</td>\n",
              "      <td>2</td>\n",
              "    </tr>\n",
              "    <tr>\n",
              "      <th>8</th>\n",
              "      <td>2</td>\n",
              "      <td>1</td>\n",
              "      <td>1</td>\n",
              "      <td>1</td>\n",
              "      <td>2</td>\n",
              "      <td>1</td>\n",
              "      <td>1</td>\n",
              "      <td>1</td>\n",
              "      <td>5</td>\n",
              "      <td>2</td>\n",
              "    </tr>\n",
              "    <tr>\n",
              "      <th>9</th>\n",
              "      <td>4</td>\n",
              "      <td>2</td>\n",
              "      <td>1</td>\n",
              "      <td>1</td>\n",
              "      <td>2</td>\n",
              "      <td>1</td>\n",
              "      <td>2</td>\n",
              "      <td>1</td>\n",
              "      <td>1</td>\n",
              "      <td>2</td>\n",
              "    </tr>\n",
              "  </tbody>\n",
              "</table>\n",
              "</div>"
            ],
            "text/plain": [
              "   Clump Thickness  Uniformity of Cell Size  ...  Mitoses  Class\n",
              "0                5                        1  ...        1      2\n",
              "1                5                        4  ...        1      2\n",
              "2                3                        1  ...        1      2\n",
              "3                6                        8  ...        1      2\n",
              "4                4                        1  ...        1      2\n",
              "5                8                       10  ...        1      4\n",
              "6                1                        1  ...        1      2\n",
              "7                2                        1  ...        1      2\n",
              "8                2                        1  ...        5      2\n",
              "9                4                        2  ...        1      2\n",
              "\n",
              "[10 rows x 10 columns]"
            ]
          },
          "metadata": {
            "tags": []
          },
          "execution_count": 9
        }
      ]
    },
    {
      "cell_type": "markdown",
      "metadata": {
        "id": "zp9dRDBn1r_Y"
      },
      "source": [
        "### About missing data\n",
        "\n",
        "Pandas considers values like `NaN` and `None` to represent missing data. The `pandas.isnull` function can be used to tell whether or not a value is missing. \n",
        "\n",
        "Let's use `apply()` across all of the columns in our DataFrame to figure out which values are missing. But first we  change the `?` missing codification by `NaN`."
      ]
    },
    {
      "cell_type": "code",
      "metadata": {
        "id": "zYM80JBa1r_Y"
      },
      "source": [
        "data.replace('?', np.nan, inplace=True)"
      ],
      "execution_count": null,
      "outputs": []
    },
    {
      "cell_type": "code",
      "metadata": {
        "id": "-75KOORE1r_Z"
      },
      "source": [
        "empty = data.apply(lambda col: pd.isnull(col))"
      ],
      "execution_count": null,
      "outputs": []
    },
    {
      "cell_type": "code",
      "metadata": {
        "id": "_AjLZlkr1r_Z",
        "colab": {
          "base_uri": "https://localhost:8080/"
        },
        "outputId": "3109a706-f38b-40c7-f34a-fb0703fa9de3"
      },
      "source": [
        "empty.sum()"
      ],
      "execution_count": null,
      "outputs": [
        {
          "output_type": "execute_result",
          "data": {
            "text/plain": [
              "Clump Thickness                 0\n",
              "Uniformity of Cell Size         0\n",
              "Uniformity of Cell Shape        0\n",
              "Marginal Adhesion               0\n",
              "Single Epithelial Cell Size     0\n",
              "Bare Nuclei                    16\n",
              "Bland Chromatin                 0\n",
              "Normal Nucleoli                 0\n",
              "Mitoses                         0\n",
              "Class                           0\n",
              "dtype: int64"
            ]
          },
          "metadata": {
            "tags": []
          },
          "execution_count": 12
        }
      ]
    },
    {
      "cell_type": "markdown",
      "metadata": {
        "id": "dEgujMKw1r_Z"
      },
      "source": [
        "Observe that only one of the columns has 16 missing entries. For simplicity, let's remove this column. Be aware that in general we will impute missing data with some representative value. "
      ]
    },
    {
      "cell_type": "code",
      "metadata": {
        "id": "Sx3wKftq1r_Z"
      },
      "source": [
        "data.drop('Bare Nuclei', axis=1, inplace=True)"
      ],
      "execution_count": null,
      "outputs": []
    },
    {
      "cell_type": "code",
      "metadata": {
        "scrolled": true,
        "id": "ASjr_-_k1r_Z",
        "colab": {
          "base_uri": "https://localhost:8080/"
        },
        "outputId": "2e162df6-cd50-47f6-9490-41f8c6cf917b"
      },
      "source": [
        "empty = data.apply(lambda col: pd.isnull(col))\n",
        "empty.sum()"
      ],
      "execution_count": null,
      "outputs": [
        {
          "output_type": "execute_result",
          "data": {
            "text/plain": [
              "Clump Thickness                0\n",
              "Uniformity of Cell Size        0\n",
              "Uniformity of Cell Shape       0\n",
              "Marginal Adhesion              0\n",
              "Single Epithelial Cell Size    0\n",
              "Bland Chromatin                0\n",
              "Normal Nucleoli                0\n",
              "Mitoses                        0\n",
              "Class                          0\n",
              "dtype: int64"
            ]
          },
          "metadata": {
            "tags": []
          },
          "execution_count": 14
        }
      ]
    },
    {
      "cell_type": "markdown",
      "metadata": {
        "id": "44e8aSAO1r_Z"
      },
      "source": [
        "### Create a binary class label\n",
        "\n",
        "To do so, we will create a simple function to convert the label and store the result in a new colum of the dataframe"
      ]
    },
    {
      "cell_type": "code",
      "metadata": {
        "id": "Ak7NxFDj1r_a"
      },
      "source": [
        "def convert_to_binary(l):\n",
        "    return (l-2.0)/2"
      ],
      "execution_count": null,
      "outputs": []
    },
    {
      "cell_type": "code",
      "metadata": {
        "id": "EhPPU0801r_a"
      },
      "source": [
        "# We create the new column\n",
        "\n",
        "data['Binary Class'] = data[['Class']].apply(lambda l: convert_to_binary(l))\n",
        "\n",
        "data.drop('Class', axis=1, inplace=True)"
      ],
      "execution_count": null,
      "outputs": []
    },
    {
      "cell_type": "markdown",
      "metadata": {
        "id": "Cw2y4Gli1r_a"
      },
      "source": [
        "Lets take a look to the histogram of the binary class label"
      ]
    },
    {
      "cell_type": "code",
      "metadata": {
        "id": "6gwwtUff1r_a",
        "colab": {
          "base_uri": "https://localhost:8080/",
          "height": 282
        },
        "outputId": "7f28b6bb-6d65-419f-e014-b81d371af4ef"
      },
      "source": [
        "data['Binary Class'].hist()"
      ],
      "execution_count": null,
      "outputs": [
        {
          "output_type": "execute_result",
          "data": {
            "text/plain": [
              "<matplotlib.axes._subplots.AxesSubplot at 0x7fe311f38bd0>"
            ]
          },
          "metadata": {
            "tags": []
          },
          "execution_count": 17
        },
        {
          "output_type": "display_data",
          "data": {
            "image/png": "[encoded data removed]",
            "text/plain": [
              "<Figure size 432x288 with 1 Axes>"
            ]
          },
          "metadata": {
            "tags": [],
            "image/png": {
              "width": 375,
              "height": 248
            },
            "needs_background": "light"
          }
        }
      ]
    },
    {
      "cell_type": "markdown",
      "metadata": {
        "id": "6H0a0kVQ1r_a"
      },
      "source": [
        "### Create a train and test sets\n",
        "\n",
        "We will simply split the dataset at random. 80% of the data will go to the training set, the rest to the test set. We will use [Numpy's random permutation function](https://docs.scipy.org/doc/numpy-1.15.0/reference/generated/numpy.random.permutation.html) and the `.iloc()` method. "
      ]
    },
    {
      "cell_type": "code",
      "metadata": {
        "id": "BkGDHuPf1r_b"
      },
      "source": [
        "frac_train = 0.8\n",
        "\n",
        "data_train = int(data.shape[0]*frac_train) # Training points\n",
        "\n",
        "np.random.seed(seed=10) #To fix the random seed. So we all get the same partition\n",
        "\n",
        "mask = np.random.permutation(data.shape[0]) # Random order of data indexes\n",
        "\n",
        "train_data = data.iloc[list(mask[:data_train])].copy()\n",
        "\n",
        "test_data = data.iloc[list(mask[data_train:])].copy()\n"
      ],
      "execution_count": null,
      "outputs": []
    },
    {
      "cell_type": "markdown",
      "metadata": {
        "id": "oRrFFE7Q1r_b"
      },
      "source": [
        "Note that we store the train and test data in separate Dataframes, so we can normalize them without modifying the original data (we could add more columns to the original Dataframe, but this would be later on annoying to index)."
      ]
    },
    {
      "cell_type": "markdown",
      "metadata": {
        "id": "YqHk1wYB1r_b"
      },
      "source": [
        "Also, the train/test partition and normalization can also easily done using Numpy and the [sklearn library](https://scikit-learn.org/stable/)."
      ]
    },
    {
      "cell_type": "markdown",
      "metadata": {
        "id": "gZyaRkcq1r_b"
      },
      "source": [
        "### Normalize input variables \n",
        "\n",
        "In general, it is not recommended that input variables (or features) are defined in different ranges. I.e., $x_1$ for instance takes values in the $[-1,1]$ set and $x_2$ takes values in the $[-10^6,10^6]$ range. \n",
        "\n",
        "To improve both the numerical robustness of our estimators and **enhance interpretability**, we will apply a linear normalization preprocessing stage to use as input to the linear regression features with (sample) mean 0 and (sample) variance equal to 1. \n",
        "\n",
        "Given the unnormalized feature matrix $\\mathbf{X}_{N\\times D}$, we compute the sample mean per feature column, $\\mu_j$, and the sample variance per  feature column, $\\sigma^2_j$ for $j=1,\\ldots,D$. Then, each row of the normalized feature matrix $\\overline{\\mathbf{X}}_{N\\times D}$ is obtained as follows:\n",
        "\n",
        "$$\\overline{\\mathbf{x}}^{(i)}= \\left[\\frac{x_1^{(i)}-\\mu_1}{\\sqrt{\\sigma^2_1}}, ~~ \\frac{x_1^{(i)}-\\mu_2}{\\sqrt{\\sigma^2_2}}, \\ldots, \\frac{x_1^{(D)}-\\mu_1}{\\sqrt{\\sigma^2_D}}\\right]$$\n",
        "\n",
        "**Note this does not affect to the logistic regression solution**, we are simply re-scaling the parameter vector $\\boldsymbol{w}$. Using this scaling, we can now effectively compare the effect that each variable has in the logistic regression solution: **the larger $|w_j|$ is, the more effect the $j$-th feature has in the estimation of the class**.\n",
        "\n",
        "One important aspect is that the test set is normalized **using the train set statistics (mean and variance)**"
      ]
    },
    {
      "cell_type": "code",
      "metadata": {
        "id": "h3BFcE-K1r_c"
      },
      "source": [
        "means = train_data.mean()\n",
        "stds = train_data.std()"
      ],
      "execution_count": null,
      "outputs": []
    },
    {
      "cell_type": "code",
      "metadata": {
        "id": "3HADhqi31r_c"
      },
      "source": [
        "for idx, column_name in enumerate(train_data.columns[:-1]):#we exclude the target obviously\n",
        "    train_data[column_name] = (train_data[column_name]-means[idx])/(stds[idx])\n",
        "    test_data[column_name] = (test_data[column_name]-means[idx])/(stds[idx])"
      ],
      "execution_count": null,
      "outputs": []
    },
    {
      "cell_type": "markdown",
      "metadata": {
        "id": "9rH8D2pz1r_c"
      },
      "source": [
        "Lets take a look to the resulting dataframe"
      ]
    },
    {
      "cell_type": "code",
      "metadata": {
        "id": "kqQ-_LEo1r_c",
        "colab": {
          "base_uri": "https://localhost:8080/",
          "height": 403
        },
        "outputId": "ea43aa79-982a-40de-8678-f58cfa291812"
      },
      "source": [
        "train_data.head(10)"
      ],
      "execution_count": null,
      "outputs": [
        {
          "output_type": "execute_result",
          "data": {
            "text/html": [
              "<div>\n",
              "<style scoped>\n",
              "    .dataframe tbody tr th:only-of-type {\n",
              "        vertical-align: middle;\n",
              "    }\n",
              "\n",
              "    .dataframe tbody tr th {\n",
              "        vertical-align: top;\n",
              "    }\n",
              "\n",
              "    .dataframe thead th {\n",
              "        text-align: right;\n",
              "    }\n",
              "</style>\n",
              "<table border=\"1\" class=\"dataframe\">\n",
              "  <thead>\n",
              "    <tr style=\"text-align: right;\">\n",
              "      <th></th>\n",
              "      <th>Clump Thickness</th>\n",
              "      <th>Uniformity of Cell Size</th>\n",
              "      <th>Uniformity of Cell Shape</th>\n",
              "      <th>Marginal Adhesion</th>\n",
              "      <th>Single Epithelial Cell Size</th>\n",
              "      <th>Bland Chromatin</th>\n",
              "      <th>Normal Nucleoli</th>\n",
              "      <th>Mitoses</th>\n",
              "      <th>Binary Class</th>\n",
              "    </tr>\n",
              "  </thead>\n",
              "  <tbody>\n",
              "    <tr>\n",
              "      <th>285</th>\n",
              "      <td>1.300525</td>\n",
              "      <td>2.285664</td>\n",
              "      <td>2.276496</td>\n",
              "      <td>2.455409</td>\n",
              "      <td>2.286331</td>\n",
              "      <td>2.658239</td>\n",
              "      <td>1.330666</td>\n",
              "      <td>0.867001</td>\n",
              "      <td>1.0</td>\n",
              "    </tr>\n",
              "    <tr>\n",
              "      <th>607</th>\n",
              "      <td>-1.212539</td>\n",
              "      <td>-0.700359</td>\n",
              "      <td>-0.747811</td>\n",
              "      <td>-0.642951</td>\n",
              "      <td>-0.552749</td>\n",
              "      <td>-1.010787</td>\n",
              "      <td>-0.608106</td>\n",
              "      <td>-0.338605</td>\n",
              "      <td>0.0</td>\n",
              "    </tr>\n",
              "    <tr>\n",
              "      <th>587</th>\n",
              "      <td>0.223498</td>\n",
              "      <td>-0.700359</td>\n",
              "      <td>-0.747811</td>\n",
              "      <td>-0.642951</td>\n",
              "      <td>-0.552749</td>\n",
              "      <td>-0.603117</td>\n",
              "      <td>-0.284977</td>\n",
              "      <td>-0.338605</td>\n",
              "      <td>0.0</td>\n",
              "    </tr>\n",
              "    <tr>\n",
              "      <th>458</th>\n",
              "      <td>0.223498</td>\n",
              "      <td>-0.700359</td>\n",
              "      <td>-0.411777</td>\n",
              "      <td>-0.642951</td>\n",
              "      <td>-0.552749</td>\n",
              "      <td>-1.010787</td>\n",
              "      <td>-0.608106</td>\n",
              "      <td>-0.338605</td>\n",
              "      <td>0.0</td>\n",
              "    </tr>\n",
              "    <tr>\n",
              "      <th>431</th>\n",
              "      <td>0.223498</td>\n",
              "      <td>-0.700359</td>\n",
              "      <td>-0.747811</td>\n",
              "      <td>0.045573</td>\n",
              "      <td>0.393611</td>\n",
              "      <td>-0.195448</td>\n",
              "      <td>-0.284977</td>\n",
              "      <td>-0.338605</td>\n",
              "      <td>0.0</td>\n",
              "    </tr>\n",
              "    <tr>\n",
              "      <th>52</th>\n",
              "      <td>2.018543</td>\n",
              "      <td>-0.036799</td>\n",
              "      <td>0.932359</td>\n",
              "      <td>-0.298689</td>\n",
              "      <td>-0.079569</td>\n",
              "      <td>0.212222</td>\n",
              "      <td>2.300052</td>\n",
              "      <td>0.264198</td>\n",
              "      <td>1.0</td>\n",
              "    </tr>\n",
              "    <tr>\n",
              "      <th>560</th>\n",
              "      <td>0.223498</td>\n",
              "      <td>-0.700359</td>\n",
              "      <td>-0.747811</td>\n",
              "      <td>-0.642951</td>\n",
              "      <td>-0.552749</td>\n",
              "      <td>-0.195448</td>\n",
              "      <td>-0.608106</td>\n",
              "      <td>-0.338605</td>\n",
              "      <td>0.0</td>\n",
              "    </tr>\n",
              "    <tr>\n",
              "      <th>445</th>\n",
              "      <td>-0.853530</td>\n",
              "      <td>-0.700359</td>\n",
              "      <td>-0.747811</td>\n",
              "      <td>-0.642951</td>\n",
              "      <td>-0.552749</td>\n",
              "      <td>-1.010787</td>\n",
              "      <td>-0.608106</td>\n",
              "      <td>-0.338605</td>\n",
              "      <td>0.0</td>\n",
              "    </tr>\n",
              "    <tr>\n",
              "      <th>292</th>\n",
              "      <td>1.300525</td>\n",
              "      <td>1.622103</td>\n",
              "      <td>1.604428</td>\n",
              "      <td>-0.642951</td>\n",
              "      <td>-0.552749</td>\n",
              "      <td>1.027561</td>\n",
              "      <td>2.300052</td>\n",
              "      <td>-0.338605</td>\n",
              "      <td>1.0</td>\n",
              "    </tr>\n",
              "    <tr>\n",
              "      <th>579</th>\n",
              "      <td>-1.212539</td>\n",
              "      <td>-0.700359</td>\n",
              "      <td>-0.747811</td>\n",
              "      <td>-0.642951</td>\n",
              "      <td>-0.552749</td>\n",
              "      <td>-0.195448</td>\n",
              "      <td>-0.608106</td>\n",
              "      <td>-0.338605</td>\n",
              "      <td>0.0</td>\n",
              "    </tr>\n",
              "  </tbody>\n",
              "</table>\n",
              "</div>"
            ],
            "text/plain": [
              "     Clump Thickness  Uniformity of Cell Size  ...   Mitoses  Binary Class\n",
              "285         1.300525                 2.285664  ...  0.867001           1.0\n",
              "607        -1.212539                -0.700359  ... -0.338605           0.0\n",
              "587         0.223498                -0.700359  ... -0.338605           0.0\n",
              "458         0.223498                -0.700359  ... -0.338605           0.0\n",
              "431         0.223498                -0.700359  ... -0.338605           0.0\n",
              "52          2.018543                -0.036799  ...  0.264198           1.0\n",
              "560         0.223498                -0.700359  ... -0.338605           0.0\n",
              "445        -0.853530                -0.700359  ... -0.338605           0.0\n",
              "292         1.300525                 1.622103  ... -0.338605           1.0\n",
              "579        -1.212539                -0.700359  ... -0.338605           0.0\n",
              "\n",
              "[10 rows x 9 columns]"
            ]
          },
          "metadata": {
            "tags": []
          },
          "execution_count": 21
        }
      ]
    },
    {
      "cell_type": "markdown",
      "metadata": {
        "id": "kH3oBodS1r_c"
      },
      "source": [
        "## Part II. Tensors in Pytorch\n",
        "\n",
        "\n",
        "Note: a big part of the following material is a personal wrap-up of [Facebook's Deep Learning Course in Udacity](https://www.udacity.com/course/deep-learning-pytorch--ud188). So all credit goes for them!!\n",
        "\n",
        "PyTorch in a lot of ways behaves like  Numpy arrays. PyTorch takes these tensors and makes it simple to move them to GPUs for the faster processing needed when training neural networks. It also provides a module that automatically calculates gradients and another module specifically for building neural networks. \n",
        "\n",
        "It turns out neural network computations are just a bunch of linear algebra operations on *tensors*, a generalization of matrices. A vector is a 1-dimensional tensor, a matrix is a 2-dimensional tensor, an array with three indices is a 3-dimensional tensor (RGB color images for example). The fundamental data structure for neural networks are tensors and PyTorch (as well as pretty much every other deep learning framework) is built around tensors.\n"
      ]
    },
    {
      "cell_type": "markdown",
      "metadata": {
        "id": "LLwIDXnI1r_d"
      },
      "source": [
        "### Creating and manipulating tensors"
      ]
    },
    {
      "cell_type": "code",
      "metadata": {
        "id": "2zEMgDQN1r_d"
      },
      "source": [
        "# First, import PyTorch\n",
        "import torch"
      ],
      "execution_count": null,
      "outputs": []
    },
    {
      "cell_type": "code",
      "metadata": {
        "id": "8AwqDkge1r_d",
        "colab": {
          "base_uri": "https://localhost:8080/",
          "height": 35
        },
        "outputId": "8df3baee-c6b6-46e7-a545-21a456ff625a"
      },
      "source": [
        "# To check what torch version you're using\n",
        "\n",
        "torch.__version__"
      ],
      "execution_count": null,
      "outputs": [
        {
          "output_type": "execute_result",
          "data": {
            "application/vnd.google.colaboratory.intrinsic+json": {
              "type": "string"
            },
            "text/plain": [
              "'1.8.0+cu101'"
            ]
          },
          "metadata": {
            "tags": []
          },
          "execution_count": 23
        }
      ]
    },
    {
      "cell_type": "markdown",
      "metadata": {
        "id": "oeOZRVcM1r_d"
      },
      "source": [
        "Lets create a function to manipulate torch tensors. Let's program our own logistic regressor\n",
        "\n",
        "$$f(\\mathbf{x}) = \\frac{1}{1+\\exp-(\\mathbf{w}^T\\mathbf{x}+w_0)}=\\sigma(\\cdot)$$\n",
        "\n",
        "where $\\mathbf{w}$ and $w_0$ (the bias or intercept) are initialized with Pytorch tensors containing random numbers drawn from a i.i.d. Normal Gaussian distribution. Also, to test the function, we will generate data points $\\mathbf{x}$ also as random tensors.\n",
        "\n",
        "#### First we define the sigmoid function $\\sigma(\\cdot)$"
      ]
    },
    {
      "cell_type": "code",
      "metadata": {
        "id": "zsmb0Y7i1r_d"
      },
      "source": [
        "def sigmoid(x):\n",
        "    \"\"\" Sigmoid activation function \n",
        "    \n",
        "        Arguments\n",
        "        ---------\n",
        "        x: torch.Tensor\n",
        "    \"\"\"\n",
        "    return 1/(1+torch.exp(-x))"
      ],
      "execution_count": null,
      "outputs": []
    },
    {
      "cell_type": "markdown",
      "metadata": {
        "id": "fnQYScH91r_e"
      },
      "source": [
        "#### Now we generate the parameters $\\mathbf{w},w_0$ and one input vector (feature vector) $\\mathbf{x}$"
      ]
    },
    {
      "cell_type": "code",
      "metadata": {
        "id": "f19ppyI51r_e"
      },
      "source": [
        "torch.manual_seed(7) # Set the random seed so things are predictable\n",
        "\n",
        "# Features are 5 random normal variables\n",
        "feature_vector = torch.randn((1, 5))\n",
        "# True weights for our data, random normal variables again\n",
        "weights = torch.randn_like(feature_vector)\n",
        "# and a true bias term\n",
        "bias = torch.randn((1, 1))"
      ],
      "execution_count": null,
      "outputs": []
    },
    {
      "cell_type": "markdown",
      "metadata": {
        "id": "esr6Sd2c1r_e"
      },
      "source": [
        "Above we generated data we can use to get the output of our simple neural network. This is all just random for now, going forward we'll start using normal data. Going through each relevant line:\n",
        "\n",
        "`features = torch.randn((1, 5))` creates a tensor with shape `(1, 5)`, one row and five columns, that contains values randomly distributed according to the normal distribution with a mean of zero and standard deviation of one. \n",
        "\n",
        "`weights = torch.randn_like(features)` creates another tensor with the same shape as `features`, again containing values from a normal distribution.\n",
        "\n",
        "Finally, `bias = torch.randn((1, 1))` creates a single value from a normal distribution.\n",
        "\n",
        "PyTorch tensors can be added, multiplied, subtracted, etc, just like Numpy arrays. In general, you'll use PyTorch tensors pretty much the same way you'd use Numpy arrays.\n",
        "\n",
        "Just like in Numpy, you can check the values and dimensions of a tensor:\n"
      ]
    },
    {
      "cell_type": "code",
      "metadata": {
        "colab": {
          "base_uri": "https://localhost:8080/"
        },
        "id": "ZWkDaoQ71r_e",
        "outputId": "3968ed11-166a-4e97-bd0e-5a85410c482a"
      },
      "source": [
        "print(feature_vector)\n",
        "m, n = feature_vector.shape\n",
        "print(\"The dimensions are {0}, {1}\".format(m, n))"
      ],
      "execution_count": null,
      "outputs": [
        {
          "output_type": "stream",
          "text": [
            "tensor([[-0.1468,  0.7861,  0.9468, -1.1143,  1.6908]])\n",
            "The dimensions are 1, 5\n"
          ],
          "name": "stdout"
        }
      ]
    },
    {
      "cell_type": "markdown",
      "metadata": {
        "id": "lMmLi7VT1r_e"
      },
      "source": [
        "> **Exercise**: Using the `sigmoid()` function, calculate the output a binary logistic regressor with input feature vector `feature_vector`, weights `weights`, and bias `bias`. You can use `*` for Tensor elemenwise product and the function  [`torch.sum()`](https://pytorch.org/docs/stable/torch.html#torch.sum) to sum all the elements of a tensor in a certain dimension. "
      ]
    },
    {
      "cell_type": "code",
      "metadata": {
        "id": "RleqXVrA1r_e"
      },
      "source": [
        "y = sigmoid(bias + torch.sum(feature_vector*weights))"
      ],
      "execution_count": null,
      "outputs": []
    },
    {
      "cell_type": "code",
      "metadata": {
        "id": "iqVNG3IOx-mo",
        "colab": {
          "base_uri": "https://localhost:8080/"
        },
        "outputId": "85318e73-ce40-49b1-b7f5-ec51b5653d24"
      },
      "source": [
        "print(\"The ouput of the LR is {0}\".format(y[0][0])) "
      ],
      "execution_count": null,
      "outputs": [
        {
          "output_type": "stream",
          "text": [
            "The ouput of the LR is 0.15950655937194824\n"
          ],
          "name": "stdout"
        }
      ]
    },
    {
      "cell_type": "markdown",
      "metadata": {
        "id": "c3eIkdSN1r_f"
      },
      "source": [
        "#### Do the same but using matrix multiplication with `torch.mm()`\n",
        "\n",
        "\n",
        "You can do the multiplication and sum in the same operation using a matrix multiplication. In general, you'll want to use matrix multiplications since they are more efficient and accelerated using modern libraries and high-performance computing on GPUs.  For this we can use [`torch.mm()`](https://pytorch.org/docs/stable/torch.html#torch.mm) or [`torch.matmul()`](https://pytorch.org/docs/stable/torch.html#torch.matmul) which is somewhat more complicated and supports broadcasting.\n",
        "\n",
        "First, check the dimension of `feature_vector` and `weights` using the method `.shape`"
      ]
    },
    {
      "cell_type": "code",
      "metadata": {
        "colab": {
          "base_uri": "https://localhost:8080/"
        },
        "id": "CYrOhwJE1r_f",
        "outputId": "01b94407-906e-4ec3-9132-fc559e2748ac"
      },
      "source": [
        "print(feature_vector.shape)\n",
        "print(weights.shape)"
      ],
      "execution_count": null,
      "outputs": [
        {
          "output_type": "stream",
          "text": [
            "torch.Size([1, 5])\n",
            "torch.Size([1, 5])\n"
          ],
          "name": "stdout"
        }
      ]
    },
    {
      "cell_type": "markdown",
      "metadata": {
        "id": "HHxHS_GW1r_f"
      },
      "source": [
        "See what comes if you try to directly multiply both tensors"
      ]
    },
    {
      "cell_type": "code",
      "metadata": {
        "id": "ESULD5pX1r_f",
        "colab": {
          "base_uri": "https://localhost:8080/",
          "height": 165
        },
        "outputId": "4dbbb708-8849-4bc5-e0fe-e79a574572fe"
      },
      "source": [
        "torch.mm(feature_vector, weights)"
      ],
      "execution_count": null,
      "outputs": [
        {
          "output_type": "error",
          "ename": "RuntimeError",
          "evalue": "ignored",
          "traceback": [
            "\u001b[0;31m---------------------------------------------------------------------------\u001b[0m",
            "\u001b[0;31mRuntimeError\u001b[0m                              Traceback (most recent call last)",
            "\u001b[0;32m<ipython-input-29-7a839bd06a63>\u001b[0m in \u001b[0;36m<module>\u001b[0;34m()\u001b[0m\n\u001b[0;32m----> 1\u001b[0;31m \u001b[0mtorch\u001b[0m\u001b[0;34m.\u001b[0m\u001b[0mmm\u001b[0m\u001b[0;34m(\u001b[0m\u001b[0mfeature_vector\u001b[0m\u001b[0;34m,\u001b[0m \u001b[0mweights\u001b[0m\u001b[0;34m)\u001b[0m\u001b[0;34m\u001b[0m\u001b[0;34m\u001b[0m\u001b[0m\n\u001b[0m",
            "\u001b[0;31mRuntimeError\u001b[0m: mat1 and mat2 shapes cannot be multiplied (1x5 and 1x5)"
          ]
        }
      ]
    },
    {
      "cell_type": "markdown",
      "metadata": {
        "id": "ZVpMPaLm1r_f"
      },
      "source": [
        "What's happening here is our tensors aren't the correct shapes to perform a matrix multiplication. There are a few options here: [`weights.reshape()`](https://pytorch.org/docs/stable/tensors.html#torch.Tensor.reshape), and [`weights.view()`](https://pytorch.org/docs/stable/tensors.html#torch.Tensor.view).\n",
        "\n",
        "* `weights.reshape(a, b)` will return a new tensor with the same data as `weights` with size `(a, b)` sometimes, and sometimes a clone, as in it copies the data to another part of memory.\n",
        "* `weights.view(a, b)` will return a new tensor with the same data as `weights` with size `(a, b)`.\n",
        "\n",
        "Any of the two methods will work for this. So, now we can reshape `weights` to have five rows and one column with something like `weights.view(5, 1)`.\n",
        "\n",
        "\n",
        "> **Exercise**: Calculate the output of the logistic regressor using matrix multiplication."
      ]
    },
    {
      "cell_type": "code",
      "metadata": {
        "id": "JU8pRYCA1r_f"
      },
      "source": [
        "y = sigmoid(bias + torch.mm(feature_vector, weights.reshape(5,1)))"
      ],
      "execution_count": null,
      "outputs": []
    },
    {
      "cell_type": "code",
      "metadata": {
        "id": "Q6YACiru1r_f",
        "colab": {
          "base_uri": "https://localhost:8080/"
        },
        "outputId": "830b3fad-979e-4918-e3c2-ba2e6bd9cdbb"
      },
      "source": [
        "print(\"The ouput of the LR is {0}\".format(y[0][0])) "
      ],
      "execution_count": null,
      "outputs": [
        {
          "output_type": "stream",
          "text": [
            "The ouput of the LR is 0.15950657427310944\n"
          ],
          "name": "stdout"
        }
      ]
    },
    {
      "cell_type": "markdown",
      "metadata": {
        "id": "vyacVpz11r_g"
      },
      "source": [
        "### Numpy to Torch and back\n",
        "\n",
        "PyTorch has a feature for converting between Numpy arrays and Torch tensors. To create a tensor from a Numpy array, use `torch.from_numpy()`. To convert a tensor to a Numpy array, use the `.numpy()` method."
      ]
    },
    {
      "cell_type": "code",
      "metadata": {
        "id": "xn8IvpIy1r_g",
        "colab": {
          "base_uri": "https://localhost:8080/"
        },
        "outputId": "45ef2ba6-a596-4f1d-f145-af8ddbbb3540"
      },
      "source": [
        "a = np.random.rand(4,3)\n",
        "a"
      ],
      "execution_count": null,
      "outputs": [
        {
          "output_type": "execute_result",
          "data": {
            "text/plain": [
              "array([[0.331844  , 0.06143108, 0.59817351],\n",
              "       [0.88592025, 0.41213378, 0.0382722 ],\n",
              "       [0.0808424 , 0.08191454, 0.80936733],\n",
              "       [0.800694  , 0.01690981, 0.86129433]])"
            ]
          },
          "metadata": {
            "tags": []
          },
          "execution_count": 40
        }
      ]
    },
    {
      "cell_type": "code",
      "metadata": {
        "id": "y8-knMQq1r_g",
        "colab": {
          "base_uri": "https://localhost:8080/"
        },
        "outputId": "b732cdfa-c6b7-447a-c9cd-4408d803357d"
      },
      "source": [
        "b = torch.from_numpy(a)\n",
        "b"
      ],
      "execution_count": null,
      "outputs": [
        {
          "output_type": "execute_result",
          "data": {
            "text/plain": [
              "tensor([[0.3318, 0.0614, 0.5982],\n",
              "        [0.8859, 0.4121, 0.0383],\n",
              "        [0.0808, 0.0819, 0.8094],\n",
              "        [0.8007, 0.0169, 0.8613]], dtype=torch.float64)"
            ]
          },
          "metadata": {
            "tags": []
          },
          "execution_count": 41
        }
      ]
    },
    {
      "cell_type": "code",
      "metadata": {
        "id": "N3iLqM6r1r_g",
        "colab": {
          "base_uri": "https://localhost:8080/"
        },
        "outputId": "3adace4a-2ea7-4329-8957-0b4bda39616a"
      },
      "source": [
        "b.numpy()"
      ],
      "execution_count": null,
      "outputs": [
        {
          "output_type": "execute_result",
          "data": {
            "text/plain": [
              "array([[2.36060715, 1.4667084 , 0.15785968],\n",
              "       [5.94656986, 0.30634723, 3.46943735],\n",
              "       [6.65667809, 0.10766847, 4.07468313],\n",
              "       [3.8363896 , 0.23723953, 0.09142821]])"
            ]
          },
          "metadata": {
            "tags": []
          },
          "execution_count": 37
        }
      ]
    },
    {
      "cell_type": "markdown",
      "metadata": {
        "id": "gPFAjlZ11r_g"
      },
      "source": [
        "The **memory is shared between the Numpy array and Torch tensor**, so if you change the values in-place of one object, the other will change as well."
      ]
    },
    {
      "cell_type": "code",
      "metadata": {
        "id": "ZudWJ3h81r_g",
        "colab": {
          "base_uri": "https://localhost:8080/"
        },
        "outputId": "080540ae-abae-4f0c-cfc4-0e53fcb972ff"
      },
      "source": [
        "# Multiply PyTorch Tensor by 2, in place (Note the _)\n",
        "b.mul_(2)"
      ],
      "execution_count": null,
      "outputs": [
        {
          "output_type": "execute_result",
          "data": {
            "text/plain": [
              "tensor([[0.6637, 0.1229, 1.1963],\n",
              "        [1.7718, 0.8243, 0.0765],\n",
              "        [0.1617, 0.1638, 1.6187],\n",
              "        [1.6014, 0.0338, 1.7226]], dtype=torch.float64)"
            ]
          },
          "metadata": {
            "tags": []
          },
          "execution_count": 42
        }
      ]
    },
    {
      "cell_type": "code",
      "metadata": {
        "id": "OjXoCyz01r_g",
        "colab": {
          "base_uri": "https://localhost:8080/"
        },
        "outputId": "92d14415-2681-43d6-fa87-c90411e29e3a"
      },
      "source": [
        "# Numpy array matches new values from Tensor\n",
        "a"
      ],
      "execution_count": null,
      "outputs": [
        {
          "output_type": "execute_result",
          "data": {
            "text/plain": [
              "array([[0.663688  , 0.12286216, 1.19634702],\n",
              "       [1.77184051, 0.82426755, 0.0765444 ],\n",
              "       [0.16168481, 0.16382908, 1.61873467],\n",
              "       [1.60138801, 0.03381962, 1.72258865]])"
            ]
          },
          "metadata": {
            "tags": []
          },
          "execution_count": 43
        }
      ]
    },
    {
      "cell_type": "markdown",
      "metadata": {
        "id": "BU56e4X71r_g"
      },
      "source": [
        "## Part III. Define a logistic regression and the loss function in Pytorch\n",
        "\n",
        "### The `nn.()` module\n",
        "\n",
        "PyTorch provides a module `nn` that makes building neural networks much simpler. \n"
      ]
    },
    {
      "cell_type": "code",
      "metadata": {
        "id": "KNa0bplb1r_g"
      },
      "source": [
        "from torch import nn"
      ],
      "execution_count": null,
      "outputs": []
    },
    {
      "cell_type": "markdown",
      "metadata": {
        "id": "WjXkUJaW1r_h"
      },
      "source": [
        "You should get use to inspect [Pytorch official documentation](https://pytorch.org/docs/stable/index.html) to understand the structure and usability of methods and classes required to work with Pytorch and train neural networks.\n",
        "\n",
        "With the following code I show you how to create a Logistic Regression network whose parameters will be later on optimized for our data."
      ]
    },
    {
      "cell_type": "code",
      "metadata": {
        "id": "9EEM5c3I1r_h"
      },
      "source": [
        "class LR(nn.Module):\n",
        "    def __init__(self, dimx):\n",
        "        super().__init__()\n",
        "        \n",
        "        self.weights = nn.Parameter(torch.randn(dimx, 1), requires_grad = True)\n",
        "        \n",
        "        self.bias = nn.Parameter(torch.randn(1, 1), requires_grad = True)\n",
        "        \n",
        "        # Define sigmoid activation and softmax output \n",
        "        self.sigmoid = nn.Sigmoid()\n",
        "        \n",
        "    def forward(self, x):\n",
        "        # Pass the input tensor through each of our operations\n",
        "        x = self.sigmoid(torch.matmul(x, self.weights)+self.bias)\n",
        "        return x"
      ],
      "execution_count": null,
      "outputs": []
    },
    {
      "cell_type": "markdown",
      "metadata": {
        "id": "DxGXhgdS1r_h"
      },
      "source": [
        "Let's go through this step by step.\n",
        "\n",
        "```python\n",
        "class Network(nn.Module):\n",
        "```\n",
        "\n",
        "Here we're inheriting from `nn.Module`. Combined with `super().__init__()` this creates a class that tracks the architecture and provides a lot of useful methods and attributes. It is mandatory to inherit from `nn.Module` when you're creating a class for your neural network. The name of the class itself can be anything.\n",
        "\n",
        "```python\n",
        "self.weights = nn.Parameter(torch.randn(dimx,1),requires_grad = True)\n",
        "self.bias = nn.Parameter(torch.randn(1,1),requires_grad = True)\n",
        "```\n",
        "\n",
        "The Parameter class defines a kind of Tensor that is to be considered a module parameter. Namely, we will optimize the values of these tensors. Note that we define a **random initialization** with `torch.randn()`.\n",
        "\n",
        "```python\n",
        "def forward(self, x):\n",
        "```\n",
        "\n",
        "PyTorch networks created with `nn.Module` must have a `forward` method defined. It takes in a tensor `x` and passes it through the operations you defined in the `__init__` method.\n"
      ]
    },
    {
      "cell_type": "markdown",
      "metadata": {
        "id": "JrOBL6CH1r_h"
      },
      "source": [
        "### A more compact definition of the network using pre-defined layers\n",
        "\n",
        "The `.nn` package provides us with predefined layers and operators so that the implementation of our networks is indeed much easier (and compact). The following code performs exactly as the class `LR` defined above."
      ]
    },
    {
      "cell_type": "code",
      "metadata": {
        "id": "nVQV6X3_1r_h"
      },
      "source": [
        "class LR_compact(nn.Module):\n",
        "    def __init__(self,dimx):\n",
        "        super().__init__()\n",
        "        \n",
        "        self.output = nn.Linear(dimx, 1)\n",
        "        #first element is the number of input features\n",
        "        #second element is the number of output features # so this will be used for the linear operations of each perceptron\n",
        "        \n",
        "        # Define sigmoid activation and softmax output \n",
        "        self.sigmoid = nn.Sigmoid()\n",
        "        \n",
        "    def forward(self, x):\n",
        "        # Pass the input tensor through each of our operations\n",
        "        x = self.output(x)\n",
        "        x = self.sigmoid(x)\n",
        "        return x"
      ],
      "execution_count": null,
      "outputs": []
    },
    {
      "cell_type": "markdown",
      "metadata": {
        "id": "TIY7htiN1r_h"
      },
      "source": [
        "When we define a logistic regressor by instantiating the class `LR_compact`, we can access the weights and the bias as `self.output.weight` and `self.output.bias`"
      ]
    },
    {
      "cell_type": "markdown",
      "metadata": {
        "id": "Tll_IRmq1r_h"
      },
      "source": [
        "### Evaluate the logistic regressor using our data\n",
        "\n",
        "Lets go back to the database we just preprocessed above. Consider now the first 10 datapoints in the training set."
      ]
    },
    {
      "cell_type": "code",
      "metadata": {
        "id": "Hlb46-Hx1r_h"
      },
      "source": [
        "x = np.array(train_data[:10]).astype(np.float32) # train_data is a Dataframe, can easily be converted to a numpy array\n",
        "y = x[:, -1]    # Last Column is the class\n",
        "x = x[:, :-1]   # We remove the last column from x"
      ],
      "execution_count": null,
      "outputs": []
    },
    {
      "cell_type": "code",
      "metadata": {
        "id": "N9EUHlko1r_i",
        "colab": {
          "base_uri": "https://localhost:8080/"
        },
        "outputId": "33627ba1-d926-4446-bdca-9008d9c10a73"
      },
      "source": [
        "print(\"The dimensions of x are ({0},{1})\\n\".format(x.shape[0], x.shape[1]))\n",
        "print(x)\n",
        "print(\"The dimension of y is ({0})\\n\".format(y.shape[0]))\n",
        "print(y)"
      ],
      "execution_count": null,
      "outputs": [
        {
          "output_type": "stream",
          "text": [
            "The dimensions of x are (10,9)\n",
            "\n",
            "[[-0.811616    1.300525    2.2856638   2.2764957   2.4554093   2.2863305\n",
            "   2.6582384   1.3306657   0.8670005 ]\n",
            " [-0.98318946 -1.2125387  -0.7003592  -0.7478111  -0.6429514  -0.55274856\n",
            "  -1.010787   -0.60810614 -0.3386047 ]\n",
            " [ 0.2754474   0.22349761 -0.7003592  -0.7478111  -0.6429514  -0.55274856\n",
            "  -0.60311747 -0.2849775  -0.3386047 ]\n",
            " [ 0.28192046  0.22349761 -0.7003592  -0.41177702 -0.6429514  -0.55274856\n",
            "  -1.010787   -0.60810614 -0.3386047 ]\n",
            " [ 0.29667392  0.22349761 -0.7003592  -0.7478111   0.04557319  0.39361116\n",
            "  -0.195448   -0.2849775  -0.3386047 ]\n",
            " [ 0.05097196  2.018543   -0.03679854  0.93235934 -0.29868913 -0.07956871\n",
            "   0.21222152  2.3000517   0.26419792]\n",
            " [ 0.36454394  0.22349761 -0.7003592  -0.7478111  -0.6429514  -0.55274856\n",
            "  -0.195448   -0.60810614 -0.3386047 ]\n",
            " [-0.36715612 -0.8535297  -0.7003592  -0.7478111  -0.6429514  -0.55274856\n",
            "  -1.010787   -0.60810614 -0.3386047 ]\n",
            " [-0.75790435  1.300525    1.6221032   1.6044276  -0.6429514  -0.55274856\n",
            "   1.0275605   2.3000517  -0.3386047 ]\n",
            " [-0.37215632 -1.2125387  -0.7003592  -0.7478111  -0.6429514  -0.55274856\n",
            "  -0.195448   -0.60810614 -0.3386047 ]]\n",
            "The dimension of y is (10)\n",
            "\n",
            "[1. 0. 0. 0. 0. 1. 0. 0. 1. 0.]\n"
          ],
          "name": "stdout"
        }
      ]
    },
    {
      "cell_type": "markdown",
      "metadata": {
        "id": "H9CNjYrP1r_i"
      },
      "source": [
        "> **Exercise:** Instantiate the class `LR_compact` with the dimension of every data point in `x`"
      ]
    },
    {
      "cell_type": "code",
      "metadata": {
        "id": "IWLXoOgO1r_i"
      },
      "source": [
        "first_logit = LR_compact(x.shape[1])"
      ],
      "execution_count": null,
      "outputs": []
    },
    {
      "cell_type": "markdown",
      "metadata": {
        "id": "DS6u62081r_i"
      },
      "source": [
        "> **Exercise:** Print the current parameters of the classifier (weight vector and bias)"
      ]
    },
    {
      "cell_type": "code",
      "metadata": {
        "id": "tUXiRPPX1r_i",
        "colab": {
          "base_uri": "https://localhost:8080/"
        },
        "outputId": "7b4d1ddc-1b4e-4c8c-b589-55c3cdcaca10"
      },
      "source": [
        "print(\"The weights of the model are: \\n\\n{}\\n\\nThe bias of the model is:\\n\\n{}\".format(first_logit.output.weight.tolist()[0],\n",
        "                                                                       first_logit.output.bias[0]))"
      ],
      "execution_count": null,
      "outputs": [
        {
          "output_type": "stream",
          "text": [
            "The weights of the model are: \n",
            "\n",
            "[0.013953368179500103, 0.0621541365981102, 0.25313612818717957, 0.0857260674238205, 0.1768491268157959, -0.2578529715538025, 0.2372952699661255, 0.11472304910421371, 0.08443371951580048]\n",
            "\n",
            "The bias of the model is:\n",
            "\n",
            "0.046048443764448166\n"
          ],
          "name": "stdout"
        }
      ]
    },
    {
      "cell_type": "markdown",
      "metadata": {
        "id": "_Xn4TLlD1r_i"
      },
      "source": [
        "To evaluate the logistic regressor output for the data in `x`, we make use of the class `forward` method. Do not forget to feed the function with a **torch tensor**."
      ]
    },
    {
      "cell_type": "code",
      "metadata": {
        "id": "NxmzCBkV1r_j"
      },
      "source": [
        "output = first_logit.forward(torch.tensor(x))"
      ],
      "execution_count": null,
      "outputs": []
    },
    {
      "cell_type": "code",
      "metadata": {
        "scrolled": false,
        "id": "5VvZEGbX1r_j",
        "colab": {
          "base_uri": "https://localhost:8080/"
        },
        "outputId": "4aa64a47-9cff-49c6-d4e0-3d3fa69be23d"
      },
      "source": [
        "print(output)"
      ],
      "execution_count": null,
      "outputs": [
        {
          "output_type": "stream",
          "text": [
            "tensor([[0.8307],\n",
            "        [0.3558],\n",
            "        [0.4126],\n",
            "        [0.3874],\n",
            "        [0.4065],\n",
            "        [0.6335],\n",
            "        [0.4274],\n",
            "        [0.3629],\n",
            "        [0.7636],\n",
            "        [0.4033]], grad_fn=<SigmoidBackward>) [1. 0. 0. 0. 0. 1. 0. 0. 1. 0.]\n"
          ],
          "name": "stdout"
        }
      ]
    },
    {
      "cell_type": "markdown",
      "metadata": {
        "id": "KJckzGzQ1r_j"
      },
      "source": [
        "Above we can see the operation that created `output`, a sigmoid operation `SigmoidBackward`. The autograd module keeps track of **all operations that affect Parameter tensors** and use such information to calculate the gradient for each one. In this way, it's able to calculate the gradients for a chain of operations, with respect to any one tensor. \n",
        "\n",
        "### Evaluating the binary cross entropy function using `nn.BCE()`\n",
        "\n",
        "Let's reduce the tensor `y` to a scalar value, the binary cross entropy. We will use the class `nn.BCE()`. See how to use the function in the [official documentation](https://pytorch.org/docs/stable/nn.html)."
      ]
    },
    {
      "cell_type": "code",
      "metadata": {
        "id": "wn9DEtjV1r_j"
      },
      "source": [
        "bce = nn.BCELoss()"
      ],
      "execution_count": null,
      "outputs": []
    },
    {
      "cell_type": "code",
      "metadata": {
        "id": "-69RL5Ra1r_j",
        "colab": {
          "base_uri": "https://localhost:8080/"
        },
        "outputId": "3849f768-ae47-4982-83d7-54e2685ccc29"
      },
      "source": [
        "loss = bce(output, torch.tensor(y).view(output.shape[0], 1))\n",
        "\n",
        "print(loss)"
      ],
      "execution_count": null,
      "outputs": [
        {
          "output_type": "stream",
          "text": [
            "tensor(0.4420, grad_fn=<BinaryCrossEntropyBackward>)\n"
          ],
          "name": "stdout"
        }
      ]
    },
    {
      "cell_type": "code",
      "metadata": {
        "colab": {
          "base_uri": "https://localhost:8080/"
        },
        "id": "UxzfkGpszsaK",
        "outputId": "3cf482fb-2326-4cbe-fd3a-2765252b7acc"
      },
      "source": [
        "torch.tensor(y).view(output.shape[0], 1)"
      ],
      "execution_count": null,
      "outputs": [
        {
          "output_type": "execute_result",
          "data": {
            "text/plain": [
              "tensor([[1.],\n",
              "        [0.],\n",
              "        [0.],\n",
              "        [0.],\n",
              "        [0.],\n",
              "        [1.],\n",
              "        [0.],\n",
              "        [0.],\n",
              "        [1.],\n",
              "        [0.]])"
            ]
          },
          "metadata": {
            "tags": []
          },
          "execution_count": 110
        }
      ]
    },
    {
      "cell_type": "markdown",
      "metadata": {
        "id": "zam03qFr1r_j"
      },
      "source": [
        "Above we can see the operation that created `loss`, a binary cross entropy `BinaryCrossEntropyBackward`.\n",
        "\n",
        "\n",
        "Now that we know how to calculate a loss, Torch provides a module, `autograd`, for automatically calculating the gradients of the loss w.r.t. the tensors. Autograd works by keeping track of operations performed on tensors, then going backwards through those operations, calculating gradients along the way.\n",
        "To make sure PyTorch keeps track of operations on a tensor and calculates the gradients, you need to set `requires_grad = True` on a tensor. You can do this at creation with the `requires_grad` keyword, or at any time with `x.requires_grad_(True)`. By default, all tensors created by instantiating the class `nn.Parameter` have `requires_grad = True`.\n",
        "\n",
        "> **Exercise**: Check that both the weights and the bias of the object have this flag set to `True`"
      ]
    },
    {
      "cell_type": "code",
      "metadata": {
        "id": "FAn8eV_X1r_j",
        "colab": {
          "base_uri": "https://localhost:8080/"
        },
        "outputId": "d1d41f4a-c951-44b0-bf84-08c1cb6a1f8b"
      },
      "source": [
        "print(first_logit.output.weight.requires_grad_())\n",
        "print(first_logit.output.bias.requires_grad_())\n"
      ],
      "execution_count": null,
      "outputs": [
        {
          "output_type": "stream",
          "text": [
            "Parameter containing:\n",
            "tensor([[ 0.0140,  0.0622,  0.2531,  0.0857,  0.1768, -0.2579,  0.2373,  0.1147,\n",
            "          0.0844]], requires_grad=True)\n",
            "Parameter containing:\n",
            "tensor([0.0460], requires_grad=True)\n"
          ],
          "name": "stdout"
        }
      ]
    },
    {
      "cell_type": "markdown",
      "metadata": {
        "id": "DIa041Z41r_k"
      },
      "source": [
        "You can turn off gradients for a block of code with the `torch.no_grad()` content:\n",
        "```python\n",
        "x = torch.zeros(1, requires_grad=True)\n",
        ">>> with torch.no_grad():\n",
        "...     y = x * 2\n",
        ">>> y.requires_grad\n",
        "False\n",
        "```\n",
        "\n",
        "Also, you can turn on or off gradients altogether with `torch.set_grad_enabled(True|False)`. Turning off gradients is recommended for instance when you are just evaluating you network, i.e., when training is finished and only parameter evaluation is required.\n"
      ]
    },
    {
      "cell_type": "markdown",
      "metadata": {
        "id": "kC-Lie4k1r_k"
      },
      "source": [
        "### The `.backward()` operator\n",
        "\n",
        "\n",
        "The gradients are computed with respect to some variable `z` with `z.backward()`. This does a backward pass through the operations that created `z`. This means that when we calculate the loss and call `loss.backward()`, the gradients of the loss function w.r.t. the parameters are calculated. These gradients are used to update the weights with gradient descent.\n",
        "\n",
        "After calling  `loss.backward()` the gradient of `loss` w.r.t. to any tensor `x` can be accessed as `x.grad`\n",
        "\n",
        "\n",
        "> **Exercise**: Print the gradient of the loss function w.r.t. the model parameters for the `LR` object (or the `LR_compact`) before and after running `loss.backward()`."
      ]
    },
    {
      "cell_type": "code",
      "metadata": {
        "id": "EfraUfI21r_k",
        "colab": {
          "base_uri": "https://localhost:8080/",
          "height": 426
        },
        "outputId": "0d6fa76d-7e7c-45e8-b191-2cdbfc5b9ddd"
      },
      "source": [
        "print(first_logit.output.weight.grad)\n",
        "print(first_logit.output.bias.grad)\n",
        "\n",
        "loss.backward(retain_graph=True)\n",
        "\n",
        "print(first_logit.output.weight.grad)\n",
        "print(first_logit.output.bias.grad)"
      ],
      "execution_count": null,
      "outputs": [
        {
          "output_type": "stream",
          "text": [
            "tensor([[ 0.0164, -0.2132, -0.2687, -0.3037, -0.1646, -0.1366, -0.2379, -0.3023,\n",
            "         -0.1097]])\n",
            "tensor([0.1984])\n"
          ],
          "name": "stdout"
        },
        {
          "output_type": "error",
          "ename": "RuntimeError",
          "evalue": "ignored",
          "traceback": [
            "\u001b[0;31m---------------------------------------------------------------------------\u001b[0m",
            "\u001b[0;31mRuntimeError\u001b[0m                              Traceback (most recent call last)",
            "\u001b[0;32m<ipython-input-116-24aecac66bae>\u001b[0m in \u001b[0;36m<module>\u001b[0;34m()\u001b[0m\n\u001b[1;32m      2\u001b[0m \u001b[0mprint\u001b[0m\u001b[0;34m(\u001b[0m\u001b[0mfirst_logit\u001b[0m\u001b[0;34m.\u001b[0m\u001b[0moutput\u001b[0m\u001b[0;34m.\u001b[0m\u001b[0mbias\u001b[0m\u001b[0;34m.\u001b[0m\u001b[0mgrad\u001b[0m\u001b[0;34m)\u001b[0m\u001b[0;34m\u001b[0m\u001b[0;34m\u001b[0m\u001b[0m\n\u001b[1;32m      3\u001b[0m \u001b[0;34m\u001b[0m\u001b[0m\n\u001b[0;32m----> 4\u001b[0;31m \u001b[0mloss\u001b[0m\u001b[0;34m.\u001b[0m\u001b[0mbackward\u001b[0m\u001b[0;34m(\u001b[0m\u001b[0mretain_graph\u001b[0m\u001b[0;34m=\u001b[0m\u001b[0;32mTrue\u001b[0m\u001b[0;34m)\u001b[0m\u001b[0;34m\u001b[0m\u001b[0;34m\u001b[0m\u001b[0m\n\u001b[0m\u001b[1;32m      5\u001b[0m \u001b[0;34m\u001b[0m\u001b[0m\n\u001b[1;32m      6\u001b[0m \u001b[0mprint\u001b[0m\u001b[0;34m(\u001b[0m\u001b[0mfirst_logit\u001b[0m\u001b[0;34m.\u001b[0m\u001b[0moutput\u001b[0m\u001b[0;34m.\u001b[0m\u001b[0mweight\u001b[0m\u001b[0;34m.\u001b[0m\u001b[0mgrad\u001b[0m\u001b[0;34m)\u001b[0m\u001b[0;34m\u001b[0m\u001b[0;34m\u001b[0m\u001b[0m\n",
            "\u001b[0;32m/usr/local/lib/python3.6/dist-packages/torch/tensor.py\u001b[0m in \u001b[0;36mbackward\u001b[0;34m(self, gradient, retain_graph, create_graph)\u001b[0m\n\u001b[1;32m    219\u001b[0m                 \u001b[0mretain_graph\u001b[0m\u001b[0;34m=\u001b[0m\u001b[0mretain_graph\u001b[0m\u001b[0;34m,\u001b[0m\u001b[0;34m\u001b[0m\u001b[0;34m\u001b[0m\u001b[0m\n\u001b[1;32m    220\u001b[0m                 create_graph=create_graph)\n\u001b[0;32m--> 221\u001b[0;31m         \u001b[0mtorch\u001b[0m\u001b[0;34m.\u001b[0m\u001b[0mautograd\u001b[0m\u001b[0;34m.\u001b[0m\u001b[0mbackward\u001b[0m\u001b[0;34m(\u001b[0m\u001b[0mself\u001b[0m\u001b[0;34m,\u001b[0m \u001b[0mgradient\u001b[0m\u001b[0;34m,\u001b[0m \u001b[0mretain_graph\u001b[0m\u001b[0;34m,\u001b[0m \u001b[0mcreate_graph\u001b[0m\u001b[0;34m)\u001b[0m\u001b[0;34m\u001b[0m\u001b[0;34m\u001b[0m\u001b[0m\n\u001b[0m\u001b[1;32m    222\u001b[0m \u001b[0;34m\u001b[0m\u001b[0m\n\u001b[1;32m    223\u001b[0m     \u001b[0;32mdef\u001b[0m \u001b[0mregister_hook\u001b[0m\u001b[0;34m(\u001b[0m\u001b[0mself\u001b[0m\u001b[0;34m,\u001b[0m \u001b[0mhook\u001b[0m\u001b[0;34m)\u001b[0m\u001b[0;34m:\u001b[0m\u001b[0;34m\u001b[0m\u001b[0;34m\u001b[0m\u001b[0m\n",
            "\u001b[0;32m/usr/local/lib/python3.6/dist-packages/torch/autograd/__init__.py\u001b[0m in \u001b[0;36mbackward\u001b[0;34m(tensors, grad_tensors, retain_graph, create_graph, grad_variables)\u001b[0m\n\u001b[1;32m    130\u001b[0m     Variable._execution_engine.run_backward(\n\u001b[1;32m    131\u001b[0m         \u001b[0mtensors\u001b[0m\u001b[0;34m,\u001b[0m \u001b[0mgrad_tensors_\u001b[0m\u001b[0;34m,\u001b[0m \u001b[0mretain_graph\u001b[0m\u001b[0;34m,\u001b[0m \u001b[0mcreate_graph\u001b[0m\u001b[0;34m,\u001b[0m\u001b[0;34m\u001b[0m\u001b[0;34m\u001b[0m\u001b[0m\n\u001b[0;32m--> 132\u001b[0;31m         allow_unreachable=True)  # allow_unreachable flag\n\u001b[0m\u001b[1;32m    133\u001b[0m \u001b[0;34m\u001b[0m\u001b[0m\n\u001b[1;32m    134\u001b[0m \u001b[0;34m\u001b[0m\u001b[0m\n",
            "\u001b[0;31mRuntimeError\u001b[0m: Trying to backward through the graph a second time, but the saved intermediate results have already been freed. Specify retain_graph=True when calling backward the first time."
          ]
        }
      ]
    },
    {
      "cell_type": "markdown",
      "metadata": {
        "id": "r3ci6zXK1r_k"
      },
      "source": [
        "> **Exercise**: Complete the following code, in which given the tensor $u$ (of size $10\\times1$), you have to evaluate the gradient of $y=u^T~u$ w.r.t. every component of $u$. Does it coincide with the analytical solution?"
      ]
    },
    {
      "cell_type": "code",
      "metadata": {
        "id": "xtz71-b01r_k",
        "colab": {
          "base_uri": "https://localhost:8080/",
          "height": 265
        },
        "outputId": "fddb0581-e8ec-4b5c-9329-054263c25b2c"
      },
      "source": [
        "u = torch.randn(10, 1, requires_grad=True)\n",
        "\n",
        "#YOUR CODE HERE (2 lines of code)\n",
        "y = torch.matmul(u.T,u)\n",
        "y.backward()\n",
        "\n",
        "# Turn off gradients for validation, saves memory and computations\n",
        "with torch.no_grad():\n",
        "    plt.stem(u.grad.numpy(), label='Autograd', use_line_collection=True)\n",
        "    plt.plot(2*u.detach().numpy(), '-g', label='$2x$')\n",
        "    plt.grid()\n",
        "    plt.legend()\n",
        "\n",
        "#esto ultimo plot es obvio como y = u*u pues la derivada es simplemente 2*u, de ahi que veamos\n",
        "#que son iguales"
      ],
      "execution_count": null,
      "outputs": [
        {
          "output_type": "display_data",
          "data": {
            "image/png": "[encoded data removed]",
            "text/plain": [
              "<Figure size 432x288 with 1 Axes>"
            ]
          },
          "metadata": {
            "tags": [],
            "image/png": {
              "width": 380,
              "height": 248
            },
            "needs_background": "light"
          }
        }
      ]
    },
    {
      "cell_type": "markdown",
      "metadata": {
        "id": "3mzGdqVs1r_k"
      },
      "source": [
        "`.detach()` method constructs a new view on a tensor which is declared not to need gradients. You can see a nice example in this [link](http://www.bnikolic.co.uk/blog/pytorch-detach.html). Typically, we will use detach to export values to numpy to perform model evaluation. In Pytorch, you cannot call the `.numpy()` operators in Tensor that has `require_grad=True`.\n",
        "\n",
        "An important aspects to implement Gradient Descent Loops is that if call again the `.backward()` operator, then **gradients are accumulated** in the variable `x.grad`. \n",
        "\n",
        "If we recompute `y`, we can check that gradients are accumulated by calling again `y.backward()` "
      ]
    },
    {
      "cell_type": "code",
      "metadata": {
        "id": "y2O6xmEY1r_k",
        "colab": {
          "base_uri": "https://localhost:8080/",
          "height": 282
        },
        "outputId": "a2751aa8-9ec6-4eb7-84b1-3d8b4a97457b"
      },
      "source": [
        "y = torch.matmul(u.view(1, 10), u)\n",
        "y.backward()\n",
        "\n",
        "plt.stem(u.grad.numpy(), label='Autograd', use_line_collection=True)\n",
        "plt.plot(2*u.detach().numpy(), '-g', label='$2x$')\n",
        "plt.plot(4*u.detach().numpy(), '-b', label='$4x$')\n",
        "plt.grid()\n",
        "plt.legend()"
      ],
      "execution_count": null,
      "outputs": [
        {
          "output_type": "execute_result",
          "data": {
            "text/plain": [
              "<matplotlib.legend.Legend at 0x7f6a6b8fddd8>"
            ]
          },
          "metadata": {
            "tags": []
          },
          "execution_count": 138
        },
        {
          "output_type": "display_data",
          "data": {
            "image/png": "[encoded data removed]",
            "text/plain": [
              "<Figure size 432x288 with 1 Axes>"
            ]
          },
          "metadata": {
            "tags": [],
            "image/png": {
              "width": 370,
              "height": 248
            },
            "needs_background": "light"
          }
        }
      ]
    },
    {
      "cell_type": "code",
      "metadata": {
        "colab": {
          "base_uri": "https://localhost:8080/"
        },
        "id": "XxmASdN6-x97",
        "outputId": "d270d807-6a5e-4fcb-e008-65e66b2ec64b"
      },
      "source": [
        "print(u)"
      ],
      "execution_count": null,
      "outputs": [
        {
          "output_type": "stream",
          "text": [
            "tensor([[-0.4326],\n",
            "        [ 0.2354],\n",
            "        [ 0.3529],\n",
            "        [-0.3652],\n",
            "        [-0.7968],\n",
            "        [-0.1062],\n",
            "        [ 0.0111],\n",
            "        [-0.7301],\n",
            "        [-0.2239],\n",
            "        [ 0.7855]], requires_grad=True)\n"
          ],
          "name": "stdout"
        }
      ]
    },
    {
      "cell_type": "markdown",
      "metadata": {
        "id": "QV91kxX31r_l"
      },
      "source": [
        "To **reset gradients**, Pytorch optimizers provide us with the appropiate method."
      ]
    },
    {
      "cell_type": "markdown",
      "metadata": {
        "id": "JqHyhCf11r_l"
      },
      "source": [
        "## Part IV. Train the logistic regressor with the complete dataset\n",
        "\n",
        "When we create a network with PyTorch, all of the parameters are initialized with `requires_grad = True`. This means that when we calculate the loss and call `loss.backward()`, the gradients for the parameters are calculated. These gradients are used to update the weights with gradient descent. Below you can see an example of calculating the gradients using a backward pass."
      ]
    },
    {
      "cell_type": "code",
      "metadata": {
        "id": "ndl4k2Sp1r_l"
      },
      "source": [
        "# We use all data points  \n",
        "\n",
        "x = np.array(train_data).astype(np.float32)\n",
        "# Last Column is the class\n",
        "y = x[:, -1]  \n",
        "x = x[:, :-1]"
      ],
      "execution_count": null,
      "outputs": []
    },
    {
      "cell_type": "code",
      "metadata": {
        "id": "yMPBDj9j1r_l"
      },
      "source": [
        "output = my_classifier.forward(torch.tensor(x))\n",
        "\n",
        "loss = bce(output,torch.tensor(y).view(output.shape[0],1))\n",
        "\n",
        "loss.backward()\n",
        "\n",
        "print(my_classifier.output.weight.grad.shape)"
      ],
      "execution_count": null,
      "outputs": []
    },
    {
      "cell_type": "markdown",
      "metadata": {
        "id": "O9IVrEgQ1r_l"
      },
      "source": [
        "### Defining an optimizer\n",
        "\n",
        "There's one last piece we need to start training, an optimizer that we'll use to update the weights with the gradients. We get these from PyTorch's [`optim` package](https://pytorch.org/docs/stable/optim.html). For example we can use stochastic gradient descent with `optim.SGD`. You can see how to define an optimizer below.\n",
        "\n",
        "With the following code, we can define the optimizer:\n"
      ]
    },
    {
      "cell_type": "code",
      "metadata": {
        "id": "Argl9DFs1r_l"
      },
      "source": [
        "from torch import optim\n",
        "\n",
        "# Optimizers require the parameters to optimize and a learning rate\n",
        "optimizer = optim.SGD(my_classifier.parameters(), lr=0.01)"
      ],
      "execution_count": null,
      "outputs": []
    },
    {
      "cell_type": "markdown",
      "metadata": {
        "id": "dYm6wrF31r_l"
      },
      "source": [
        "To perform a SGD iteration, we simply call `optmizer.step()`\n",
        "\n",
        "\n",
        "By the way, `my_classifier.parameters()` returns a [generator object](https://realpython.com/introduction-to-python-generators/). Namely, a list with all the parameters that you read one by one or iterate through a for loop."
      ]
    },
    {
      "cell_type": "code",
      "metadata": {
        "id": "7PEipYkR1r_m"
      },
      "source": [
        "params = my_classifier.parameters()\n",
        "\n",
        "print(type(params))\n",
        "# We print the first set of parameters (weight vector)\n",
        "print(next(params))\n",
        "# We print the second set of parameters (the bias)\n",
        "print(next(params))"
      ],
      "execution_count": null,
      "outputs": []
    },
    {
      "cell_type": "markdown",
      "metadata": {
        "id": "gj0h4QLB1r_m"
      },
      "source": [
        "If we call again the method `next()` over params, Python will yield a `StopIteration` error:"
      ]
    },
    {
      "cell_type": "code",
      "metadata": {
        "id": "xvNHcQfZ1r_m"
      },
      "source": [
        "print(next(params))"
      ],
      "execution_count": null,
      "outputs": []
    },
    {
      "cell_type": "markdown",
      "metadata": {
        "id": "5i2-LWW11r_m"
      },
      "source": [
        "## Creating a class with both the network and a training method\n",
        "\n",
        "Object Oriented Programming (OOP) in Python is a versatil and convenient method to implement our own software and create reusable sofware. Indeed, along this whole notebook, we have been using classes all the time.\n",
        "\n",
        "[Here](https://www.programiz.com/python-programming/object-oriented-programming) you can find a short introduction to OOP in Python.\n",
        "\n",
        "With the following code, we will define a class that incorporates the definition of the logistic regression network and **a method to train the parameters**. Go carefully through the code and try to understand it line by line."
      ]
    },
    {
      "cell_type": "code",
      "metadata": {
        "id": "DHBgDWCj1r_m"
      },
      "source": [
        "''' This class inherits from the LR_compact class. So it has the same atributes\n",
        "and methods, and some others that we will add. \n",
        "'''\n",
        "class LR_extended(LR_compact):\n",
        "    \n",
        "    def __init__(self, dimx, sgd_iterations=1000, lr=0.001, print_every=200):\n",
        "        \n",
        "        super().__init__(dimx)  #To initialize LR_compact!\n",
        "        \n",
        "        self.lr = lr #Learning Rate\n",
        "        \n",
        "        self.optim = optim.SGD(self.parameters(), self.lr)\n",
        "        \n",
        "        self.sgd_iterations = sgd_iterations #SGD steps\n",
        "        \n",
        "        self.criterion = nn.BCELoss()\n",
        "        \n",
        "        # A list to store the loss evolution along training\n",
        "        \n",
        "        self.loss_during_training = [] \n",
        "        \n",
        "        self.print_every = print_every\n",
        "        \n",
        "    def train(self,x,y):\n",
        "        \n",
        "        # SGD Loop\n",
        "        \n",
        "        for iter in range(int(self.sgd_iterations)):\n",
        "        \n",
        "            self.optim.zero_grad()  #TO RESET GRADIENTS!\n",
        "\n",
        "            out = self.forward(x)\n",
        "\n",
        "            loss = self.criterion(out, y.view(x.shape[0], 1))\n",
        "\n",
        "            self.loss_during_training.append(loss.item())\n",
        "\n",
        "            loss.backward()\n",
        "\n",
        "            self.optim.step()\n",
        "        \n",
        "            if(iter % self.print_every == 0): # Every 1000 iterations\n",
        "                \n",
        "                print(\"Training loss after %d iterations: %f\" \n",
        "                      %(iter,self.loss_during_training[-1]))\n",
        "        "
      ],
      "execution_count": null,
      "outputs": []
    },
    {
      "cell_type": "markdown",
      "metadata": {
        "id": "hc4Alx0H1r_m"
      },
      "source": [
        "Lets instantiate the class and train the logistic regressor. See how compact and easy is now (OOP is great!)."
      ]
    },
    {
      "cell_type": "code",
      "metadata": {
        "id": "Vq-nmrYU1r_m"
      },
      "source": [
        "my_LR = LR_extended(x.shape[1], sgd_iterations=3000, lr=0.001)\n",
        "\n",
        "my_LR.train(torch.tensor(x), torch.tensor(y))"
      ],
      "execution_count": null,
      "outputs": []
    },
    {
      "cell_type": "markdown",
      "metadata": {
        "id": "PesJPfXW1r_n"
      },
      "source": [
        "Note that if you believe that training isn't finished yet, you can simply call again the `.train()` method."
      ]
    },
    {
      "cell_type": "code",
      "metadata": {
        "id": "jxQRpTRL1r_n"
      },
      "source": [
        "my_LR.train(torch.tensor(x), torch.tensor(y))"
      ],
      "execution_count": null,
      "outputs": []
    },
    {
      "cell_type": "markdown",
      "metadata": {
        "id": "c_CdoIc21r_n"
      },
      "source": [
        "> **Exercise**: Train from scratch the logistic regressor for 20.000 iterations and plot the evolution of the binary cross entropy loss."
      ]
    },
    {
      "cell_type": "code",
      "metadata": {
        "id": "5uQ8chTj1r_n"
      },
      "source": [
        "# YOUR CODE HERE\n"
      ],
      "execution_count": null,
      "outputs": []
    },
    {
      "cell_type": "markdown",
      "metadata": {
        "id": "ZehFIM671r_n"
      },
      "source": [
        "> **Exercise**: Print all model parameters (e.g. weights and bias)"
      ]
    },
    {
      "cell_type": "code",
      "metadata": {
        "id": "9z5gub5s1r_n"
      },
      "source": [
        "# YOUR CODE HERE\n"
      ],
      "execution_count": null,
      "outputs": []
    },
    {
      "cell_type": "markdown",
      "metadata": {
        "id": "br5qhm4b1r_n"
      },
      "source": [
        "#### Evaluating the model in the test set\n",
        "\n",
        "Now that we have trained our logistic regressor, it is time to compare its performance in both the training and the test sets.\n",
        "\n",
        "> **Exercise**: Compute the logistic regressor output for both the training data and the test data."
      ]
    },
    {
      "cell_type": "code",
      "metadata": {
        "id": "grNuF2i_1r_n"
      },
      "source": [
        "out_train = my_LR.forward(torch.tensor(x))\n",
        "\n",
        "# YOUR CODE HERE\n"
      ],
      "execution_count": null,
      "outputs": []
    },
    {
      "cell_type": "markdown",
      "metadata": {
        "id": "2tClWc0i1r_o"
      },
      "source": [
        "Recall that the logistic regressor output is an estimated class probability. Assuming we put the threshold at a probability of 0.5, lets count the number of correct predictions in both sets."
      ]
    },
    {
      "cell_type": "code",
      "metadata": {
        "id": "4qckPM-b1r_o"
      },
      "source": [
        "accuracy_rate_train = np.sum((out_train.detach().numpy()>=0.5) \n",
        "                          == y.reshape([-1, 1]))/y.shape[0]\n",
        "\n",
        "accuracy_rate_test = np.sum((out_test.detach().numpy()>=0.5) \n",
        "                         == ytest.reshape([-1, 1]))/ytest.shape[0]\n",
        "\n",
        "print(accuracy_rate_train)\n",
        "\n",
        "print(accuracy_rate_test)"
      ],
      "execution_count": null,
      "outputs": []
    },
    {
      "cell_type": "markdown",
      "metadata": {
        "id": "j5Y1OzTt1r_o"
      },
      "source": [
        "## Part V. Training a Logistic Regressor with mini-batch stochastic gradient descent\n",
        "\n",
        "Finally, we are going to implement an scalable version of the gradient descent training implemented above. At every iteration, instead of evaluating the gradient using all data points, a small minibatch of data will be used.\n",
        "\n",
        "To make sure that all training data points are evenly used to evaluate the gradient, we will use a short iterating function. Instead of predefining a certain number of SGD iterations, we define a certain number of **epochs**. After every epoch **all datapoints** have been used in the optimizer once. \n",
        "\n",
        "\n",
        "> **Exercise**: Complete the code for the following class"
      ]
    },
    {
      "cell_type": "code",
      "metadata": {
        "id": "k21sLkZA1r_o"
      },
      "source": [
        "''' This class inherits from the LR_compact class. So it has the same atributes\n",
        "and methods, and some others that we will add. \n",
        "'''\n",
        "class LR_stochastic(LR_compact):\n",
        "    \n",
        "    def __init__(self, dimx, num_train_data,\n",
        "                 epochs=100, lr=0.001, batch_size=50, print_every=20):\n",
        "        \n",
        "        super().__init__(dimx)  #To initialize LR2!\n",
        "        \n",
        "        self.lr = lr #Learning Rate\n",
        "        \n",
        "        self.optim = optim.SGD(self.parameters(), self.lr)\n",
        "        \n",
        "        self.epochs = epochs\n",
        "        \n",
        "        self.print_every = print_every  # Print loss every \n",
        "        \n",
        "        self.criterion = nn.BCELoss()\n",
        "        \n",
        "        # A list to store the loss evolution along training\n",
        "        \n",
        "        self.loss_during_training = [] \n",
        "        \n",
        "        self.batch_size = batch_size\n",
        "        \n",
        "        self.num_train = num_train_data\n",
        "        \n",
        "        self.num_batchs = np.floor(self.num_train/self.batch_size)\n",
        "        \n",
        "        \n",
        "    def train(self, x, y):\n",
        "        \n",
        "        # SGD Loop\n",
        "        \n",
        "        for e in range(int(self.epochs)):\n",
        "            \n",
        "            # Random data permutation at each epoch\n",
        "            \n",
        "            idx = np.random.permutation(self.num_train)\n",
        "            \n",
        "            running_loss = 0.\n",
        "            \n",
        "            for i in range(int(self.num_batchs)):\n",
        "        \n",
        "                self.optim.zero_grad()  #TO RESET GRADIENTS!\n",
        "            \n",
        "                # Indexes of the datapoints that enter the batch\n",
        "            \n",
        "                idx_batch = idx[i*self.batch_size:(i+1)*self.batch_size]\n",
        "\n",
        "                out = self.forward(x[idx_batch,:]) \n",
        "\n",
        "                \n",
        "                loss = #YOUR CODE HERE\n",
        "\n",
        "\n",
        "                running_loss += loss.item()\n",
        "\n",
        "                #YOUR CODE HERE. Compute gradients\n",
        "                \n",
        "                \n",
        "                #YOUR CODE HERE. Perform one SGD step\n",
        "                self.optim.step()\n",
        "                \n",
        "            self.loss_during_training.append(running_loss/self.num_batchs)\n",
        "\n",
        "            if(e % self.print_every == 0): \n",
        "\n",
        "                print(\"Training loss after %d epochs: %f\" \n",
        "                      %(e,self.loss_during_training[-1]))\n"
      ],
      "execution_count": null,
      "outputs": []
    },
    {
      "cell_type": "markdown",
      "metadata": {
        "id": "UPbsTydP1r_o"
      },
      "source": [
        "> **Exercise**: Train a logistic regressor with minibatch-stochastic gradient descent with different batch sizes (10,20,50 and 100) and plot the evolution of the loss function for all cases in the same plot. \n",
        "Also, compare with the evolution of the loss function when all data is used. Note that when all datapoints are used, every GD iteration correspond to a **full epoch**. Explain the results.\n",
        ">\n",
        "> Finally, observe if in all cases the parameters of the models (weights and biases) are similar."
      ]
    },
    {
      "cell_type": "code",
      "metadata": {
        "id": "F1tqjCYj1r_o"
      },
      "source": [
        "#YOUR CODE HERE\n"
      ],
      "execution_count": null,
      "outputs": []
    },
    {
      "cell_type": "markdown",
      "metadata": {
        "id": "5JV8Ihd71r_o"
      },
      "source": [
        "> **Exercise**: Add a method to the above class that evaluates the classification accuracy rate for a given set of data points and the corresponding labels. Hint: we have done this previously in the notebook, you only  have to encapsulate it in the class as a new method.\n",
        ">\n",
        ">Recall to disable gradient computation for these computations (it saves time and operations!)\n",
        ">\n",
        "> Then, train the model, plot the loss function per epoch and print the accuracy rate."
      ]
    },
    {
      "cell_type": "code",
      "metadata": {
        "id": "uz9MO8NT1r_o"
      },
      "source": [
        "#YOUR CODE HERE\n"
      ],
      "execution_count": null,
      "outputs": []
    },
    {
      "cell_type": "code",
      "metadata": {
        "id": "D4oHIslL1r_p"
      },
      "source": [
        ""
      ],
      "execution_count": null,
      "outputs": []
    },
    {
      "cell_type": "markdown",
      "metadata": {
        "id": "xSpq3sHu1r_p"
      },
      "source": [
        "## Part VI. Regularize the model weights"
      ]
    },
    {
      "cell_type": "markdown",
      "metadata": {
        "id": "h1tThfPm1r_p"
      },
      "source": [
        "> **Exercise**: Implement a class for regularized logistic regression, in which you penalize the $L_2$ norm of the weights (do not penalize for the bias). Use a pre-defined regularization parameter that you specify when instantiate the class.\n",
        ">\n",
        "> Recall that $L_2$ is simply the sum of the squared elements of a vector.  For a given tensor `u` you can get this \n",
        "> norm by calling `torch.norm(u)`, which returns the squared-root of the norm. The idea is that you add this norm to the loss function, with a regularization parameter $\\lambda$:\n",
        ">\n",
        "> $$\\mathcal{L}_{reg} = \\mathcal{L}_{BCE} + \\lambda ||\\mathbf{w}||^2_2$$\n",
        ">\n",
        "> Train the model with SGD and compare the train/test performance as you vary $\\lambda$. Hint: Since in this case the unregularized LR model performs really well on both train and test datasets, there is actually no need for   regularization. So do not expect much improvement, rather the contrary. We will reuse this code in future projects.\n",
        ">\n",
        "> Explain the differences you see when changing the value of $\\lambda$.\n",
        "\n"
      ]
    },
    {
      "cell_type": "code",
      "metadata": {
        "id": "tSvzXIfd1r_p"
      },
      "source": [
        "#YOUR CODE HERE\n"
      ],
      "execution_count": null,
      "outputs": []
    },
    {
      "cell_type": "code",
      "metadata": {
        "id": "0HcSdhT21r_p"
      },
      "source": [
        ""
      ],
      "execution_count": null,
      "outputs": []
    },
    {
      "cell_type": "code",
      "metadata": {
        "id": "wylWQoF11r_p"
      },
      "source": [
        ""
      ],
      "execution_count": null,
      "outputs": []
    },
    {
      "cell_type": "code",
      "metadata": {
        "id": "X9xJq7m_1r_p"
      },
      "source": [
        ""
      ],
      "execution_count": null,
      "outputs": []
    }
  ]
}